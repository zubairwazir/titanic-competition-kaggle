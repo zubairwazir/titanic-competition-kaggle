{
  "nbformat": 4,
  "nbformat_minor": 0,
  "metadata": {
    "colab": {
      "name": "Titanic_competition.ipynb",
      "provenance": [],
      "collapsed_sections": [],
      "include_colab_link": true
    },
    "kernelspec": {
      "name": "python3",
      "display_name": "Python 3"
    },
    "language_info": {
      "name": "python"
    }
  },
  "cells": [
    {
      "cell_type": "markdown",
      "metadata": {
        "id": "view-in-github",
        "colab_type": "text"
      },
      "source": [
        "<a href=\"https://colab.research.google.com/github/zubairwazir/titanic-competition-kaggle/blob/master/Titanic_competition.ipynb\" target=\"_parent\"><img src=\"https://colab.research.google.com/assets/colab-badge.svg\" alt=\"Open In Colab\"/></a>"
      ]
    },
    {
      "cell_type": "markdown",
      "metadata": {
        "id": "9U5JW-zRw8dD"
      },
      "source": [
        "# **Titanic - Machine Learning from Disaster**\n",
        "\n",
        "Titanic Dataset from Kaggle Competition"
      ]
    },
    {
      "cell_type": "code",
      "metadata": {
        "id": "O8oiORkwwX9N"
      },
      "source": [
        "import sys\n",
        "import io\n",
        "import pdb\n",
        "import numpy as np\n",
        "import pandas as pd\n",
        "import seaborn as sns\n",
        "import matplotlib.pyplot as plt\n",
        "from sklearn.model_selection import train_test_split\n",
        "from sklearn.metrics import mean_absolute_error\n",
        "from sklearn.ensemble import RandomForestClassifier\n",
        "from sklearn.model_selection import KFold, RepeatedKFold\n",
        "from sklearn.linear_model import LogisticRegression \n",
        "from sklearn.dummy import DummyClassifier\n",
        "from sklearn.metrics import accuracy_score\n",
        "from sklearn.tree import DecisionTreeClassifier\n",
        "from sklearn import tree\n",
        "import xgboost as xgb\n",
        "from google.colab import files\n",
        "import re"
      ],
      "execution_count": 1,
      "outputs": []
    },
    {
      "cell_type": "markdown",
      "metadata": {
        "id": "mSXDeOp53hIR"
      },
      "source": [
        "# **Loading CSV files into Colab from a local drive**"
      ]
    },
    {
      "cell_type": "code",
      "metadata": {
        "id": "DTHUruKB3h1i",
        "colab": {
          "resources": {
            "http://localhost:8080/nbextensions/google.colab/files.js": {
              "data": "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",
              "ok": true,
              "headers": [
                [
                  "content-type",
                  "application/javascript"
                ]
              ],
              "status": 200,
              "status_text": ""
            }
          },
          "base_uri": "https://localhost:8080/",
          "height": 128
        },
        "outputId": "10e8ebbd-15cc-4cfb-d0e2-52f01ccdeef1"
      },
      "source": [
        "try:\n",
        "  train_data = pd.read_csv('train.csv')  \n",
        "except:\n",
        "  uploaded = files.upload()\n",
        "  train_data = pd.read_csv('train.csv')\n",
        "\n",
        "try:\n",
        "  test_data = pd.read_csv('test.csv')\n",
        "except:\n",
        "  uploaded = files.upload()\n",
        "  test_data = pd.read_csv(io.BytesIO(uploaded['test.csv']))"
      ],
      "execution_count": 2,
      "outputs": [
        {
          "output_type": "display_data",
          "data": {
            "text/plain": [
              "<IPython.core.display.HTML object>"
            ],
            "text/html": [
              "\n",
              "     <input type=\"file\" id=\"files-46b10ee7-647e-49fd-b31c-dedb97754420\" name=\"files[]\" multiple disabled\n",
              "        style=\"border:none\" />\n",
              "     <output id=\"result-46b10ee7-647e-49fd-b31c-dedb97754420\">\n",
              "      Upload widget is only available when the cell has been executed in the\n",
              "      current browser session. Please rerun this cell to enable.\n",
              "      </output>\n",
              "      <script src=\"/nbextensions/google.colab/files.js\"></script> "
            ]
          },
          "metadata": {}
        },
        {
          "output_type": "stream",
          "name": "stdout",
          "text": [
            "Saving train.csv to train.csv\n"
          ]
        },
        {
          "output_type": "display_data",
          "data": {
            "text/plain": [
              "<IPython.core.display.HTML object>"
            ],
            "text/html": [
              "\n",
              "     <input type=\"file\" id=\"files-847cdbda-351b-4c14-a3a2-4bef87a39f5d\" name=\"files[]\" multiple disabled\n",
              "        style=\"border:none\" />\n",
              "     <output id=\"result-847cdbda-351b-4c14-a3a2-4bef87a39f5d\">\n",
              "      Upload widget is only available when the cell has been executed in the\n",
              "      current browser session. Please rerun this cell to enable.\n",
              "      </output>\n",
              "      <script src=\"/nbextensions/google.colab/files.js\"></script> "
            ]
          },
          "metadata": {}
        },
        {
          "output_type": "stream",
          "name": "stdout",
          "text": [
            "Saving test.csv to test.csv\n"
          ]
        }
      ]
    },
    {
      "cell_type": "markdown",
      "metadata": {
        "id": "g0l6pM3AZsBk"
      },
      "source": [
        "# **EDA step**\n",
        "\n",
        "> **Total de dados:** 891 registros\\\n",
        "> **Total de features:** 12 features\\\n",
        "> **Feature alvo:** Survived\n",
        "\n",
        "* Cada registro representa um passageiro do Titanic.\n",
        "\n",
        "* A feature alvo (Survived) indica se um determinado passageiro sobreviveu ou não ao naufrágio. \n",
        "\n",
        "* Survived é utilizada na formulação do problema de ML, que visa prever se um determinado passageiro sobreviveu ou não considerando os outros 11 atributos do dataset.\n",
        "\n",
        "**Missing values:**\n",
        "\n",
        "* **Train dataset:** features Age, Cabin, Embarked\n",
        "\n",
        "* **Test dataset:** features Age, Fare, Cabin"
      ]
    },
    {
      "cell_type": "code",
      "metadata": {
        "colab": {
          "base_uri": "https://localhost:8080/"
        },
        "id": "Wf1T4BnS4mrh",
        "outputId": "4abb63b0-2e75-4c7b-d851-326b84cfab52"
      },
      "source": [
        "print(train_data.head())\n",
        "print(test_data.head())\n",
        "\n",
        "#print(train_data.shape)\n",
        "#print(train_data.tail())\n",
        "#print(train_data.columns)\n",
        "#print(train_data.describe())\n",
        "print(train_data.info())\n",
        "#print(train_data.isnull().sum())\n",
        "\n",
        "print(test_data.info())"
      ],
      "execution_count": 3,
      "outputs": [
        {
          "output_type": "stream",
          "name": "stdout",
          "text": [
            "   PassengerId  Survived  Pclass  \\\n",
            "0            1         0       3   \n",
            "1            2         1       1   \n",
            "2            3         1       3   \n",
            "3            4         1       1   \n",
            "4            5         0       3   \n",
            "\n",
            "                                                Name     Sex   Age  SibSp  \\\n",
            "0                            Braund, Mr. Owen Harris    male  22.0      1   \n",
            "1  Cumings, Mrs. John Bradley (Florence Briggs Th...  female  38.0      1   \n",
            "2                             Heikkinen, Miss. Laina  female  26.0      0   \n",
            "3       Futrelle, Mrs. Jacques Heath (Lily May Peel)  female  35.0      1   \n",
            "4                           Allen, Mr. William Henry    male  35.0      0   \n",
            "\n",
            "   Parch            Ticket     Fare Cabin Embarked  \n",
            "0      0         A/5 21171   7.2500   NaN        S  \n",
            "1      0          PC 17599  71.2833   C85        C  \n",
            "2      0  STON/O2. 3101282   7.9250   NaN        S  \n",
            "3      0            113803  53.1000  C123        S  \n",
            "4      0            373450   8.0500   NaN        S  \n",
            "   PassengerId  Pclass                                          Name     Sex  \\\n",
            "0          892       3                              Kelly, Mr. James    male   \n",
            "1          893       3              Wilkes, Mrs. James (Ellen Needs)  female   \n",
            "2          894       2                     Myles, Mr. Thomas Francis    male   \n",
            "3          895       3                              Wirz, Mr. Albert    male   \n",
            "4          896       3  Hirvonen, Mrs. Alexander (Helga E Lindqvist)  female   \n",
            "\n",
            "    Age  SibSp  Parch   Ticket     Fare Cabin Embarked  \n",
            "0  34.5      0      0   330911   7.8292   NaN        Q  \n",
            "1  47.0      1      0   363272   7.0000   NaN        S  \n",
            "2  62.0      0      0   240276   9.6875   NaN        Q  \n",
            "3  27.0      0      0   315154   8.6625   NaN        S  \n",
            "4  22.0      1      1  3101298  12.2875   NaN        S  \n",
            "<class 'pandas.core.frame.DataFrame'>\n",
            "RangeIndex: 891 entries, 0 to 890\n",
            "Data columns (total 12 columns):\n",
            " #   Column       Non-Null Count  Dtype  \n",
            "---  ------       --------------  -----  \n",
            " 0   PassengerId  891 non-null    int64  \n",
            " 1   Survived     891 non-null    int64  \n",
            " 2   Pclass       891 non-null    int64  \n",
            " 3   Name         891 non-null    object \n",
            " 4   Sex          891 non-null    object \n",
            " 5   Age          714 non-null    float64\n",
            " 6   SibSp        891 non-null    int64  \n",
            " 7   Parch        891 non-null    int64  \n",
            " 8   Ticket       891 non-null    object \n",
            " 9   Fare         891 non-null    float64\n",
            " 10  Cabin        204 non-null    object \n",
            " 11  Embarked     889 non-null    object \n",
            "dtypes: float64(2), int64(5), object(5)\n",
            "memory usage: 83.7+ KB\n",
            "None\n",
            "<class 'pandas.core.frame.DataFrame'>\n",
            "RangeIndex: 418 entries, 0 to 417\n",
            "Data columns (total 11 columns):\n",
            " #   Column       Non-Null Count  Dtype  \n",
            "---  ------       --------------  -----  \n",
            " 0   PassengerId  418 non-null    int64  \n",
            " 1   Pclass       418 non-null    int64  \n",
            " 2   Name         418 non-null    object \n",
            " 3   Sex          418 non-null    object \n",
            " 4   Age          332 non-null    float64\n",
            " 5   SibSp        418 non-null    int64  \n",
            " 6   Parch        418 non-null    int64  \n",
            " 7   Ticket       418 non-null    object \n",
            " 8   Fare         417 non-null    float64\n",
            " 9   Cabin        91 non-null     object \n",
            " 10  Embarked     418 non-null    object \n",
            "dtypes: float64(2), int64(4), object(5)\n",
            "memory usage: 36.0+ KB\n",
            "None\n"
          ]
        }
      ]
    },
    {
      "cell_type": "markdown",
      "metadata": {
        "id": "SB-D2eAN8dcL"
      },
      "source": [
        "**Análise das features mais relevantes:**\n",
        "\n",
        "> **Feature Survived:** Indica se o passageiro sobreviveu ou não ao naufrágio.\n",
        "\n",
        "* Sem dados faltantes.\n",
        "* Valores desbalanceados, onde 62% (549) das pessoas morreram e 38% (342) sobreviveram.\n",
        "* Nota-se que a sobrevivência está relacionada ao número de botes e coletes salva-vidas disponíveis no navio. Fica evidente que não havia material de resgate para todos os passageiros. \n",
        "* Considera-se também alguns casos onde as pessoas não conseguiram chegar à área externa, permanecendo presas dentro do navio."
      ]
    },
    {
      "cell_type": "code",
      "metadata": {
        "colab": {
          "base_uri": "https://localhost:8080/",
          "height": 558
        },
        "id": "9NHhQo-0ltBb",
        "outputId": "6c85864c-1db7-4a52-d447-db54a00d0ba2"
      },
      "source": [
        "var='Survived' #indica se a pessoa sobreviveu ou não\n",
        "print('Total de valores da feature %s:\\n%s\\n' % (var, train_data[var].value_counts()))\n",
        "print('Porcentagem total de valores da feature %s:\\n%s\\n' % (var, train_data[var].value_counts(normalize=True))) #feature com valores desbalanceados, onde 62% das pessoas morreram\n",
        "print('Classes de valores únicos da feature %s:\\n%s\\n'  % (var, train_data[var].unique())) #descrição dos valores únicos da feature\n",
        "\n",
        "ax=train_data[var].value_counts().plot.bar()\n",
        "ax.set_title('Distribuição de valores para a feature '+var)\n",
        "ax.set_ylabel('Number of People')\n",
        "ax.set_xticklabels(labels=['Died', 'Survived'])"
      ],
      "execution_count": 4,
      "outputs": [
        {
          "output_type": "stream",
          "name": "stdout",
          "text": [
            "Total de valores da feature Survived:\n",
            "0    549\n",
            "1    342\n",
            "Name: Survived, dtype: int64\n",
            "\n",
            "Porcentagem total de valores da feature Survived:\n",
            "0    0.616162\n",
            "1    0.383838\n",
            "Name: Survived, dtype: float64\n",
            "\n",
            "Classes de valores únicos da feature Survived:\n",
            "[0 1]\n",
            "\n"
          ]
        },
        {
          "output_type": "execute_result",
          "data": {
            "text/plain": [
              "[Text(0, 0, 'Died'), Text(0, 0, 'Survived')]"
            ]
          },
          "metadata": {},
          "execution_count": 4
        },
        {
          "output_type": "display_data",
          "data": {
            "text/plain": [
              "<Figure size 432x288 with 1 Axes>"
            ],
            "image/png": "[encoded data removed]"
          },
          "metadata": {
            "needs_background": "light"
          }
        }
      ]
    },
    {
      "cell_type": "markdown",
      "metadata": {
        "id": "E2YJDbz68kEo"
      },
      "source": [
        "> **Feature Sex:**\n",
        "\n",
        "* Sem dados faltantes.\n",
        "* Valores desbalanceados, onde 65% (577) das pessoas eram homens e 35% (314) eram mulheres.\n",
        "\n",
        "> **Q1: Sabe-se que mulheres e crianças tenderam a serem salvas primeiro. Existe relação entre as pessoas que não sobreviveram e o sexo masculino?**"
      ]
    },
    {
      "cell_type": "code",
      "metadata": {
        "colab": {
          "base_uri": "https://localhost:8080/",
          "height": 563
        },
        "id": "7w9_xaVCpW5V",
        "outputId": "83df220d-6414-4eb7-db10-d5810ab3db5e"
      },
      "source": [
        "var='Sex'\n",
        "print('Total de valores da feature %s:\\n%s\\n' % (var, train_data[var].value_counts()))\n",
        "print('Porcentagem total de valores da feature %s:\\n%s\\n' % (var, train_data[var].value_counts(normalize=True))) #feature com valores desbalanceados, onde 65% das pessoas eram homens\n",
        "print('Classes de valores únicos da feature %s:\\n%s\\n'  % (var, train_data[var].unique())) #descrição dos valores únicos da feature\n",
        "ax=train_data[var].value_counts().plot.bar()\n",
        "ax.set_title('Distribuição de valores para a feature '+var)\n",
        "ax.set_xlabel('Sex')\n",
        "ax.set_ylabel('Number of People')"
      ],
      "execution_count": 5,
      "outputs": [
        {
          "output_type": "stream",
          "name": "stdout",
          "text": [
            "Total de valores da feature Sex:\n",
            "male      577\n",
            "female    314\n",
            "Name: Sex, dtype: int64\n",
            "\n",
            "Porcentagem total de valores da feature Sex:\n",
            "male      0.647587\n",
            "female    0.352413\n",
            "Name: Sex, dtype: float64\n",
            "\n",
            "Classes de valores únicos da feature Sex:\n",
            "['male' 'female']\n",
            "\n"
          ]
        },
        {
          "output_type": "execute_result",
          "data": {
            "text/plain": [
              "Text(0, 0.5, 'Number of People')"
            ]
          },
          "metadata": {},
          "execution_count": 5
        },
        {
          "output_type": "display_data",
          "data": {
            "text/plain": [
              "<Figure size 432x288 with 1 Axes>"
            ],
            "image/png": "[encoded data removed]"
          },
          "metadata": {
            "needs_background": "light"
          }
        }
      ]
    },
    {
      "cell_type": "markdown",
      "metadata": {
        "id": "khikX7RT8m4i"
      },
      "source": [
        "> **Feature Age:**\n",
        "\n",
        "> Distribuição dos valores:\\\n",
        "**count:**     714\\\n",
        "**missing:**   177\\\n",
        "**mean:**      29.7 anos\\\n",
        "**std:**       14.5 anos\\\n",
        "**min:**      0.4 anos\\\n",
        "**25%:**       20.1 anos\\\n",
        "**50%:**       28 anos\\\n",
        "**75%:**      38 anos\\\n",
        "**max:**       80 anos\n",
        "\n",
        "* **Dados faltantes (177).**\n",
        "* Valores desbalanceados, variando entre 0.4 e 80 anos.\n",
        "* 50% das pessoas apresentam menos de 28 anos.\n",
        "* 75% das pessoas apresentam menos de 38 anos.\n",
        "* Maior concentração de pessoas com idades entre 18 e 40 anos.\n",
        "\n",
        "> * Porcentagem de pessoas com menos de 15 anos (crianças?):  8.75% (78)\n",
        "* Porcentagem de pessoas com menos de 18 anos:  12.68% (113)\n",
        "* Porcentagem de pessoas do sexo masculino com menos de 18 anos:  6.51% (58)\n",
        "* Porcentagem de pessoas do sexo feminino com menos de 18 anos:  6.17% (55)\n",
        "* Porcentagem de pessoas entre 18 e 40 anos:  50.62% (451)\n",
        "* Porcentagem de pessoas entre 41 e 65 anos:  15.71% (140)\n",
        "* Porcentagem de pessoas com mais de 65 anos:  0.9% (8)"
      ]
    },
    {
      "cell_type": "code",
      "metadata": {
        "colab": {
          "base_uri": "https://localhost:8080/",
          "height": 1000
        },
        "id": "aoLGayCDp9C7",
        "outputId": "14fc3d70-f5c2-44c9-dcf7-d339863b7563"
      },
      "source": [
        "var='Age'\n",
        "print('Total de valores da feature %s:\\n%s\\n' % (var, train_data[var].value_counts()))\n",
        "#print('Porcentagem total de valores da feature %s:\\n%s\\n' % (var, train_data[var].value_counts(normalize=True))) #feature com valores desbalanceados, maior concentração de pessoas com idades entre 20 e 40 anos\n",
        "print('Classes de valores únicos da feature %s:\\n%s\\n'  % (var, train_data[var].unique())) #descrição dos valores únicos da feature\n",
        "print(train_data[var].describe(), '\\n')\n",
        "ax=train_data[var].hist(bins=30)\n",
        "ax.set_title('Distribuição de valores para a feature '+var)\n",
        "ax.set_ylabel('Number of People')\n",
        "ax.set_xlabel('Age')\n",
        "\n",
        "print('Porcentagem de pessoas com menos de 15 anos (crianças?): ', len(train_data[train_data['Age']<15])/len(train_data)*100, len(train_data[train_data['Age']<15]))\n",
        "print('Porcentagem de pessoas com menos de 18 anos: ', len(train_data[train_data['Age']<18])/len(train_data)*100, len(train_data[train_data['Age']<18]))\n",
        "print('Porcentagem de pessoas do sexo masculino com menos de 18 anos: ', len(train_data[(train_data['Age']<18) & (train_data['Sex']=='male')])/len(train_data)*100, len(train_data[(train_data['Age']<18) & (train_data['Sex']=='male')]))\n",
        "print('Porcentagem de pessoas do sexo feminino com menos de 18 anos: ', len(train_data[(train_data['Age']<18) & (train_data['Sex']=='female')])/len(train_data)*100, len(train_data[(train_data['Age']<18) & (train_data['Sex']=='female')]))\n",
        "print('Porcentagem de pessoas entre 18 e 40 anos: ', len(train_data[(train_data['Age']>=18) & (train_data['Age']<=40)])/len(train_data)*100, len(train_data[(train_data['Age']>=18) & (train_data['Age']<=40)]))\n",
        "print('Porcentagem de pessoas entre 41 e 65 anos: ', len(train_data[(train_data['Age']>=41) & (train_data['Age']<=65)])/len(train_data)*100, len(train_data[(train_data['Age']>=41) & (train_data['Age']<=65)]))\n",
        "print('Porcentagem de pessoas com mais de 65 anos: ', len(train_data[(train_data['Age']>=66)])/len(train_data)*100, len(train_data[(train_data['Age']>=66)]))"
      ],
      "execution_count": 6,
      "outputs": [
        {
          "output_type": "stream",
          "name": "stdout",
          "text": [
            "Total de valores da feature Age:\n",
            "24.00    30\n",
            "22.00    27\n",
            "18.00    26\n",
            "19.00    25\n",
            "28.00    25\n",
            "         ..\n",
            "36.50     1\n",
            "55.50     1\n",
            "0.92      1\n",
            "23.50     1\n",
            "74.00     1\n",
            "Name: Age, Length: 88, dtype: int64\n",
            "\n",
            "Classes de valores únicos da feature Age:\n",
            "[22.   38.   26.   35.     nan 54.    2.   27.   14.    4.   58.   20.\n",
            " 39.   55.   31.   34.   15.   28.    8.   19.   40.   66.   42.   21.\n",
            " 18.    3.    7.   49.   29.   65.   28.5   5.   11.   45.   17.   32.\n",
            " 16.   25.    0.83 30.   33.   23.   24.   46.   59.   71.   37.   47.\n",
            " 14.5  70.5  32.5  12.    9.   36.5  51.   55.5  40.5  44.    1.   61.\n",
            " 56.   50.   36.   45.5  20.5  62.   41.   52.   63.   23.5   0.92 43.\n",
            " 60.   10.   64.   13.   48.    0.75 53.   57.   80.   70.   24.5   6.\n",
            "  0.67 30.5   0.42 34.5  74.  ]\n",
            "\n",
            "count    714.000000\n",
            "mean      29.699118\n",
            "std       14.526497\n",
            "min        0.420000\n",
            "25%       20.125000\n",
            "50%       28.000000\n",
            "75%       38.000000\n",
            "max       80.000000\n",
            "Name: Age, dtype: float64 \n",
            "\n",
            "Porcentagem de pessoas com menos de 15 anos (crianças?):  8.754208754208754 78\n",
            "Porcentagem de pessoas com menos de 18 anos:  12.682379349046016 113\n",
            "Porcentagem de pessoas do sexo masculino com menos de 18 anos:  6.509539842873176 58\n",
            "Porcentagem de pessoas do sexo feminino com menos de 18 anos:  6.172839506172839 55\n",
            "Porcentagem de pessoas entre 18 e 40 anos:  50.617283950617285 451\n",
            "Porcentagem de pessoas entre 41 e 65 anos:  15.712682379349047 140\n",
            "Porcentagem de pessoas com mais de 65 anos:  0.8978675645342313 8\n"
          ]
        },
        {
          "output_type": "display_data",
          "data": {
            "text/plain": [
              "<Figure size 432x288 with 1 Axes>"
            ],
            "image/png": "[encoded data removed]"
          },
          "metadata": {
            "needs_background": "light"
          }
        }
      ]
    },
    {
      "cell_type": "markdown",
      "metadata": {
        "id": "WBH358x88pXQ"
      },
      "source": [
        "> **Feature Pclass:** Indica a classe ocupada no navio, sendo elas: classe 1 (primeira classe), classe 2 (intermediária) e classe 3 (mais econômica).\n",
        "\n",
        "* Sem dados faltantes.\n",
        "* Valores desbalanceados, onde 55% (491) das pessoas ocupam a classe 3ª classe (mais econômica), 21% (184) ocupam a 2ª classe (intermediária) e 24% (216) estão na primeira classe (mais cara).\n",
        "\n",
        "> **Q2: Considerando os homens que sobreviveram, existe alguma relação com a classe ocupada? E as mulheres que não sobreviveram, pertenciam a alguma classe específica?**"
      ]
    },
    {
      "cell_type": "code",
      "metadata": {
        "colab": {
          "base_uri": "https://localhost:8080/",
          "height": 555
        },
        "id": "xIbeWgPhnnoP",
        "outputId": "ed0f3261-d9d7-4a73-b315-7db9b69fd1ba"
      },
      "source": [
        "var='Pclass' #indica a classe no navio (1, 2 e 3)\n",
        "print('Total de valores da feature %s:\\n%s\\n' % (var, train_data[var].value_counts()))\n",
        "print('Porcentagem total de valores da feature %s:\\n%s\\n' % (var, train_data[var].value_counts(normalize=True))) #feature com valores desbalanceados, onde 55% das pessoas ocuparam a classe 3 (mais barata), 25% a classe 2 (intermediária) e 20% a primeira classe (mais ricos)\n",
        "print('Classes de valores únicos da feature %s:\\n%s\\n'  % (var, train_data[var].unique())) #descrição dos valores únicos da feature\n",
        "ax=train_data[var].value_counts().plot.bar()\n",
        "ax.set_title('Distribuição de valores para a feature '+var)\n",
        "ax.set_ylabel('Number of People')\n",
        "ax.set_xlabel('Class')\n",
        "ax.tick_params(axis='x', labelrotation=0)"
      ],
      "execution_count": 7,
      "outputs": [
        {
          "output_type": "stream",
          "name": "stdout",
          "text": [
            "Total de valores da feature Pclass:\n",
            "3    491\n",
            "1    216\n",
            "2    184\n",
            "Name: Pclass, dtype: int64\n",
            "\n",
            "Porcentagem total de valores da feature Pclass:\n",
            "3    0.551066\n",
            "1    0.242424\n",
            "2    0.206510\n",
            "Name: Pclass, dtype: float64\n",
            "\n",
            "Classes de valores únicos da feature Pclass:\n",
            "[3 1 2]\n",
            "\n"
          ]
        },
        {
          "output_type": "display_data",
          "data": {
            "text/plain": [
              "<Figure size 432x288 with 1 Axes>"
            ],
            "image/png": "[encoded data removed]"
          },
          "metadata": {
            "needs_background": "light"
          }
        }
      ]
    },
    {
      "cell_type": "markdown",
      "metadata": {
        "id": "_v3NKWyx-_Ly"
      },
      "source": [
        "> **Feature Fare:** Indica o valor da passagem utilizada pelo passageiro.\n",
        "\n",
        "> Distribuição dos valores:\\\n",
        "**count:**    891\\\n",
        "**missing:**  0\\\n",
        "**mean:**     32.2\\\n",
        "**std:**      49.7\\\n",
        "**min:**      0\\\n",
        "**25%:**      7.9\\\n",
        "**50%:**      14.5\\\n",
        "**75%:**      31\\\n",
        "**max:**      512.3\n",
        "\n",
        "* Valores desbalanceados, variando entre 0 e 512:\n",
        "* 75% das pessoas pagaram valores inferiores a 31.\n",
        "* Maior parte das pessoas pagaram valores de passagem entre 0 e 50.\n",
        "\n",
        "* Porcentagem de pessoas que pagaram até 50:  81.9%\\\n",
        "* Porcentagem de pessoas que pagaram até 100:  94.1%\n",
        "\n",
        "> **Discriminação dos valores de passagens para pessoas da classe 3 (classe mais econômica):**\\\n",
        "count:     491\\\n",
        "mean:      13.675550\\\n",
        "std:       11.778142\\\n",
        "min:        0.000000\\\n",
        "25%:        7.750000\\\n",
        "50%:        8.050000\\\n",
        "75%:       15.500000\\\n",
        "max:       69.550000\n",
        "\n",
        "> **Discriminação dos valores de passagens para pessoas da classe 2:**\\\n",
        "count:     184\\\n",
        "mean:     20.662183\\\n",
        "std:       13.417399\\\n",
        "min:       0.000000\\\n",
        "25%:       13.000000\\\n",
        "50%:       14.250000\\\n",
        "75%:       26.000000\\\n",
        "max:       73.500000\n",
        "\n",
        "> **Discriminação dos valores de passagens para pessoas da classe 1 (classe mais cara):**\\\n",
        "count:     216\\\n",
        "mean:      84.154687\\\n",
        "std:      78.380373\\\n",
        "min:       0.000000\\\n",
        "25%:       30.923950\\\n",
        "50%:       60.287500\\\n",
        "75%:       93.500000\\\n",
        "max:       512.329200\n",
        "\n",
        "> **Q3: O preço da passagem está relacionado com a classe ocupada?**"
      ]
    },
    {
      "cell_type": "code",
      "metadata": {
        "colab": {
          "base_uri": "https://localhost:8080/",
          "height": 1000
        },
        "id": "eVvN-tVC85_S",
        "outputId": "ae69dad9-7245-4905-c042-099e1ecd6bcd"
      },
      "source": [
        "var='Fare' #indica o valor da passagem\n",
        "print('Total de valores da feature %s:\\n%s\\n' % (var, train_data[var].value_counts()))\n",
        "print('Porcentagem total de valores da feature %s:\\n%s\\n' % (var, train_data[var].value_counts(normalize=True))) #feature com valores desbalanceados, onde a maior parte das pessoas pagaram entre 0 e 100. Feature variando entre 0 e 512.\n",
        "#print('Classes de valores únicos da feature %s:\\n%s\\n'  % (var, train_data[var].unique())) #descrição dos valores únicos da feature\n",
        "print(train_data[var].describe(), '\\n')\n",
        "\n",
        "ax=train_data[var].hist(bins=50)\n",
        "ax.set_title('Distribuição de valores para a feature '+var)\n",
        "ax.set_ylabel('Number of People')\n",
        "ax.set_xlabel('Fare')\n",
        "\n",
        "print('Porcentagem de pessoas que pagaram até 50: ', len(train_data[train_data['Fare']<50])/len(train_data)*100)\n",
        "print('Porcentagem de pessoas que pagaram até 100: ', len(train_data[train_data['Fare']<100])/len(train_data)*100)\n",
        "print('\\n')\n",
        "\n",
        "print('Valores de passagens para classe 3:\\n', train_data['Fare'][train_data['Pclass']==3].describe(), '\\n')\n",
        "print('Valores de passagens para classe 2:\\n',train_data['Fare'][train_data['Pclass']==2].describe(), '\\n')\n",
        "print('Valores de passagens para classe 1:\\n',train_data['Fare'][train_data['Pclass']==1].describe(), '\\n')"
      ],
      "execution_count": 8,
      "outputs": [
        {
          "output_type": "stream",
          "name": "stdout",
          "text": [
            "Total de valores da feature Fare:\n",
            "8.0500     43\n",
            "13.0000    42\n",
            "7.8958     38\n",
            "7.7500     34\n",
            "26.0000    31\n",
            "           ..\n",
            "35.0000     1\n",
            "28.5000     1\n",
            "6.2375      1\n",
            "14.0000     1\n",
            "10.5167     1\n",
            "Name: Fare, Length: 248, dtype: int64\n",
            "\n",
            "Porcentagem total de valores da feature Fare:\n",
            "8.0500     0.048260\n",
            "13.0000    0.047138\n",
            "7.8958     0.042649\n",
            "7.7500     0.038159\n",
            "26.0000    0.034792\n",
            "             ...   \n",
            "35.0000    0.001122\n",
            "28.5000    0.001122\n",
            "6.2375     0.001122\n",
            "14.0000    0.001122\n",
            "10.5167    0.001122\n",
            "Name: Fare, Length: 248, dtype: float64\n",
            "\n",
            "count    891.000000\n",
            "mean      32.204208\n",
            "std       49.693429\n",
            "min        0.000000\n",
            "25%        7.910400\n",
            "50%       14.454200\n",
            "75%       31.000000\n",
            "max      512.329200\n",
            "Name: Fare, dtype: float64 \n",
            "\n",
            "Porcentagem de pessoas que pagaram até 50:  81.9304152637486\n",
            "Porcentagem de pessoas que pagaram até 100:  94.05162738496072\n",
            "\n",
            "\n",
            "Valores de passagens para classe 3:\n",
            " count    491.000000\n",
            "mean      13.675550\n",
            "std       11.778142\n",
            "min        0.000000\n",
            "25%        7.750000\n",
            "50%        8.050000\n",
            "75%       15.500000\n",
            "max       69.550000\n",
            "Name: Fare, dtype: float64 \n",
            "\n",
            "Valores de passagens para classe 2:\n",
            " count    184.000000\n",
            "mean      20.662183\n",
            "std       13.417399\n",
            "min        0.000000\n",
            "25%       13.000000\n",
            "50%       14.250000\n",
            "75%       26.000000\n",
            "max       73.500000\n",
            "Name: Fare, dtype: float64 \n",
            "\n",
            "Valores de passagens para classe 1:\n",
            " count    216.000000\n",
            "mean      84.154687\n",
            "std       78.380373\n",
            "min        0.000000\n",
            "25%       30.923950\n",
            "50%       60.287500\n",
            "75%       93.500000\n",
            "max      512.329200\n",
            "Name: Fare, dtype: float64 \n",
            "\n"
          ]
        },
        {
          "output_type": "display_data",
          "data": {
            "text/plain": [
              "<Figure size 432x288 with 1 Axes>"
            ],
            "image/png": "[encoded data removed]"
          },
          "metadata": {
            "needs_background": "light"
          }
        }
      ]
    },
    {
      "cell_type": "markdown",
      "metadata": {
        "id": "O-QBpbPzJfwx"
      },
      "source": [
        "> **Feature Parch:** Indica com quantos acompanhantes a pessoa estava viajando, sendo eles pais ou filhos.\n",
        "\n",
        "* Sem dados faltantes.\n",
        "* Valores desbalanceados, onde 76% (678) das pessoas estavam viajando sem os pais ou filhos;\n",
        "* 13% (118) estavam viajando com apenas um desses acompanhantes;\n",
        "* 9% (80) viajavam com dois desses acompanhantes."
      ]
    },
    {
      "cell_type": "code",
      "metadata": {
        "colab": {
          "base_uri": "https://localhost:8080/",
          "height": 694
        },
        "id": "1YpSxsZuJjNl",
        "outputId": "92dabe85-36f0-449d-bf27-eadfb8494c7a"
      },
      "source": [
        "var='Parch' #indica com quantos acompanhantes a pessoa estava viajando, sendo eles pais ou filhos\n",
        "print('Total de valores da feature %s:\\n%s\\n' % (var, train_data[var].value_counts()))\n",
        "print('Porcentagem total de valores da feature %s:\\n%s\\n' % (var, train_data[var].value_counts(normalize=True))) #feature com valores desbalanceados, onde 76% das pessoas estavam viajando sem os pais ou filhos\n",
        "print('Classes de valores únicos da feature %s:\\n%s\\n'  % (var, train_data[var].unique())) #descrição dos valores únicos da feature\n",
        "ax=train_data[var].value_counts().plot.bar()\n",
        "ax.set_title('Distribuição de valores para a feature '+var)\n",
        "ax.set_ylabel('Number of People')\n",
        "ax.set_xlabel('Number of Parents and Children')\n",
        "ax.tick_params(axis='x', labelrotation=0)"
      ],
      "execution_count": 9,
      "outputs": [
        {
          "output_type": "stream",
          "name": "stdout",
          "text": [
            "Total de valores da feature Parch:\n",
            "0    678\n",
            "1    118\n",
            "2     80\n",
            "5      5\n",
            "3      5\n",
            "4      4\n",
            "6      1\n",
            "Name: Parch, dtype: int64\n",
            "\n",
            "Porcentagem total de valores da feature Parch:\n",
            "0    0.760943\n",
            "1    0.132435\n",
            "2    0.089787\n",
            "5    0.005612\n",
            "3    0.005612\n",
            "4    0.004489\n",
            "6    0.001122\n",
            "Name: Parch, dtype: float64\n",
            "\n",
            "Classes de valores únicos da feature Parch:\n",
            "[0 1 2 5 3 4 6]\n",
            "\n"
          ]
        },
        {
          "output_type": "display_data",
          "data": {
            "text/plain": [
              "<Figure size 432x288 with 1 Axes>"
            ],
            "image/png": "[encoded data removed]"
          },
          "metadata": {
            "needs_background": "light"
          }
        }
      ]
    },
    {
      "cell_type": "markdown",
      "metadata": {
        "id": "4lfa5mLYKEIY"
      },
      "source": [
        "> **Feature SibSp:** Indica com quantos acompanhantes a pessoa estava viajando, sendo eles irmãos ou cônjuge.\n",
        "\n",
        "* Sem dados faltantes.\n",
        "* Valores desbalanceados, onde 78% (608) das pessoas estavam viajando sem irmãos ou cônjuge; \n",
        "* 23% (209) estavam viajando com apenas um desses acompanhantes."
      ]
    },
    {
      "cell_type": "code",
      "metadata": {
        "colab": {
          "base_uri": "https://localhost:8080/",
          "height": 694
        },
        "id": "9B8PwyBlKG9u",
        "outputId": "617048c4-3255-4da6-d4e6-81cecfd22477"
      },
      "source": [
        "var='SibSp' #indica com quantos acompanhantes a pessoa estava viajando, sendo eles irmãos ou cônjuge\n",
        "print('Total de valores da feature %s:\\n%s\\n' % (var, train_data[var].value_counts()))\n",
        "print('Porcentagem total de valores da feature %s:\\n%s\\n' % (var, train_data[var].value_counts(normalize=True))) #feature com valores desbalanceados, onde 78% das pessoas estavam viajando sem irmãos ou cônjuge\n",
        "print('Classes de valores únicos da feature %s:\\n%s\\n'  % (var, train_data[var].unique())) #descrição dos valores únicos da feature\n",
        "ax=train_data[var].value_counts().plot.bar()\n",
        "ax.set_title('Distribuição de valores para a feature '+var)\n",
        "ax.set_ylabel('Number of People')\n",
        "ax.set_xlabel('Number of Siblings and Spouse')\n",
        "ax.tick_params(axis='x', labelrotation=0)"
      ],
      "execution_count": 10,
      "outputs": [
        {
          "output_type": "stream",
          "name": "stdout",
          "text": [
            "Total de valores da feature SibSp:\n",
            "0    608\n",
            "1    209\n",
            "2     28\n",
            "4     18\n",
            "3     16\n",
            "8      7\n",
            "5      5\n",
            "Name: SibSp, dtype: int64\n",
            "\n",
            "Porcentagem total de valores da feature SibSp:\n",
            "0    0.682379\n",
            "1    0.234568\n",
            "2    0.031425\n",
            "4    0.020202\n",
            "3    0.017957\n",
            "8    0.007856\n",
            "5    0.005612\n",
            "Name: SibSp, dtype: float64\n",
            "\n",
            "Classes de valores únicos da feature SibSp:\n",
            "[1 0 3 4 2 5 8]\n",
            "\n"
          ]
        },
        {
          "output_type": "display_data",
          "data": {
            "text/plain": [
              "<Figure size 432x288 with 1 Axes>"
            ],
            "image/png": "[encoded data removed]"
          },
          "metadata": {
            "needs_background": "light"
          }
        }
      ]
    },
    {
      "cell_type": "markdown",
      "metadata": {
        "id": "FT5v1bOjMwpP"
      },
      "source": [
        "> **Feature Parch e SibSp: Soma das duas features para representar o total de acompanhantes de um passageiro, sendo eles pais, filhos, irmãos ou cônjuge.**\n",
        "\n",
        "* Valores desbalanceados, onde 60% (537) das pessoas estavam viajando sozinhas;\n",
        "* 18% (161) estavam viajando com apenas um acompanhante.\n",
        "* 11% (102) estavam viajando com dois acompanhantes.\n",
        "\n",
        "* Total de pessoas com um ou mais acompanhantes: 354 (40%) pessoas.\n",
        "* Total de pessoas com mais de um acompanhante, sendo pelo menos um pai ou filho e um irmão ou cônjuge:  142 (16%) pessoas.\n",
        "\n",
        "* **Q4: Desconsiderando mulheres e crianças, homens com acompanhantes tenderam a sobreviver mais? Ou ainda, homens ricos e acompanhados tiveram mais chances?**"
      ]
    },
    {
      "cell_type": "code",
      "metadata": {
        "colab": {
          "base_uri": "https://localhost:8080/",
          "height": 798
        },
        "id": "NFifqQLVM0Ym",
        "outputId": "14d8fcd1-78c4-44c5-8182-b2b3e6c53dce"
      },
      "source": [
        "train_data['Parch_SibSp']=train_data['Parch']+train_data['SibSp']\n",
        "train_data['Parch_SibSp'].describe()\n",
        "\n",
        "var='Parch_SibSp' #indica com quantos acompanhantes a pessoa estava viajando\n",
        "print('Total de valores da feature %s:\\n%s\\n' % (var, train_data[var].value_counts()))\n",
        "print('Porcentagem total de valores da feature %s:\\n%s\\n' % (var, train_data[var].value_counts(normalize=True))) #feature com valores desbalanceados, onde 60% das pessoas estavam viajando sozinhas\n",
        "print('Classes de valores únicos da feature %s:\\n%s\\n'  % (var, train_data[var].unique())) #descrição dos valores únicos da feature\n",
        "\n",
        "ax=train_data[var].value_counts().plot.bar()\n",
        "ax.set_title('Distribuição de valores para a feature '+var)\n",
        "ax.set_ylabel('Number of People')\n",
        "ax.set_xlabel('Number of Companions')\n",
        "ax.tick_params(axis='x', labelrotation=0)\n",
        "\n",
        "print('Total de pessoas com um ou mais acompanhantes: ', len(train_data[(train_data['Parch_SibSp']>0)]))\n",
        "print('Total de pessoas com mais de um acompanhante, sendo pai ou filho e irmão ou cônjuge: ', len(train_data[(train_data['Parch']>0) & (train_data['SibSp']>0)]), len(train_data[(train_data['Parch']>0) & (train_data['SibSp']>0)])/len(train_data)*100)"
      ],
      "execution_count": 11,
      "outputs": [
        {
          "output_type": "stream",
          "name": "stdout",
          "text": [
            "Total de valores da feature Parch_SibSp:\n",
            "0     537\n",
            "1     161\n",
            "2     102\n",
            "3      29\n",
            "5      22\n",
            "4      15\n",
            "6      12\n",
            "10      7\n",
            "7       6\n",
            "Name: Parch_SibSp, dtype: int64\n",
            "\n",
            "Porcentagem total de valores da feature Parch_SibSp:\n",
            "0     0.602694\n",
            "1     0.180696\n",
            "2     0.114478\n",
            "3     0.032548\n",
            "5     0.024691\n",
            "4     0.016835\n",
            "6     0.013468\n",
            "10    0.007856\n",
            "7     0.006734\n",
            "Name: Parch_SibSp, dtype: float64\n",
            "\n",
            "Classes de valores únicos da feature Parch_SibSp:\n",
            "[ 1  0  4  2  6  5  3  7 10]\n",
            "\n",
            "Total de pessoas com um ou mais acompanhantes:  354\n",
            "Total de pessoas com mais de um acompanhante, sendo pai ou filho e irmão ou cônjuge:  142 15.937149270482603\n"
          ]
        },
        {
          "output_type": "display_data",
          "data": {
            "text/plain": [
              "<Figure size 432x288 with 1 Axes>"
            ],
            "image/png": "[encoded data removed]"
          },
          "metadata": {
            "needs_background": "light"
          }
        }
      ]
    },
    {
      "cell_type": "markdown",
      "metadata": {
        "id": "SsFkONIyXteF"
      },
      "source": [
        "> **Feature Embarked:** Indica a estação de embarque do passageiro.\n",
        "\n",
        "* **Dados faltantes (2).**\n",
        "* Valores desbalanceados, onde 72% (644) pessoas embarcaram no porto S;\n",
        "* 19% (168) embarcaram em C;\n",
        "* 9% (77) embarcaram em Q."
      ]
    },
    {
      "cell_type": "code",
      "metadata": {
        "colab": {
          "base_uri": "https://localhost:8080/",
          "height": 555
        },
        "id": "RTFuASJ-XOCJ",
        "outputId": "537bc529-6b98-4297-ccb0-7f7b9cb2539b"
      },
      "source": [
        "var='Embarked' #indica com quantos acompanhantes a pessoa estava viajando, sendo eles irmãos ou cônjuge\n",
        "print('Total de valores da feature %s:\\n%s\\n' % (var, train_data[var].value_counts()))\n",
        "print('Porcentagem total de valores da feature %s:\\n%s\\n' % (var, train_data[var].value_counts(normalize=True))) #feature com valores desbalanceados, onde 78% das pessoas estavam viajando sem irmãos ou cônjuge\n",
        "print('Classes de valores únicos da feature %s:\\n%s\\n'  % (var, train_data[var].unique())) #descrição dos valores únicos da feature\n",
        "ax=train_data[var].value_counts().plot.bar()\n",
        "ax.set_title('Distribuição de valores para a feature '+var)\n",
        "ax.set_ylabel('Number of People')\n",
        "ax.set_xlabel('Boarding Place')\n",
        "ax.tick_params(axis='x', labelrotation=0)"
      ],
      "execution_count": 12,
      "outputs": [
        {
          "output_type": "stream",
          "name": "stdout",
          "text": [
            "Total de valores da feature Embarked:\n",
            "S    644\n",
            "C    168\n",
            "Q     77\n",
            "Name: Embarked, dtype: int64\n",
            "\n",
            "Porcentagem total de valores da feature Embarked:\n",
            "S    0.724409\n",
            "C    0.188976\n",
            "Q    0.086614\n",
            "Name: Embarked, dtype: float64\n",
            "\n",
            "Classes de valores únicos da feature Embarked:\n",
            "['S' 'C' 'Q' nan]\n",
            "\n"
          ]
        },
        {
          "output_type": "display_data",
          "data": {
            "text/plain": [
              "<Figure size 432x288 with 1 Axes>"
            ],
            "image/png": "[encoded data removed]"
          },
          "metadata": {
            "needs_background": "light"
          }
        }
      ]
    },
    {
      "cell_type": "markdown",
      "metadata": {
        "id": "pTpAWUkjoHjZ"
      },
      "source": [
        "# **Relation between features**\n"
      ]
    },
    {
      "cell_type": "code",
      "metadata": {
        "colab": {
          "base_uri": "https://localhost:8080/",
          "height": 457
        },
        "id": "3x7hSjUmxVvc",
        "outputId": "ebd30414-3d68-4326-dfda-f748e203ff06"
      },
      "source": [
        "#groupby\n",
        "display(train_data.groupby(['Sex', 'Survived', 'Pclass']).mean())"
      ],
      "execution_count": 13,
      "outputs": [
        {
          "output_type": "display_data",
          "data": {
            "text/plain": [
              "                        PassengerId        Age     SibSp     Parch  \\\n",
              "Sex    Survived Pclass                                               \n",
              "female 0        1        325.000000  25.666667  0.666667  1.333333   \n",
              "                2        423.500000  36.000000  0.500000  0.166667   \n",
              "                3        440.375000  23.818182  1.291667  1.097222   \n",
              "       1        1        473.967033  34.939024  0.549451  0.428571   \n",
              "                2        444.785714  28.080882  0.485714  0.642857   \n",
              "                3        359.083333  19.329787  0.500000  0.500000   \n",
              "male   0        1        413.623377  44.581967  0.272727  0.259740   \n",
              "                2        454.010989  33.369048  0.307692  0.142857   \n",
              "                3        456.750000  27.255814  0.523333  0.213333   \n",
              "       1        1        527.777778  36.248000  0.377778  0.311111   \n",
              "                2        415.588235  16.022000  0.529412  0.647059   \n",
              "                3        447.638298  22.274211  0.340426  0.297872   \n",
              "\n",
              "                              Fare  Parch_SibSp  \n",
              "Sex    Survived Pclass                           \n",
              "female 0        1       110.604167     2.000000  \n",
              "                2        18.250000     0.666667  \n",
              "                3        19.773093     2.388889  \n",
              "       1        1       105.978159     0.978022  \n",
              "                2        22.288989     1.128571  \n",
              "                3        12.464526     1.000000  \n",
              "male   0        1        62.894910     0.532468  \n",
              "                2        19.488965     0.450549  \n",
              "                3        12.204469     0.736667  \n",
              "       1        1        74.637320     0.688889  \n",
              "                2        21.095100     1.176471  \n",
              "                3        15.579696     0.638298  "
            ],
            "text/html": [
              "\n",
              "  <div id=\"df-09882699-7204-4d74-9f78-519f745a93d4\">\n",
              "    <div class=\"colab-df-container\">\n",
              "      <div>\n",
              "<style scoped>\n",
              "    .dataframe tbody tr th:only-of-type {\n",
              "        vertical-align: middle;\n",
              "    }\n",
              "\n",
              "    .dataframe tbody tr th {\n",
              "        vertical-align: top;\n",
              "    }\n",
              "\n",
              "    .dataframe thead th {\n",
              "        text-align: right;\n",
              "    }\n",
              "</style>\n",
              "<table border=\"1\" class=\"dataframe\">\n",
              "  <thead>\n",
              "    <tr style=\"text-align: right;\">\n",
              "      <th></th>\n",
              "      <th></th>\n",
              "      <th></th>\n",
              "      <th>PassengerId</th>\n",
              "      <th>Age</th>\n",
              "      <th>SibSp</th>\n",
              "      <th>Parch</th>\n",
              "      <th>Fare</th>\n",
              "      <th>Parch_SibSp</th>\n",
              "    </tr>\n",
              "    <tr>\n",
              "      <th>Sex</th>\n",
              "      <th>Survived</th>\n",
              "      <th>Pclass</th>\n",
              "      <th></th>\n",
              "      <th></th>\n",
              "      <th></th>\n",
              "      <th></th>\n",
              "      <th></th>\n",
              "      <th></th>\n",
              "    </tr>\n",
              "  </thead>\n",
              "  <tbody>\n",
              "    <tr>\n",
              "      <th rowspan=\"6\" valign=\"top\">female</th>\n",
              "      <th rowspan=\"3\" valign=\"top\">0</th>\n",
              "      <th>1</th>\n",
              "      <td>325.000000</td>\n",
              "      <td>25.666667</td>\n",
              "      <td>0.666667</td>\n",
              "      <td>1.333333</td>\n",
              "      <td>110.604167</td>\n",
              "      <td>2.000000</td>\n",
              "    </tr>\n",
              "    <tr>\n",
              "      <th>2</th>\n",
              "      <td>423.500000</td>\n",
              "      <td>36.000000</td>\n",
              "      <td>0.500000</td>\n",
              "      <td>0.166667</td>\n",
              "      <td>18.250000</td>\n",
              "      <td>0.666667</td>\n",
              "    </tr>\n",
              "    <tr>\n",
              "      <th>3</th>\n",
              "      <td>440.375000</td>\n",
              "      <td>23.818182</td>\n",
              "      <td>1.291667</td>\n",
              "      <td>1.097222</td>\n",
              "      <td>19.773093</td>\n",
              "      <td>2.388889</td>\n",
              "    </tr>\n",
              "    <tr>\n",
              "      <th rowspan=\"3\" valign=\"top\">1</th>\n",
              "      <th>1</th>\n",
              "      <td>473.967033</td>\n",
              "      <td>34.939024</td>\n",
              "      <td>0.549451</td>\n",
              "      <td>0.428571</td>\n",
              "      <td>105.978159</td>\n",
              "      <td>0.978022</td>\n",
              "    </tr>\n",
              "    <tr>\n",
              "      <th>2</th>\n",
              "      <td>444.785714</td>\n",
              "      <td>28.080882</td>\n",
              "      <td>0.485714</td>\n",
              "      <td>0.642857</td>\n",
              "      <td>22.288989</td>\n",
              "      <td>1.128571</td>\n",
              "    </tr>\n",
              "    <tr>\n",
              "      <th>3</th>\n",
              "      <td>359.083333</td>\n",
              "      <td>19.329787</td>\n",
              "      <td>0.500000</td>\n",
              "      <td>0.500000</td>\n",
              "      <td>12.464526</td>\n",
              "      <td>1.000000</td>\n",
              "    </tr>\n",
              "    <tr>\n",
              "      <th rowspan=\"6\" valign=\"top\">male</th>\n",
              "      <th rowspan=\"3\" valign=\"top\">0</th>\n",
              "      <th>1</th>\n",
              "      <td>413.623377</td>\n",
              "      <td>44.581967</td>\n",
              "      <td>0.272727</td>\n",
              "      <td>0.259740</td>\n",
              "      <td>62.894910</td>\n",
              "      <td>0.532468</td>\n",
              "    </tr>\n",
              "    <tr>\n",
              "      <th>2</th>\n",
              "      <td>454.010989</td>\n",
              "      <td>33.369048</td>\n",
              "      <td>0.307692</td>\n",
              "      <td>0.142857</td>\n",
              "      <td>19.488965</td>\n",
              "      <td>0.450549</td>\n",
              "    </tr>\n",
              "    <tr>\n",
              "      <th>3</th>\n",
              "      <td>456.750000</td>\n",
              "      <td>27.255814</td>\n",
              "      <td>0.523333</td>\n",
              "      <td>0.213333</td>\n",
              "      <td>12.204469</td>\n",
              "      <td>0.736667</td>\n",
              "    </tr>\n",
              "    <tr>\n",
              "      <th rowspan=\"3\" valign=\"top\">1</th>\n",
              "      <th>1</th>\n",
              "      <td>527.777778</td>\n",
              "      <td>36.248000</td>\n",
              "      <td>0.377778</td>\n",
              "      <td>0.311111</td>\n",
              "      <td>74.637320</td>\n",
              "      <td>0.688889</td>\n",
              "    </tr>\n",
              "    <tr>\n",
              "      <th>2</th>\n",
              "      <td>415.588235</td>\n",
              "      <td>16.022000</td>\n",
              "      <td>0.529412</td>\n",
              "      <td>0.647059</td>\n",
              "      <td>21.095100</td>\n",
              "      <td>1.176471</td>\n",
              "    </tr>\n",
              "    <tr>\n",
              "      <th>3</th>\n",
              "      <td>447.638298</td>\n",
              "      <td>22.274211</td>\n",
              "      <td>0.340426</td>\n",
              "      <td>0.297872</td>\n",
              "      <td>15.579696</td>\n",
              "      <td>0.638298</td>\n",
              "    </tr>\n",
              "  </tbody>\n",
              "</table>\n",
              "</div>\n",
              "      <button class=\"colab-df-convert\" onclick=\"convertToInteractive('df-09882699-7204-4d74-9f78-519f745a93d4')\"\n",
              "              title=\"Convert this dataframe to an interactive table.\"\n",
              "              style=\"display:none;\">\n",
              "        \n",
              "  <svg xmlns=\"http://www.w3.org/2000/svg\" height=\"24px\"viewBox=\"0 0 24 24\"\n",
              "       width=\"24px\">\n",
              "    <path d=\"M0 0h24v24H0V0z\" fill=\"none\"/>\n",
              "    <path d=\"M18.56 5.44l.94 2.06.94-2.06 2.06-.94-2.06-.94-.94-2.06-.94 2.06-2.06.94zm-11 1L8.5 8.5l.94-2.06 2.06-.94-2.06-.94L8.5 2.5l-.94 2.06-2.06.94zm10 10l.94 2.06.94-2.06 2.06-.94-2.06-.94-.94-2.06-.94 2.06-2.06.94z\"/><path d=\"M17.41 7.96l-1.37-1.37c-.4-.4-.92-.59-1.43-.59-.52 0-1.04.2-1.43.59L10.3 9.45l-7.72 7.72c-.78.78-.78 2.05 0 2.83L4 21.41c.39.39.9.59 1.41.59.51 0 1.02-.2 1.41-.59l7.78-7.78 2.81-2.81c.8-.78.8-2.07 0-2.86zM5.41 20L4 18.59l7.72-7.72 1.47 1.35L5.41 20z\"/>\n",
              "  </svg>\n",
              "      </button>\n",
              "      \n",
              "  <style>\n",
              "    .colab-df-container {\n",
              "      display:flex;\n",
              "      flex-wrap:wrap;\n",
              "      gap: 12px;\n",
              "    }\n",
              "\n",
              "    .colab-df-convert {\n",
              "      background-color: #E8F0FE;\n",
              "      border: none;\n",
              "      border-radius: 50%;\n",
              "      cursor: pointer;\n",
              "      display: none;\n",
              "      fill: #1967D2;\n",
              "      height: 32px;\n",
              "      padding: 0 0 0 0;\n",
              "      width: 32px;\n",
              "    }\n",
              "\n",
              "    .colab-df-convert:hover {\n",
              "      background-color: #E2EBFA;\n",
              "      box-shadow: 0px 1px 2px rgba(60, 64, 67, 0.3), 0px 1px 3px 1px rgba(60, 64, 67, 0.15);\n",
              "      fill: #174EA6;\n",
              "    }\n",
              "\n",
              "    [theme=dark] .colab-df-convert {\n",
              "      background-color: #3B4455;\n",
              "      fill: #D2E3FC;\n",
              "    }\n",
              "\n",
              "    [theme=dark] .colab-df-convert:hover {\n",
              "      background-color: #434B5C;\n",
              "      box-shadow: 0px 1px 3px 1px rgba(0, 0, 0, 0.15);\n",
              "      filter: drop-shadow(0px 1px 2px rgba(0, 0, 0, 0.3));\n",
              "      fill: #FFFFFF;\n",
              "    }\n",
              "  </style>\n",
              "\n",
              "      <script>\n",
              "        const buttonEl =\n",
              "          document.querySelector('#df-09882699-7204-4d74-9f78-519f745a93d4 button.colab-df-convert');\n",
              "        buttonEl.style.display =\n",
              "          google.colab.kernel.accessAllowed ? 'block' : 'none';\n",
              "\n",
              "        async function convertToInteractive(key) {\n",
              "          const element = document.querySelector('#df-09882699-7204-4d74-9f78-519f745a93d4');\n",
              "          const dataTable =\n",
              "            await google.colab.kernel.invokeFunction('convertToInteractive',\n",
              "                                                     [key], {});\n",
              "          if (!dataTable) return;\n",
              "\n",
              "          const docLinkHtml = 'Like what you see? Visit the ' +\n",
              "            '<a target=\"_blank\" href=https://colab.research.google.com/notebooks/data_table.ipynb>data table notebook</a>'\n",
              "            + ' to learn more about interactive tables.';\n",
              "          element.innerHTML = '';\n",
              "          dataTable['output_type'] = 'display_data';\n",
              "          await google.colab.output.renderOutput(dataTable, element);\n",
              "          const docLink = document.createElement('div');\n",
              "          docLink.innerHTML = docLinkHtml;\n",
              "          element.appendChild(docLink);\n",
              "        }\n",
              "      </script>\n",
              "    </div>\n",
              "  </div>\n",
              "  "
            ]
          },
          "metadata": {}
        }
      ]
    },
    {
      "cell_type": "markdown",
      "metadata": {
        "id": "xnIfPTU9s1uZ"
      },
      "source": [
        "> **Relação entre as features Age e Sex:**\n",
        "\n",
        "* **Através dos gráficos, percebe-se uma similaridade entre a distribuição das idades de homens e mulheres.**\n",
        "\n",
        "* No entanto, no navio haviam mais homens do que mulheres, conforme análise prévia: 65% (577) das pessoas eram homens e 35% (314) eram mulheres.\n",
        "\n",
        "* **Assim, a sobrevivência de mais mulheres não está relacionada com a idade das pessoas e sim com a prioridade dada ao sexo feminino.**\n"
      ]
    },
    {
      "cell_type": "code",
      "metadata": {
        "colab": {
          "base_uri": "https://localhost:8080/",
          "height": 987
        },
        "id": "k--8s7RPo411",
        "outputId": "d72c232d-a650-441b-9ee6-f2c50c38be0d"
      },
      "source": [
        "sns.set()\n",
        "plt.figure(figsize=(10, 8))\n",
        "sns.boxplot(y='Age', x='Sex', data=train_data)\n",
        "plt.show()\n",
        "\n",
        "plt.figure(figsize=(10, 8))\n",
        "sns.violinplot(y='Age', x='Sex', data=train_data)\n",
        "plt.show()"
      ],
      "execution_count": 14,
      "outputs": [
        {
          "output_type": "display_data",
          "data": {
            "text/plain": [
              "<Figure size 720x576 with 1 Axes>"
            ],
            "image/png": "[encoded data removed]"
          },
          "metadata": {}
        },
        {
          "output_type": "display_data",
          "data": {
            "text/plain": [
              "<Figure size 720x576 with 1 Axes>"
            ],
            "image/png": "[encoded data removed]"
          },
          "metadata": {}
        }
      ]
    },
    {
      "cell_type": "markdown",
      "metadata": {
        "id": "zR34ejhbDi3i"
      },
      "source": [
        "> **Relação entre as features Age e Survived:**\n",
        "\n",
        "* **Percebe-se uma similaridade entre a distribuição das idades das pessoas que sobreviveram e que morreram.**\n",
        "\n",
        "* No entanto, mais pessoas morreram (62% - 549) do que sobreviveram (38% - 342).\n",
        "\n",
        "* **Assim, notamos que apesar da prioridade dada as crianças, algumas também morreram.**"
      ]
    },
    {
      "cell_type": "code",
      "metadata": {
        "colab": {
          "base_uri": "https://localhost:8080/",
          "height": 519
        },
        "id": "Gf9yGNkxqQ8g",
        "outputId": "2eba9b0c-6f64-4277-ddf5-949802eb95fe"
      },
      "source": [
        "sns.set()\n",
        "plt.figure(figsize=(10, 8))\n",
        "sns.boxplot(y='Age', x='Survived', data=train_data)"
      ],
      "execution_count": 15,
      "outputs": [
        {
          "output_type": "execute_result",
          "data": {
            "text/plain": [
              "<matplotlib.axes._subplots.AxesSubplot at 0x7fa46bc6cf10>"
            ]
          },
          "metadata": {},
          "execution_count": 15
        },
        {
          "output_type": "display_data",
          "data": {
            "text/plain": [
              "<Figure size 720x576 with 1 Axes>"
            ],
            "image/png": "[encoded data removed]"
          },
          "metadata": {}
        }
      ]
    },
    {
      "cell_type": "markdown",
      "metadata": {
        "id": "kGiO711oGXJN"
      },
      "source": [
        "> **Relação entre as features Sex e Survived:**\n",
        "\n",
        "* **Considerando que haviam no navio mais homens do que mulheres, proporcionalmente a cada categoria, percebe-se que mais mulheres sobreviveram em relação aos homens.**\n",
        "\n",
        "> **Resposta Q1: Sabe-se que mulheres e crianças tenderam a serem salvas primeiro. Existe relação entre as pessoas que não sobreviveram e o sexo masculino? Sim, mais homens morreram em comparação com as mulheres.**"
      ]
    },
    {
      "cell_type": "code",
      "metadata": {
        "colab": {
          "base_uri": "https://localhost:8080/",
          "height": 270
        },
        "id": "Jw_6BuKIqfrv",
        "outputId": "85847ac6-a29d-4f48-b7c9-ec855764bc9d"
      },
      "source": [
        "display(pd.crosstab([train_data['Sex']], train_data['Survived']))\n",
        "\n",
        "display(pd.crosstab([train_data['Sex']], train_data['Survived'], normalize='index'))"
      ],
      "execution_count": 16,
      "outputs": [
        {
          "output_type": "display_data",
          "data": {
            "text/plain": [
              "Survived    0    1\n",
              "Sex               \n",
              "female     81  233\n",
              "male      468  109"
            ],
            "text/html": [
              "\n",
              "  <div id=\"df-6b6d1936-df1e-4467-8b63-fcc1870d291b\">\n",
              "    <div class=\"colab-df-container\">\n",
              "      <div>\n",
              "<style scoped>\n",
              "    .dataframe tbody tr th:only-of-type {\n",
              "        vertical-align: middle;\n",
              "    }\n",
              "\n",
              "    .dataframe tbody tr th {\n",
              "        vertical-align: top;\n",
              "    }\n",
              "\n",
              "    .dataframe thead th {\n",
              "        text-align: right;\n",
              "    }\n",
              "</style>\n",
              "<table border=\"1\" class=\"dataframe\">\n",
              "  <thead>\n",
              "    <tr style=\"text-align: right;\">\n",
              "      <th>Survived</th>\n",
              "      <th>0</th>\n",
              "      <th>1</th>\n",
              "    </tr>\n",
              "    <tr>\n",
              "      <th>Sex</th>\n",
              "      <th></th>\n",
              "      <th></th>\n",
              "    </tr>\n",
              "  </thead>\n",
              "  <tbody>\n",
              "    <tr>\n",
              "      <th>female</th>\n",
              "      <td>81</td>\n",
              "      <td>233</td>\n",
              "    </tr>\n",
              "    <tr>\n",
              "      <th>male</th>\n",
              "      <td>468</td>\n",
              "      <td>109</td>\n",
              "    </tr>\n",
              "  </tbody>\n",
              "</table>\n",
              "</div>\n",
              "      <button class=\"colab-df-convert\" onclick=\"convertToInteractive('df-6b6d1936-df1e-4467-8b63-fcc1870d291b')\"\n",
              "              title=\"Convert this dataframe to an interactive table.\"\n",
              "              style=\"display:none;\">\n",
              "        \n",
              "  <svg xmlns=\"http://www.w3.org/2000/svg\" height=\"24px\"viewBox=\"0 0 24 24\"\n",
              "       width=\"24px\">\n",
              "    <path d=\"M0 0h24v24H0V0z\" fill=\"none\"/>\n",
              "    <path d=\"M18.56 5.44l.94 2.06.94-2.06 2.06-.94-2.06-.94-.94-2.06-.94 2.06-2.06.94zm-11 1L8.5 8.5l.94-2.06 2.06-.94-2.06-.94L8.5 2.5l-.94 2.06-2.06.94zm10 10l.94 2.06.94-2.06 2.06-.94-2.06-.94-.94-2.06-.94 2.06-2.06.94z\"/><path d=\"M17.41 7.96l-1.37-1.37c-.4-.4-.92-.59-1.43-.59-.52 0-1.04.2-1.43.59L10.3 9.45l-7.72 7.72c-.78.78-.78 2.05 0 2.83L4 21.41c.39.39.9.59 1.41.59.51 0 1.02-.2 1.41-.59l7.78-7.78 2.81-2.81c.8-.78.8-2.07 0-2.86zM5.41 20L4 18.59l7.72-7.72 1.47 1.35L5.41 20z\"/>\n",
              "  </svg>\n",
              "      </button>\n",
              "      \n",
              "  <style>\n",
              "    .colab-df-container {\n",
              "      display:flex;\n",
              "      flex-wrap:wrap;\n",
              "      gap: 12px;\n",
              "    }\n",
              "\n",
              "    .colab-df-convert {\n",
              "      background-color: #E8F0FE;\n",
              "      border: none;\n",
              "      border-radius: 50%;\n",
              "      cursor: pointer;\n",
              "      display: none;\n",
              "      fill: #1967D2;\n",
              "      height: 32px;\n",
              "      padding: 0 0 0 0;\n",
              "      width: 32px;\n",
              "    }\n",
              "\n",
              "    .colab-df-convert:hover {\n",
              "      background-color: #E2EBFA;\n",
              "      box-shadow: 0px 1px 2px rgba(60, 64, 67, 0.3), 0px 1px 3px 1px rgba(60, 64, 67, 0.15);\n",
              "      fill: #174EA6;\n",
              "    }\n",
              "\n",
              "    [theme=dark] .colab-df-convert {\n",
              "      background-color: #3B4455;\n",
              "      fill: #D2E3FC;\n",
              "    }\n",
              "\n",
              "    [theme=dark] .colab-df-convert:hover {\n",
              "      background-color: #434B5C;\n",
              "      box-shadow: 0px 1px 3px 1px rgba(0, 0, 0, 0.15);\n",
              "      filter: drop-shadow(0px 1px 2px rgba(0, 0, 0, 0.3));\n",
              "      fill: #FFFFFF;\n",
              "    }\n",
              "  </style>\n",
              "\n",
              "      <script>\n",
              "        const buttonEl =\n",
              "          document.querySelector('#df-6b6d1936-df1e-4467-8b63-fcc1870d291b button.colab-df-convert');\n",
              "        buttonEl.style.display =\n",
              "          google.colab.kernel.accessAllowed ? 'block' : 'none';\n",
              "\n",
              "        async function convertToInteractive(key) {\n",
              "          const element = document.querySelector('#df-6b6d1936-df1e-4467-8b63-fcc1870d291b');\n",
              "          const dataTable =\n",
              "            await google.colab.kernel.invokeFunction('convertToInteractive',\n",
              "                                                     [key], {});\n",
              "          if (!dataTable) return;\n",
              "\n",
              "          const docLinkHtml = 'Like what you see? Visit the ' +\n",
              "            '<a target=\"_blank\" href=https://colab.research.google.com/notebooks/data_table.ipynb>data table notebook</a>'\n",
              "            + ' to learn more about interactive tables.';\n",
              "          element.innerHTML = '';\n",
              "          dataTable['output_type'] = 'display_data';\n",
              "          await google.colab.output.renderOutput(dataTable, element);\n",
              "          const docLink = document.createElement('div');\n",
              "          docLink.innerHTML = docLinkHtml;\n",
              "          element.appendChild(docLink);\n",
              "        }\n",
              "      </script>\n",
              "    </div>\n",
              "  </div>\n",
              "  "
            ]
          },
          "metadata": {}
        },
        {
          "output_type": "display_data",
          "data": {
            "text/plain": [
              "Survived         0         1\n",
              "Sex                         \n",
              "female    0.257962  0.742038\n",
              "male      0.811092  0.188908"
            ],
            "text/html": [
              "\n",
              "  <div id=\"df-c1c0a148-8c19-4597-b582-8ae216d2d82f\">\n",
              "    <div class=\"colab-df-container\">\n",
              "      <div>\n",
              "<style scoped>\n",
              "    .dataframe tbody tr th:only-of-type {\n",
              "        vertical-align: middle;\n",
              "    }\n",
              "\n",
              "    .dataframe tbody tr th {\n",
              "        vertical-align: top;\n",
              "    }\n",
              "\n",
              "    .dataframe thead th {\n",
              "        text-align: right;\n",
              "    }\n",
              "</style>\n",
              "<table border=\"1\" class=\"dataframe\">\n",
              "  <thead>\n",
              "    <tr style=\"text-align: right;\">\n",
              "      <th>Survived</th>\n",
              "      <th>0</th>\n",
              "      <th>1</th>\n",
              "    </tr>\n",
              "    <tr>\n",
              "      <th>Sex</th>\n",
              "      <th></th>\n",
              "      <th></th>\n",
              "    </tr>\n",
              "  </thead>\n",
              "  <tbody>\n",
              "    <tr>\n",
              "      <th>female</th>\n",
              "      <td>0.257962</td>\n",
              "      <td>0.742038</td>\n",
              "    </tr>\n",
              "    <tr>\n",
              "      <th>male</th>\n",
              "      <td>0.811092</td>\n",
              "      <td>0.188908</td>\n",
              "    </tr>\n",
              "  </tbody>\n",
              "</table>\n",
              "</div>\n",
              "      <button class=\"colab-df-convert\" onclick=\"convertToInteractive('df-c1c0a148-8c19-4597-b582-8ae216d2d82f')\"\n",
              "              title=\"Convert this dataframe to an interactive table.\"\n",
              "              style=\"display:none;\">\n",
              "        \n",
              "  <svg xmlns=\"http://www.w3.org/2000/svg\" height=\"24px\"viewBox=\"0 0 24 24\"\n",
              "       width=\"24px\">\n",
              "    <path d=\"M0 0h24v24H0V0z\" fill=\"none\"/>\n",
              "    <path d=\"M18.56 5.44l.94 2.06.94-2.06 2.06-.94-2.06-.94-.94-2.06-.94 2.06-2.06.94zm-11 1L8.5 8.5l.94-2.06 2.06-.94-2.06-.94L8.5 2.5l-.94 2.06-2.06.94zm10 10l.94 2.06.94-2.06 2.06-.94-2.06-.94-.94-2.06-.94 2.06-2.06.94z\"/><path d=\"M17.41 7.96l-1.37-1.37c-.4-.4-.92-.59-1.43-.59-.52 0-1.04.2-1.43.59L10.3 9.45l-7.72 7.72c-.78.78-.78 2.05 0 2.83L4 21.41c.39.39.9.59 1.41.59.51 0 1.02-.2 1.41-.59l7.78-7.78 2.81-2.81c.8-.78.8-2.07 0-2.86zM5.41 20L4 18.59l7.72-7.72 1.47 1.35L5.41 20z\"/>\n",
              "  </svg>\n",
              "      </button>\n",
              "      \n",
              "  <style>\n",
              "    .colab-df-container {\n",
              "      display:flex;\n",
              "      flex-wrap:wrap;\n",
              "      gap: 12px;\n",
              "    }\n",
              "\n",
              "    .colab-df-convert {\n",
              "      background-color: #E8F0FE;\n",
              "      border: none;\n",
              "      border-radius: 50%;\n",
              "      cursor: pointer;\n",
              "      display: none;\n",
              "      fill: #1967D2;\n",
              "      height: 32px;\n",
              "      padding: 0 0 0 0;\n",
              "      width: 32px;\n",
              "    }\n",
              "\n",
              "    .colab-df-convert:hover {\n",
              "      background-color: #E2EBFA;\n",
              "      box-shadow: 0px 1px 2px rgba(60, 64, 67, 0.3), 0px 1px 3px 1px rgba(60, 64, 67, 0.15);\n",
              "      fill: #174EA6;\n",
              "    }\n",
              "\n",
              "    [theme=dark] .colab-df-convert {\n",
              "      background-color: #3B4455;\n",
              "      fill: #D2E3FC;\n",
              "    }\n",
              "\n",
              "    [theme=dark] .colab-df-convert:hover {\n",
              "      background-color: #434B5C;\n",
              "      box-shadow: 0px 1px 3px 1px rgba(0, 0, 0, 0.15);\n",
              "      filter: drop-shadow(0px 1px 2px rgba(0, 0, 0, 0.3));\n",
              "      fill: #FFFFFF;\n",
              "    }\n",
              "  </style>\n",
              "\n",
              "      <script>\n",
              "        const buttonEl =\n",
              "          document.querySelector('#df-c1c0a148-8c19-4597-b582-8ae216d2d82f button.colab-df-convert');\n",
              "        buttonEl.style.display =\n",
              "          google.colab.kernel.accessAllowed ? 'block' : 'none';\n",
              "\n",
              "        async function convertToInteractive(key) {\n",
              "          const element = document.querySelector('#df-c1c0a148-8c19-4597-b582-8ae216d2d82f');\n",
              "          const dataTable =\n",
              "            await google.colab.kernel.invokeFunction('convertToInteractive',\n",
              "                                                     [key], {});\n",
              "          if (!dataTable) return;\n",
              "\n",
              "          const docLinkHtml = 'Like what you see? Visit the ' +\n",
              "            '<a target=\"_blank\" href=https://colab.research.google.com/notebooks/data_table.ipynb>data table notebook</a>'\n",
              "            + ' to learn more about interactive tables.';\n",
              "          element.innerHTML = '';\n",
              "          dataTable['output_type'] = 'display_data';\n",
              "          await google.colab.output.renderOutput(dataTable, element);\n",
              "          const docLink = document.createElement('div');\n",
              "          docLink.innerHTML = docLinkHtml;\n",
              "          element.appendChild(docLink);\n",
              "        }\n",
              "      </script>\n",
              "    </div>\n",
              "  </div>\n",
              "  "
            ]
          },
          "metadata": {}
        }
      ]
    },
    {
      "cell_type": "code",
      "metadata": {
        "colab": {
          "base_uri": "https://localhost:8080/",
          "height": 330
        },
        "id": "JK6EHEwnH5NN",
        "outputId": "15b797bf-657f-4360-d033-611fb034c58e"
      },
      "source": [
        "pd.crosstab([train_data['Sex']], train_data['Survived']).plot.bar()\n",
        "plt.ylabel('Number of People')"
      ],
      "execution_count": 17,
      "outputs": [
        {
          "output_type": "execute_result",
          "data": {
            "text/plain": [
              "Text(0, 0.5, 'Number of People')"
            ]
          },
          "metadata": {},
          "execution_count": 17
        },
        {
          "output_type": "display_data",
          "data": {
            "text/plain": [
              "<Figure size 432x288 with 1 Axes>"
            ],
            "image/png": "[encoded data removed]"
          },
          "metadata": {}
        }
      ]
    },
    {
      "cell_type": "markdown",
      "metadata": {
        "id": "x1S5I3iIcp40"
      },
      "source": [
        "> **Relação entre as features Sex, Survived e Pclass:**\n",
        "\n",
        "* Considerando que mais homens morreram, e haviam mais homens na classe 3, proporcionalmente a cada categoria de Pclass, percebe-se que os homens da primeira classe tiveram prioridade no salvamento.\n",
        "\n",
        "* Os homens da primeira classe, mesmo em menos número, foram os que mais sobreviveram.\n",
        "\n",
        "> **Resposta Q2: Considerando os homens que sobreviveram, existe alguma relação com a classe ocupada? Proporcionalmente ao total de homens em cada categoria de Pclass, os homens da primeira classe sobreviveram em maior número.**\n",
        "\n",
        "> **Resposta Q2: E as mulheres que não sobreviveram, pertenciam a alguma classe específica? Assim como no caso anterior, proporcionalmente ao total de mulheres em cada categoria de Pclass, mulheres da primeira classe sobreviveram em maior número. Poucas mulheres da primeira e segunda classe morreram, as mulheres que morreram em geral pertenciam a classe 3.**"
      ]
    },
    {
      "cell_type": "code",
      "metadata": {
        "colab": {
          "base_uri": "https://localhost:8080/",
          "height": 577
        },
        "id": "n9gPQBckXM0j",
        "outputId": "30c1bbf0-f709-4f42-8c22-c5d5fd1cdc50"
      },
      "source": [
        "#display(pd.crosstab([train_data['Sex'], train_data['Pclass']], train_data['Survived'], values=train_data['Age'], aggfunc='mean'))\n",
        "\n",
        "display(pd.crosstab([train_data['Sex'], train_data['Pclass']], train_data['Survived']))\n",
        "\n",
        "pd.crosstab([train_data['Sex'], train_data['Survived']], train_data['Pclass']).plot.bar()\n",
        "plt.ylabel('Number of People')\n",
        "plt.tick_params(axis='x', labelrotation=45)\n",
        "plt.show()"
      ],
      "execution_count": 18,
      "outputs": [
        {
          "output_type": "display_data",
          "data": {
            "text/plain": [
              "Survived         0   1\n",
              "Sex    Pclass         \n",
              "female 1         3  91\n",
              "       2         6  70\n",
              "       3        72  72\n",
              "male   1        77  45\n",
              "       2        91  17\n",
              "       3       300  47"
            ],
            "text/html": [
              "\n",
              "  <div id=\"df-4d463deb-ded4-4de7-a807-d03b51ca5081\">\n",
              "    <div class=\"colab-df-container\">\n",
              "      <div>\n",
              "<style scoped>\n",
              "    .dataframe tbody tr th:only-of-type {\n",
              "        vertical-align: middle;\n",
              "    }\n",
              "\n",
              "    .dataframe tbody tr th {\n",
              "        vertical-align: top;\n",
              "    }\n",
              "\n",
              "    .dataframe thead th {\n",
              "        text-align: right;\n",
              "    }\n",
              "</style>\n",
              "<table border=\"1\" class=\"dataframe\">\n",
              "  <thead>\n",
              "    <tr style=\"text-align: right;\">\n",
              "      <th></th>\n",
              "      <th>Survived</th>\n",
              "      <th>0</th>\n",
              "      <th>1</th>\n",
              "    </tr>\n",
              "    <tr>\n",
              "      <th>Sex</th>\n",
              "      <th>Pclass</th>\n",
              "      <th></th>\n",
              "      <th></th>\n",
              "    </tr>\n",
              "  </thead>\n",
              "  <tbody>\n",
              "    <tr>\n",
              "      <th rowspan=\"3\" valign=\"top\">female</th>\n",
              "      <th>1</th>\n",
              "      <td>3</td>\n",
              "      <td>91</td>\n",
              "    </tr>\n",
              "    <tr>\n",
              "      <th>2</th>\n",
              "      <td>6</td>\n",
              "      <td>70</td>\n",
              "    </tr>\n",
              "    <tr>\n",
              "      <th>3</th>\n",
              "      <td>72</td>\n",
              "      <td>72</td>\n",
              "    </tr>\n",
              "    <tr>\n",
              "      <th rowspan=\"3\" valign=\"top\">male</th>\n",
              "      <th>1</th>\n",
              "      <td>77</td>\n",
              "      <td>45</td>\n",
              "    </tr>\n",
              "    <tr>\n",
              "      <th>2</th>\n",
              "      <td>91</td>\n",
              "      <td>17</td>\n",
              "    </tr>\n",
              "    <tr>\n",
              "      <th>3</th>\n",
              "      <td>300</td>\n",
              "      <td>47</td>\n",
              "    </tr>\n",
              "  </tbody>\n",
              "</table>\n",
              "</div>\n",
              "      <button class=\"colab-df-convert\" onclick=\"convertToInteractive('df-4d463deb-ded4-4de7-a807-d03b51ca5081')\"\n",
              "              title=\"Convert this dataframe to an interactive table.\"\n",
              "              style=\"display:none;\">\n",
              "        \n",
              "  <svg xmlns=\"http://www.w3.org/2000/svg\" height=\"24px\"viewBox=\"0 0 24 24\"\n",
              "       width=\"24px\">\n",
              "    <path d=\"M0 0h24v24H0V0z\" fill=\"none\"/>\n",
              "    <path d=\"M18.56 5.44l.94 2.06.94-2.06 2.06-.94-2.06-.94-.94-2.06-.94 2.06-2.06.94zm-11 1L8.5 8.5l.94-2.06 2.06-.94-2.06-.94L8.5 2.5l-.94 2.06-2.06.94zm10 10l.94 2.06.94-2.06 2.06-.94-2.06-.94-.94-2.06-.94 2.06-2.06.94z\"/><path d=\"M17.41 7.96l-1.37-1.37c-.4-.4-.92-.59-1.43-.59-.52 0-1.04.2-1.43.59L10.3 9.45l-7.72 7.72c-.78.78-.78 2.05 0 2.83L4 21.41c.39.39.9.59 1.41.59.51 0 1.02-.2 1.41-.59l7.78-7.78 2.81-2.81c.8-.78.8-2.07 0-2.86zM5.41 20L4 18.59l7.72-7.72 1.47 1.35L5.41 20z\"/>\n",
              "  </svg>\n",
              "      </button>\n",
              "      \n",
              "  <style>\n",
              "    .colab-df-container {\n",
              "      display:flex;\n",
              "      flex-wrap:wrap;\n",
              "      gap: 12px;\n",
              "    }\n",
              "\n",
              "    .colab-df-convert {\n",
              "      background-color: #E8F0FE;\n",
              "      border: none;\n",
              "      border-radius: 50%;\n",
              "      cursor: pointer;\n",
              "      display: none;\n",
              "      fill: #1967D2;\n",
              "      height: 32px;\n",
              "      padding: 0 0 0 0;\n",
              "      width: 32px;\n",
              "    }\n",
              "\n",
              "    .colab-df-convert:hover {\n",
              "      background-color: #E2EBFA;\n",
              "      box-shadow: 0px 1px 2px rgba(60, 64, 67, 0.3), 0px 1px 3px 1px rgba(60, 64, 67, 0.15);\n",
              "      fill: #174EA6;\n",
              "    }\n",
              "\n",
              "    [theme=dark] .colab-df-convert {\n",
              "      background-color: #3B4455;\n",
              "      fill: #D2E3FC;\n",
              "    }\n",
              "\n",
              "    [theme=dark] .colab-df-convert:hover {\n",
              "      background-color: #434B5C;\n",
              "      box-shadow: 0px 1px 3px 1px rgba(0, 0, 0, 0.15);\n",
              "      filter: drop-shadow(0px 1px 2px rgba(0, 0, 0, 0.3));\n",
              "      fill: #FFFFFF;\n",
              "    }\n",
              "  </style>\n",
              "\n",
              "      <script>\n",
              "        const buttonEl =\n",
              "          document.querySelector('#df-4d463deb-ded4-4de7-a807-d03b51ca5081 button.colab-df-convert');\n",
              "        buttonEl.style.display =\n",
              "          google.colab.kernel.accessAllowed ? 'block' : 'none';\n",
              "\n",
              "        async function convertToInteractive(key) {\n",
              "          const element = document.querySelector('#df-4d463deb-ded4-4de7-a807-d03b51ca5081');\n",
              "          const dataTable =\n",
              "            await google.colab.kernel.invokeFunction('convertToInteractive',\n",
              "                                                     [key], {});\n",
              "          if (!dataTable) return;\n",
              "\n",
              "          const docLinkHtml = 'Like what you see? Visit the ' +\n",
              "            '<a target=\"_blank\" href=https://colab.research.google.com/notebooks/data_table.ipynb>data table notebook</a>'\n",
              "            + ' to learn more about interactive tables.';\n",
              "          element.innerHTML = '';\n",
              "          dataTable['output_type'] = 'display_data';\n",
              "          await google.colab.output.renderOutput(dataTable, element);\n",
              "          const docLink = document.createElement('div');\n",
              "          docLink.innerHTML = docLinkHtml;\n",
              "          element.appendChild(docLink);\n",
              "        }\n",
              "      </script>\n",
              "    </div>\n",
              "  </div>\n",
              "  "
            ]
          },
          "metadata": {}
        },
        {
          "output_type": "display_data",
          "data": {
            "text/plain": [
              "<Figure size 432x288 with 1 Axes>"
            ],
            "image/png": "[encoded data removed]"
          },
          "metadata": {}
        }
      ]
    },
    {
      "cell_type": "markdown",
      "metadata": {
        "id": "PGmJs05_fNwD"
      },
      "source": [
        "> **Relação entre as features Pclass e Fare:**\n",
        "\n",
        "> **Resposta Q3: O preço da passagem está relacionado com a classe ocupada? Sim, a primeira classe engloba passagens mais caras. Os outliers de cada classe podem ser explicados talvez pela data da compra (passagens compradas no dia tendem a ser mais caras, por exemplo).**"
      ]
    },
    {
      "cell_type": "code",
      "metadata": {
        "colab": {
          "base_uri": "https://localhost:8080/",
          "height": 519
        },
        "id": "-Eibx_7cfYt4",
        "outputId": "49a5e9a4-b343-4efb-99f8-e3efbd498f56"
      },
      "source": [
        "sns.set()\n",
        "plt.figure(figsize=(10, 8))\n",
        "sns.boxplot(y='Fare', x='Pclass', data=train_data)"
      ],
      "execution_count": 19,
      "outputs": [
        {
          "output_type": "execute_result",
          "data": {
            "text/plain": [
              "<matplotlib.axes._subplots.AxesSubplot at 0x7fa46bafd890>"
            ]
          },
          "metadata": {},
          "execution_count": 19
        },
        {
          "output_type": "display_data",
          "data": {
            "text/plain": [
              "<Figure size 720x576 with 1 Axes>"
            ],
            "image/png": "[encoded data removed]"
          },
          "metadata": {}
        }
      ]
    },
    {
      "cell_type": "markdown",
      "metadata": {
        "id": "iWt44GObjGed"
      },
      "source": [
        "> **Relação entre as features Parch, SibSp, Parch_SibSp e Survived em relação aos homens:**\n",
        "\n",
        "* Comparando homens acompanhados e sem nenhum acompanhante, nota-se que homens não acompanhados sobreviveram mais em números absolutos.\n",
        "\n",
        "* Contudo, haviam mais homens não acompanhados do que acompanhados no navio. \n",
        "\n",
        "* Assim, homens não acompanhados morreram mais também. \n",
        "\n",
        "> **Resposta Q4: Desconsiderando mulheres e crianças, homens com acompanhantes tenderam a sobreviver mais? Não, homens não acompanhados sobreviveram em maior número.**\n",
        "\n",
        "**> Resposta Q4: Ou ainda, homens ricos e acompanhados tiveram mais chances? Não, mesmo para homens ricos o padrão se manteve, homens não acompanhados sobreviveram mais.**"
      ]
    },
    {
      "cell_type": "code",
      "metadata": {
        "colab": {
          "base_uri": "https://localhost:8080/",
          "height": 1000
        },
        "id": "_9uQn6eEgae3",
        "outputId": "8ec664b4-26f4-48f9-8e86-26ae6e37dd09"
      },
      "source": [
        "##Homens acompanhados de um ou mais pais ou filhos versus sobrevivência\n",
        "train_data[(train_data['Sex']=='male') & (train_data['Parch']>0)]['Survived'].value_counts(normalize=False).plot.bar(label='With Parch')\n",
        "train_data[(train_data['Sex']=='male') & (train_data['Parch']==0)]['Survived'].value_counts(normalize=False).plot.bar(alpha=0.8, color='darkorange', width=0.3, label='WO Parch')\n",
        "plt.xlabel('Survived')\n",
        "plt.ylabel('Number of Men - Feature Parch')\n",
        "plt.legend()\n",
        "plt.tick_params(axis='x', labelrotation=0)\n",
        "plt.show()\n",
        "\n",
        "##Homens acompanhados de um ou mais irmãos ou conjuge versus sobrevivência\n",
        "train_data[(train_data['Sex']=='male') & (train_data['SibSp']>0)]['Survived'].value_counts(normalize=False).plot.bar(label='With SibSp')\n",
        "train_data[(train_data['Sex']=='male') & (train_data['SibSp']==0)]['Survived'].value_counts(normalize=False).plot.bar(alpha=0.8, color='darkorange', width=0.3, label='WO SibSp')\n",
        "plt.xlabel('Survived')\n",
        "plt.ylabel('Number of Men - Feature SibSp')\n",
        "plt.legend()\n",
        "plt.tick_params(axis='x', labelrotation=0)\n",
        "plt.show()\n",
        "\n",
        "##Homens acompanhados de um ou mais pais, filhos, irmãos ou conjuge versus sobrevivência\n",
        "train_data[(train_data['Sex']=='male') & (train_data['Parch_SibSp']>0)]['Survived'].value_counts(normalize=False).plot.bar(label='With Parch_SibSp')\n",
        "train_data[(train_data['Sex']=='male') & (train_data['Parch_SibSp']==0)]['Survived'].value_counts(normalize=False).plot.bar(alpha=0.8, color='darkorange', width=0.3, label='WO Parch_SibSp')\n",
        "plt.xlabel('Survived')\n",
        "plt.ylabel('Number of Men - Feature Parch_SibSp')\n",
        "plt.legend()\n",
        "plt.tick_params(axis='x', labelrotation=0)\n",
        "plt.show()\n",
        "\n",
        "##Homens da primeira classe acompanhados de um ou mais pais, filhos, irmãos ou conjuge versus sobrevivência\n",
        "train_data[(train_data['Sex']=='male') & (train_data['Pclass']==1) & (train_data['Parch_SibSp']>0)]['Survived'].value_counts(normalize=False).plot.bar(label='With Parch_SibSp')\n",
        "train_data[(train_data['Sex']=='male') & (train_data['Pclass']==1) & (train_data['Parch_SibSp']==0)]['Survived'].value_counts(normalize=False).plot.bar(alpha=0.8, color='darkorange', width=0.3, label='WO Parch_SibSp')\n",
        "plt.xlabel('Survived')\n",
        "plt.ylabel('Number of 1st Class Men - Feature Parch_SibSp')\n",
        "plt.legend()\n",
        "plt.tick_params(axis='x', labelrotation=0)\n",
        "plt.show()"
      ],
      "execution_count": 20,
      "outputs": [
        {
          "output_type": "display_data",
          "data": {
            "text/plain": [
              "<Figure size 432x288 with 1 Axes>"
            ],
            "image/png": "[encoded data removed]"
          },
          "metadata": {}
        },
        {
          "output_type": "display_data",
          "data": {
            "text/plain": [
              "<Figure size 432x288 with 1 Axes>"
            ],
            "image/png": "[encoded data removed]"
          },
          "metadata": {}
        },
        {
          "output_type": "display_data",
          "data": {
            "text/plain": [
              "<Figure size 432x288 with 1 Axes>"
            ],
            "image/png": "[encoded data removed]"
          },
          "metadata": {}
        },
        {
          "output_type": "display_data",
          "data": {
            "text/plain": [
              "<Figure size 432x288 with 1 Axes>"
            ],
            "image/png": "[encoded data removed]"
          },
          "metadata": {}
        }
      ]
    },
    {
      "cell_type": "markdown",
      "metadata": {
        "id": "OlKJ5n-DIo8u"
      },
      "source": [
        "# **Correlation between features**\n",
        "\n",
        "> Determinação do grau de relacionamento entre duas features. Caso os pontos das variáveis, representados num plano cartesiano (x, y) ou gráfico de dispersão, apresentem uma dispersão similar ao longo de uma reta imaginária, diz-se que os dados apresentam correlação linear que pode ser negativa (próxima à -1) ou positiva (próxima à 1). Caso não apresentem, o cálculo de correlação será igual à 0.\n",
        "\n",
        "> **Porém, correlação não implica em causalidade.**\n",
        "\n",
        "O fato de variáveis estarem correlacionados não quer dizer que uma *influência* no comportamento da outra. O padrão de comportamento pode estar associado a fatores externos sem relação entre si."
      ]
    },
    {
      "cell_type": "markdown",
      "metadata": {
        "id": "NtKvsNqq16yc"
      },
      "source": [
        "> **Aparentemente só há um cenário de correlação: Consiste na correlação entre as features Parch e Parch_SibSp, e Parch_SibSp e SibSp.**\n",
        "\n",
        "* Isso se deve o fato de Parch_SibSp ser a soma dessas duas features.\n",
        "\n",
        "* Parch e SibSp apresentam correlação baixa.\n",
        "\n",
        "* Assim, seria possível considerar somente Parch_SibSp ou desconsiderá-la para considerar Parch e SibSp."
      ]
    },
    {
      "cell_type": "code",
      "metadata": {
        "colab": {
          "base_uri": "https://localhost:8080/",
          "height": 810
        },
        "id": "TVOt2f1FJsM1",
        "outputId": "d28f86ff-5f1b-4b4a-aa02-9804c0a2a520"
      },
      "source": [
        "corr=train_data.iloc[:, 1:].corr()\n",
        "display(corr)\n",
        "\n",
        "# Generate a mask for the upper triangle\n",
        "mask = np.triu(np.ones_like(corr, dtype=bool))\n",
        "# Set up the matplotlib figure\n",
        "f, ax = plt.subplots(figsize=(11, 9))\n",
        "# Generate a custom diverging colormap\n",
        "cmap = sns.diverging_palette(230, 20, as_cmap=True)\n",
        "# Draw the heatmap with the mask and correct aspect ratio\n",
        "sns.heatmap(corr, mask=mask, cmap=cmap, center=0,\n",
        "            square=True, linewidths=.5, cbar_kws={\"shrink\": .5})"
      ],
      "execution_count": 21,
      "outputs": [
        {
          "output_type": "display_data",
          "data": {
            "text/plain": [
              "             Survived    Pclass       Age     SibSp     Parch      Fare  \\\n",
              "Survived     1.000000 -0.338481 -0.077221 -0.035322  0.081629  0.257307   \n",
              "Pclass      -0.338481  1.000000 -0.369226  0.083081  0.018443 -0.549500   \n",
              "Age         -0.077221 -0.369226  1.000000 -0.308247 -0.189119  0.096067   \n",
              "SibSp       -0.035322  0.083081 -0.308247  1.000000  0.414838  0.159651   \n",
              "Parch        0.081629  0.018443 -0.189119  0.414838  1.000000  0.216225   \n",
              "Fare         0.257307 -0.549500  0.096067  0.159651  0.216225  1.000000   \n",
              "Parch_SibSp  0.016639  0.065997 -0.301914  0.890712  0.783111  0.217138   \n",
              "\n",
              "             Parch_SibSp  \n",
              "Survived        0.016639  \n",
              "Pclass          0.065997  \n",
              "Age            -0.301914  \n",
              "SibSp           0.890712  \n",
              "Parch           0.783111  \n",
              "Fare            0.217138  \n",
              "Parch_SibSp     1.000000  "
            ],
            "text/html": [
              "\n",
              "  <div id=\"df-b756067e-5f45-4d39-b76f-d0847d90e195\">\n",
              "    <div class=\"colab-df-container\">\n",
              "      <div>\n",
              "<style scoped>\n",
              "    .dataframe tbody tr th:only-of-type {\n",
              "        vertical-align: middle;\n",
              "    }\n",
              "\n",
              "    .dataframe tbody tr th {\n",
              "        vertical-align: top;\n",
              "    }\n",
              "\n",
              "    .dataframe thead th {\n",
              "        text-align: right;\n",
              "    }\n",
              "</style>\n",
              "<table border=\"1\" class=\"dataframe\">\n",
              "  <thead>\n",
              "    <tr style=\"text-align: right;\">\n",
              "      <th></th>\n",
              "      <th>Survived</th>\n",
              "      <th>Pclass</th>\n",
              "      <th>Age</th>\n",
              "      <th>SibSp</th>\n",
              "      <th>Parch</th>\n",
              "      <th>Fare</th>\n",
              "      <th>Parch_SibSp</th>\n",
              "    </tr>\n",
              "  </thead>\n",
              "  <tbody>\n",
              "    <tr>\n",
              "      <th>Survived</th>\n",
              "      <td>1.000000</td>\n",
              "      <td>-0.338481</td>\n",
              "      <td>-0.077221</td>\n",
              "      <td>-0.035322</td>\n",
              "      <td>0.081629</td>\n",
              "      <td>0.257307</td>\n",
              "      <td>0.016639</td>\n",
              "    </tr>\n",
              "    <tr>\n",
              "      <th>Pclass</th>\n",
              "      <td>-0.338481</td>\n",
              "      <td>1.000000</td>\n",
              "      <td>-0.369226</td>\n",
              "      <td>0.083081</td>\n",
              "      <td>0.018443</td>\n",
              "      <td>-0.549500</td>\n",
              "      <td>0.065997</td>\n",
              "    </tr>\n",
              "    <tr>\n",
              "      <th>Age</th>\n",
              "      <td>-0.077221</td>\n",
              "      <td>-0.369226</td>\n",
              "      <td>1.000000</td>\n",
              "      <td>-0.308247</td>\n",
              "      <td>-0.189119</td>\n",
              "      <td>0.096067</td>\n",
              "      <td>-0.301914</td>\n",
              "    </tr>\n",
              "    <tr>\n",
              "      <th>SibSp</th>\n",
              "      <td>-0.035322</td>\n",
              "      <td>0.083081</td>\n",
              "      <td>-0.308247</td>\n",
              "      <td>1.000000</td>\n",
              "      <td>0.414838</td>\n",
              "      <td>0.159651</td>\n",
              "      <td>0.890712</td>\n",
              "    </tr>\n",
              "    <tr>\n",
              "      <th>Parch</th>\n",
              "      <td>0.081629</td>\n",
              "      <td>0.018443</td>\n",
              "      <td>-0.189119</td>\n",
              "      <td>0.414838</td>\n",
              "      <td>1.000000</td>\n",
              "      <td>0.216225</td>\n",
              "      <td>0.783111</td>\n",
              "    </tr>\n",
              "    <tr>\n",
              "      <th>Fare</th>\n",
              "      <td>0.257307</td>\n",
              "      <td>-0.549500</td>\n",
              "      <td>0.096067</td>\n",
              "      <td>0.159651</td>\n",
              "      <td>0.216225</td>\n",
              "      <td>1.000000</td>\n",
              "      <td>0.217138</td>\n",
              "    </tr>\n",
              "    <tr>\n",
              "      <th>Parch_SibSp</th>\n",
              "      <td>0.016639</td>\n",
              "      <td>0.065997</td>\n",
              "      <td>-0.301914</td>\n",
              "      <td>0.890712</td>\n",
              "      <td>0.783111</td>\n",
              "      <td>0.217138</td>\n",
              "      <td>1.000000</td>\n",
              "    </tr>\n",
              "  </tbody>\n",
              "</table>\n",
              "</div>\n",
              "      <button class=\"colab-df-convert\" onclick=\"convertToInteractive('df-b756067e-5f45-4d39-b76f-d0847d90e195')\"\n",
              "              title=\"Convert this dataframe to an interactive table.\"\n",
              "              style=\"display:none;\">\n",
              "        \n",
              "  <svg xmlns=\"http://www.w3.org/2000/svg\" height=\"24px\"viewBox=\"0 0 24 24\"\n",
              "       width=\"24px\">\n",
              "    <path d=\"M0 0h24v24H0V0z\" fill=\"none\"/>\n",
              "    <path d=\"M18.56 5.44l.94 2.06.94-2.06 2.06-.94-2.06-.94-.94-2.06-.94 2.06-2.06.94zm-11 1L8.5 8.5l.94-2.06 2.06-.94-2.06-.94L8.5 2.5l-.94 2.06-2.06.94zm10 10l.94 2.06.94-2.06 2.06-.94-2.06-.94-.94-2.06-.94 2.06-2.06.94z\"/><path d=\"M17.41 7.96l-1.37-1.37c-.4-.4-.92-.59-1.43-.59-.52 0-1.04.2-1.43.59L10.3 9.45l-7.72 7.72c-.78.78-.78 2.05 0 2.83L4 21.41c.39.39.9.59 1.41.59.51 0 1.02-.2 1.41-.59l7.78-7.78 2.81-2.81c.8-.78.8-2.07 0-2.86zM5.41 20L4 18.59l7.72-7.72 1.47 1.35L5.41 20z\"/>\n",
              "  </svg>\n",
              "      </button>\n",
              "      \n",
              "  <style>\n",
              "    .colab-df-container {\n",
              "      display:flex;\n",
              "      flex-wrap:wrap;\n",
              "      gap: 12px;\n",
              "    }\n",
              "\n",
              "    .colab-df-convert {\n",
              "      background-color: #E8F0FE;\n",
              "      border: none;\n",
              "      border-radius: 50%;\n",
              "      cursor: pointer;\n",
              "      display: none;\n",
              "      fill: #1967D2;\n",
              "      height: 32px;\n",
              "      padding: 0 0 0 0;\n",
              "      width: 32px;\n",
              "    }\n",
              "\n",
              "    .colab-df-convert:hover {\n",
              "      background-color: #E2EBFA;\n",
              "      box-shadow: 0px 1px 2px rgba(60, 64, 67, 0.3), 0px 1px 3px 1px rgba(60, 64, 67, 0.15);\n",
              "      fill: #174EA6;\n",
              "    }\n",
              "\n",
              "    [theme=dark] .colab-df-convert {\n",
              "      background-color: #3B4455;\n",
              "      fill: #D2E3FC;\n",
              "    }\n",
              "\n",
              "    [theme=dark] .colab-df-convert:hover {\n",
              "      background-color: #434B5C;\n",
              "      box-shadow: 0px 1px 3px 1px rgba(0, 0, 0, 0.15);\n",
              "      filter: drop-shadow(0px 1px 2px rgba(0, 0, 0, 0.3));\n",
              "      fill: #FFFFFF;\n",
              "    }\n",
              "  </style>\n",
              "\n",
              "      <script>\n",
              "        const buttonEl =\n",
              "          document.querySelector('#df-b756067e-5f45-4d39-b76f-d0847d90e195 button.colab-df-convert');\n",
              "        buttonEl.style.display =\n",
              "          google.colab.kernel.accessAllowed ? 'block' : 'none';\n",
              "\n",
              "        async function convertToInteractive(key) {\n",
              "          const element = document.querySelector('#df-b756067e-5f45-4d39-b76f-d0847d90e195');\n",
              "          const dataTable =\n",
              "            await google.colab.kernel.invokeFunction('convertToInteractive',\n",
              "                                                     [key], {});\n",
              "          if (!dataTable) return;\n",
              "\n",
              "          const docLinkHtml = 'Like what you see? Visit the ' +\n",
              "            '<a target=\"_blank\" href=https://colab.research.google.com/notebooks/data_table.ipynb>data table notebook</a>'\n",
              "            + ' to learn more about interactive tables.';\n",
              "          element.innerHTML = '';\n",
              "          dataTable['output_type'] = 'display_data';\n",
              "          await google.colab.output.renderOutput(dataTable, element);\n",
              "          const docLink = document.createElement('div');\n",
              "          docLink.innerHTML = docLinkHtml;\n",
              "          element.appendChild(docLink);\n",
              "        }\n",
              "      </script>\n",
              "    </div>\n",
              "  </div>\n",
              "  "
            ]
          },
          "metadata": {}
        },
        {
          "output_type": "execute_result",
          "data": {
            "text/plain": [
              "<matplotlib.axes._subplots.AxesSubplot at 0x7fa46bea5b90>"
            ]
          },
          "metadata": {},
          "execution_count": 21
        },
        {
          "output_type": "display_data",
          "data": {
            "text/plain": [
              "<Figure size 792x648 with 2 Axes>"
            ],
            "image/png": "[encoded data removed]"
          },
          "metadata": {}
        }
      ]
    },
    {
      "cell_type": "markdown",
      "metadata": {
        "id": "Sf74_oVTzWRn"
      },
      "source": [
        "# **Feature transformation**\n",
        "\n",
        "Transformation of nominal features to numerical features.\n",
        "\n",
        "Operations applied to both train and test datasets.\n"
      ]
    },
    {
      "cell_type": "markdown",
      "metadata": {
        "id": "FceHjlNN-sNB"
      },
      "source": [
        "* Feature Sex (str) para Sex_bin (binária)\n",
        "\n",
        "* Feature Embarked (str) para Embarked_num (numérica)\n",
        "\n",
        "* Feature Cabin_null representando valores ausentes de Cabin. \n"
      ]
    },
    {
      "cell_type": "code",
      "metadata": {
        "id": "tFbxiV6JzbJs"
      },
      "source": [
        "##Transformation of nominal features to numerical features\n",
        "def sex_to_bin(val):\n",
        "    if val=='female':\n",
        "        return 1\n",
        "    else:\n",
        "        return 0\n",
        "\n",
        "def embarked_to_num(val):\n",
        "    if val=='S':\n",
        "        return 0\n",
        "    elif val=='C':\n",
        "        return 1\n",
        "    elif val=='Q':\n",
        "        return 2\n",
        "\n",
        "train_data['Sex_bin']=train_data['Sex'].map(sex_to_bin)\n",
        "test_data['Sex_bin']=test_data['Sex'].map(sex_to_bin)\n",
        "\n",
        "train_data['Embarked_num']=train_data['Embarked'].map(embarked_to_num)\n",
        "test_data['Embarked_num']=test_data['Embarked'].map(embarked_to_num)\n",
        "\n",
        "#Booleans\n",
        "train_data['Cabin_null']=train_data['Cabin'].isnull().astype(int) \n",
        "test_data['Cabin_null']=test_data['Cabin'].isnull().astype(int)\n",
        "\n",
        "#train_data['Embarked_S']=(train_data['Embarked']=='S').astype(int) \n",
        "#test_data['Embarked_S']=(test_data['Embarked']=='S').astype(int)\n",
        "\n",
        "#train_data['Embarked_C']=(train_data['Embarked']=='C').astype(int) \n",
        "#test_data['Embarked_C']=(test_data['Embarked']=='C').astype(int) "
      ],
      "execution_count": 22,
      "outputs": []
    },
    {
      "cell_type": "markdown",
      "metadata": {
        "id": "m2rzxWlOAO7s"
      },
      "source": [
        "* Títulos existentes na feature Name utilizados como features individuais indicando possível importância de um certo passageiro.\n",
        "\n",
        "* Títulos mais frequentes usados: (' Mr. ', 517), (' Miss. ', 182), (' Mrs. ', 125), (' Master. ', 40), (' Dr. ', 7), (' Rev. ', 6)\n"
      ]
    },
    {
      "cell_type": "code",
      "metadata": {
        "colab": {
          "base_uri": "https://localhost:8080/"
        },
        "id": "xw3XevoJ_-Fa",
        "outputId": "8922ad7c-573e-4f54-e9dc-3ea0bba5fe08"
      },
      "source": [
        "##titles of names\n",
        "names=train_data['Name'].unique()\n",
        "name_re = re.compile('\\w+\\.')\n",
        "#name_pref=list(set(name_re.findall(str(names)))) #remove duplicated strings\n",
        "name_pref=[name_re.findall(str(n)) for n in names]\n",
        "dict_name_pref={}\n",
        "for n in name_pref:\n",
        "  if n[0] in dict_name_pref:\n",
        "    dict_name_pref[n[0]]+=1\n",
        "  else:\n",
        "    dict_name_pref[n[0]]=1\n",
        "name_pref=sorted(dict_name_pref.items(), key=lambda x: x[1], reverse=True)\n",
        "prefs=[]\n",
        "for n in name_pref:\n",
        "  if n[1]>1:\n",
        "    prefs.append(n)\n",
        "print(prefs)\n",
        "##[(' Mr. ', 517), (' Miss. ', 182), (' Mrs. ', 125), (' Master. ', 40), (' Dr. ', 7), (' Rev. ', 6), (' Major. ', 2), (' Mlle. ', 2), (' Col. ', 2)]\n",
        "\n",
        "train_data['Name_have_Miss']=train_data['Name'].str.contains(' Miss. ').astype(int)\n",
        "train_data['Name_have_Mrs']=train_data['Name'].str.contains(' Mrs. ').astype(int)\n",
        "\n",
        "train_data['Name_have_Mr']=train_data['Name'].str.contains(' Mr. ').astype(int)\n",
        "train_data['Name_have_Master']=train_data['Name'].str.contains(' Master. ').astype(int)\n",
        "train_data['Name_have_Dr']=train_data['Name'].str.contains(' Dr. ').astype(int)\n",
        "train_data['Name_have_Rev']=train_data['Name'].str.contains(' Rev. ').astype(int)\n",
        "\n",
        "test_data['Name_have_Miss']=test_data['Name'].str.contains(' Miss. ').astype(int)\n",
        "test_data['Name_have_Mrs']=test_data['Name'].str.contains(' Mrs. ').astype(int)\n",
        "\n",
        "test_data['Name_have_Mr']=test_data['Name'].str.contains(' Mr. ').astype(int)\n",
        "test_data['Name_have_Master']=test_data['Name'].str.contains(' Master. ').astype(int)\n",
        "test_data['Name_have_Dr']=test_data['Name'].str.contains(' Dr. ').astype(int)\n",
        "test_data['Name_have_Rev']=test_data['Name'].str.contains(' Rev. ').astype(int)"
      ],
      "execution_count": 23,
      "outputs": [
        {
          "output_type": "stream",
          "name": "stdout",
          "text": [
            "[('Mr.', 517), ('Miss.', 182), ('Mrs.', 125), ('Master.', 40), ('Dr.', 7), ('Rev.', 6), ('Major.', 2), ('Mlle.', 2), ('Col.', 2)]\n"
          ]
        }
      ]
    },
    {
      "cell_type": "markdown",
      "metadata": {
        "id": "H5Gh5dX_SwI-"
      },
      "source": [
        "# **Correlation between features II**\n"
      ]
    },
    {
      "cell_type": "code",
      "metadata": {
        "id": "PBbIWH4CS4B7",
        "colab": {
          "base_uri": "https://localhost:8080/",
          "height": 1000
        },
        "outputId": "649a7453-0e70-4f66-d038-6d222106afdd"
      },
      "source": [
        "corr=train_data.iloc[:, 1:].corr()\n",
        "display(corr)\n",
        "\n",
        "# Generate a mask for the upper triangle\n",
        "mask = np.triu(np.ones_like(corr, dtype=bool))\n",
        "# Set up the matplotlib figure\n",
        "f, ax = plt.subplots(figsize=(11, 9))\n",
        "# Generate a custom diverging colormap\n",
        "cmap = sns.diverging_palette(230, 20, as_cmap=True)\n",
        "# Draw the heatmap with the mask and correct aspect ratio\n",
        "sns.heatmap(corr, mask=mask, cmap=cmap, center=0,\n",
        "            square=True, linewidths=.5, cbar_kws={\"shrink\": .5})"
      ],
      "execution_count": 24,
      "outputs": [
        {
          "output_type": "display_data",
          "data": {
            "text/plain": [
              "                  Survived    Pclass       Age     SibSp     Parch      Fare  \\\n",
              "Survived          1.000000 -0.338481 -0.077221 -0.035322  0.081629  0.257307   \n",
              "Pclass           -0.338481  1.000000 -0.369226  0.083081  0.018443 -0.549500   \n",
              "Age              -0.077221 -0.369226  1.000000 -0.308247 -0.189119  0.096067   \n",
              "SibSp            -0.035322  0.083081 -0.308247  1.000000  0.414838  0.159651   \n",
              "Parch             0.081629  0.018443 -0.189119  0.414838  1.000000  0.216225   \n",
              "Fare              0.257307 -0.549500  0.096067  0.159651  0.216225  1.000000   \n",
              "Parch_SibSp       0.016639  0.065997 -0.301914  0.890712  0.783111  0.217138   \n",
              "Sex_bin           0.543351 -0.131900 -0.093254  0.114631  0.245489  0.182333   \n",
              "Embarked_num      0.108669  0.043835  0.012186 -0.060606 -0.079320  0.063462   \n",
              "Cabin_null       -0.316912  0.725541 -0.249732  0.040460 -0.036987 -0.482075   \n",
              "Name_have_Miss    0.327093 -0.000576 -0.276792  0.087932  0.105567  0.118271   \n",
              "Name_have_Mrs     0.339040 -0.149209  0.180278  0.063407  0.225852  0.105203   \n",
              "Name_have_Mr     -0.549199  0.142698  0.206341 -0.250489 -0.333905 -0.183766   \n",
              "Name_have_Master  0.085221  0.082081 -0.398827  0.349559  0.267344  0.010908   \n",
              "Name_have_Dr      0.008185 -0.108935  0.078008  0.003910 -0.042150  0.030395   \n",
              "Name_have_Rev    -0.064988 -0.030413  0.085407 -0.026622 -0.021967 -0.023031   \n",
              "\n",
              "                  Parch_SibSp   Sex_bin  Embarked_num  Cabin_null  \\\n",
              "Survived             0.016639  0.543351      0.108669   -0.316912   \n",
              "Pclass               0.065997 -0.131900      0.043835    0.725541   \n",
              "Age                 -0.301914 -0.093254      0.012186   -0.249732   \n",
              "SibSp                0.890712  0.114631     -0.060606    0.040460   \n",
              "Parch                0.783111  0.245489     -0.079320   -0.036987   \n",
              "Fare                 0.217138  0.182333      0.063462   -0.482075   \n",
              "Parch_SibSp          1.000000  0.200988     -0.081057    0.009175   \n",
              "Sex_bin              0.200988  1.000000      0.118593   -0.140391   \n",
              "Embarked_num        -0.081057  0.118593      1.000000   -0.016190   \n",
              "Cabin_null           0.009175 -0.140391     -0.016190    1.000000   \n",
              "Name_have_Miss       0.112838  0.686808      0.168895   -0.035314   \n",
              "Name_have_Mrs        0.156168  0.547600     -0.040411   -0.118300   \n",
              "Name_have_Mr        -0.338014 -0.867334     -0.115698    0.137319   \n",
              "Name_have_Master     0.372472 -0.159934     -0.012701    0.027841   \n",
              "Name_have_Dr        -0.018386 -0.039034      0.029316   -0.042277   \n",
              "Name_have_Rev       -0.029170 -0.060741     -0.003743    0.044868   \n",
              "\n",
              "                  Name_have_Miss  Name_have_Mrs  Name_have_Mr  \\\n",
              "Survived                0.327093       0.339040     -0.549199   \n",
              "Pclass                 -0.000576      -0.149209      0.142698   \n",
              "Age                    -0.276792       0.180278      0.206341   \n",
              "SibSp                   0.087932       0.063407     -0.250489   \n",
              "Parch                   0.105567       0.225852     -0.333905   \n",
              "Fare                    0.118271       0.105203     -0.183766   \n",
              "Parch_SibSp             0.112838       0.156168     -0.338014   \n",
              "Sex_bin                 0.686808       0.547600     -0.867334   \n",
              "Embarked_num            0.168895      -0.040411     -0.115698   \n",
              "Cabin_null             -0.035314      -0.118300      0.137319   \n",
              "Name_have_Miss          1.000000      -0.204670     -0.595692   \n",
              "Name_have_Mrs          -0.204670       1.000000     -0.474952   \n",
              "Name_have_Mr           -0.595692      -0.474952      1.000000   \n",
              "Name_have_Master       -0.109844      -0.087580     -0.254903   \n",
              "Name_have_Dr           -0.045085      -0.035947     -0.104624   \n",
              "Name_have_Rev          -0.041717      -0.033262     -0.096808   \n",
              "\n",
              "                  Name_have_Master  Name_have_Dr  Name_have_Rev  \n",
              "Survived                  0.085221      0.008185      -0.064988  \n",
              "Pclass                    0.082081     -0.108935      -0.030413  \n",
              "Age                      -0.398827      0.078008       0.085407  \n",
              "SibSp                     0.349559      0.003910      -0.026622  \n",
              "Parch                     0.267344     -0.042150      -0.021967  \n",
              "Fare                      0.010908      0.030395      -0.023031  \n",
              "Parch_SibSp               0.372472     -0.018386      -0.029170  \n",
              "Sex_bin                  -0.159934     -0.039034      -0.060741  \n",
              "Embarked_num             -0.012701      0.029316      -0.003743  \n",
              "Cabin_null                0.027841     -0.042277       0.044868  \n",
              "Name_have_Miss           -0.109844     -0.045085      -0.041717  \n",
              "Name_have_Mrs            -0.087580     -0.035947      -0.033262  \n",
              "Name_have_Mr             -0.254903     -0.104624      -0.096808  \n",
              "Name_have_Master          1.000000     -0.019292      -0.017851  \n",
              "Name_have_Dr             -0.019292      1.000000      -0.007327  \n",
              "Name_have_Rev            -0.017851     -0.007327       1.000000  "
            ],
            "text/html": [
              "\n",
              "  <div id=\"df-5bd2a829-e6b2-4a50-8c70-68ae665cf58d\">\n",
              "    <div class=\"colab-df-container\">\n",
              "      <div>\n",
              "<style scoped>\n",
              "    .dataframe tbody tr th:only-of-type {\n",
              "        vertical-align: middle;\n",
              "    }\n",
              "\n",
              "    .dataframe tbody tr th {\n",
              "        vertical-align: top;\n",
              "    }\n",
              "\n",
              "    .dataframe thead th {\n",
              "        text-align: right;\n",
              "    }\n",
              "</style>\n",
              "<table border=\"1\" class=\"dataframe\">\n",
              "  <thead>\n",
              "    <tr style=\"text-align: right;\">\n",
              "      <th></th>\n",
              "      <th>Survived</th>\n",
              "      <th>Pclass</th>\n",
              "      <th>Age</th>\n",
              "      <th>SibSp</th>\n",
              "      <th>Parch</th>\n",
              "      <th>Fare</th>\n",
              "      <th>Parch_SibSp</th>\n",
              "      <th>Sex_bin</th>\n",
              "      <th>Embarked_num</th>\n",
              "      <th>Cabin_null</th>\n",
              "      <th>Name_have_Miss</th>\n",
              "      <th>Name_have_Mrs</th>\n",
              "      <th>Name_have_Mr</th>\n",
              "      <th>Name_have_Master</th>\n",
              "      <th>Name_have_Dr</th>\n",
              "      <th>Name_have_Rev</th>\n",
              "    </tr>\n",
              "  </thead>\n",
              "  <tbody>\n",
              "    <tr>\n",
              "      <th>Survived</th>\n",
              "      <td>1.000000</td>\n",
              "      <td>-0.338481</td>\n",
              "      <td>-0.077221</td>\n",
              "      <td>-0.035322</td>\n",
              "      <td>0.081629</td>\n",
              "      <td>0.257307</td>\n",
              "      <td>0.016639</td>\n",
              "      <td>0.543351</td>\n",
              "      <td>0.108669</td>\n",
              "      <td>-0.316912</td>\n",
              "      <td>0.327093</td>\n",
              "      <td>0.339040</td>\n",
              "      <td>-0.549199</td>\n",
              "      <td>0.085221</td>\n",
              "      <td>0.008185</td>\n",
              "      <td>-0.064988</td>\n",
              "    </tr>\n",
              "    <tr>\n",
              "      <th>Pclass</th>\n",
              "      <td>-0.338481</td>\n",
              "      <td>1.000000</td>\n",
              "      <td>-0.369226</td>\n",
              "      <td>0.083081</td>\n",
              "      <td>0.018443</td>\n",
              "      <td>-0.549500</td>\n",
              "      <td>0.065997</td>\n",
              "      <td>-0.131900</td>\n",
              "      <td>0.043835</td>\n",
              "      <td>0.725541</td>\n",
              "      <td>-0.000576</td>\n",
              "      <td>-0.149209</td>\n",
              "      <td>0.142698</td>\n",
              "      <td>0.082081</td>\n",
              "      <td>-0.108935</td>\n",
              "      <td>-0.030413</td>\n",
              "    </tr>\n",
              "    <tr>\n",
              "      <th>Age</th>\n",
              "      <td>-0.077221</td>\n",
              "      <td>-0.369226</td>\n",
              "      <td>1.000000</td>\n",
              "      <td>-0.308247</td>\n",
              "      <td>-0.189119</td>\n",
              "      <td>0.096067</td>\n",
              "      <td>-0.301914</td>\n",
              "      <td>-0.093254</td>\n",
              "      <td>0.012186</td>\n",
              "      <td>-0.249732</td>\n",
              "      <td>-0.276792</td>\n",
              "      <td>0.180278</td>\n",
              "      <td>0.206341</td>\n",
              "      <td>-0.398827</td>\n",
              "      <td>0.078008</td>\n",
              "      <td>0.085407</td>\n",
              "    </tr>\n",
              "    <tr>\n",
              "      <th>SibSp</th>\n",
              "      <td>-0.035322</td>\n",
              "      <td>0.083081</td>\n",
              "      <td>-0.308247</td>\n",
              "      <td>1.000000</td>\n",
              "      <td>0.414838</td>\n",
              "      <td>0.159651</td>\n",
              "      <td>0.890712</td>\n",
              "      <td>0.114631</td>\n",
              "      <td>-0.060606</td>\n",
              "      <td>0.040460</td>\n",
              "      <td>0.087932</td>\n",
              "      <td>0.063407</td>\n",
              "      <td>-0.250489</td>\n",
              "      <td>0.349559</td>\n",
              "      <td>0.003910</td>\n",
              "      <td>-0.026622</td>\n",
              "    </tr>\n",
              "    <tr>\n",
              "      <th>Parch</th>\n",
              "      <td>0.081629</td>\n",
              "      <td>0.018443</td>\n",
              "      <td>-0.189119</td>\n",
              "      <td>0.414838</td>\n",
              "      <td>1.000000</td>\n",
              "      <td>0.216225</td>\n",
              "      <td>0.783111</td>\n",
              "      <td>0.245489</td>\n",
              "      <td>-0.079320</td>\n",
              "      <td>-0.036987</td>\n",
              "      <td>0.105567</td>\n",
              "      <td>0.225852</td>\n",
              "      <td>-0.333905</td>\n",
              "      <td>0.267344</td>\n",
              "      <td>-0.042150</td>\n",
              "      <td>-0.021967</td>\n",
              "    </tr>\n",
              "    <tr>\n",
              "      <th>Fare</th>\n",
              "      <td>0.257307</td>\n",
              "      <td>-0.549500</td>\n",
              "      <td>0.096067</td>\n",
              "      <td>0.159651</td>\n",
              "      <td>0.216225</td>\n",
              "      <td>1.000000</td>\n",
              "      <td>0.217138</td>\n",
              "      <td>0.182333</td>\n",
              "      <td>0.063462</td>\n",
              "      <td>-0.482075</td>\n",
              "      <td>0.118271</td>\n",
              "      <td>0.105203</td>\n",
              "      <td>-0.183766</td>\n",
              "      <td>0.010908</td>\n",
              "      <td>0.030395</td>\n",
              "      <td>-0.023031</td>\n",
              "    </tr>\n",
              "    <tr>\n",
              "      <th>Parch_SibSp</th>\n",
              "      <td>0.016639</td>\n",
              "      <td>0.065997</td>\n",
              "      <td>-0.301914</td>\n",
              "      <td>0.890712</td>\n",
              "      <td>0.783111</td>\n",
              "      <td>0.217138</td>\n",
              "      <td>1.000000</td>\n",
              "      <td>0.200988</td>\n",
              "      <td>-0.081057</td>\n",
              "      <td>0.009175</td>\n",
              "      <td>0.112838</td>\n",
              "      <td>0.156168</td>\n",
              "      <td>-0.338014</td>\n",
              "      <td>0.372472</td>\n",
              "      <td>-0.018386</td>\n",
              "      <td>-0.029170</td>\n",
              "    </tr>\n",
              "    <tr>\n",
              "      <th>Sex_bin</th>\n",
              "      <td>0.543351</td>\n",
              "      <td>-0.131900</td>\n",
              "      <td>-0.093254</td>\n",
              "      <td>0.114631</td>\n",
              "      <td>0.245489</td>\n",
              "      <td>0.182333</td>\n",
              "      <td>0.200988</td>\n",
              "      <td>1.000000</td>\n",
              "      <td>0.118593</td>\n",
              "      <td>-0.140391</td>\n",
              "      <td>0.686808</td>\n",
              "      <td>0.547600</td>\n",
              "      <td>-0.867334</td>\n",
              "      <td>-0.159934</td>\n",
              "      <td>-0.039034</td>\n",
              "      <td>-0.060741</td>\n",
              "    </tr>\n",
              "    <tr>\n",
              "      <th>Embarked_num</th>\n",
              "      <td>0.108669</td>\n",
              "      <td>0.043835</td>\n",
              "      <td>0.012186</td>\n",
              "      <td>-0.060606</td>\n",
              "      <td>-0.079320</td>\n",
              "      <td>0.063462</td>\n",
              "      <td>-0.081057</td>\n",
              "      <td>0.118593</td>\n",
              "      <td>1.000000</td>\n",
              "      <td>-0.016190</td>\n",
              "      <td>0.168895</td>\n",
              "      <td>-0.040411</td>\n",
              "      <td>-0.115698</td>\n",
              "      <td>-0.012701</td>\n",
              "      <td>0.029316</td>\n",
              "      <td>-0.003743</td>\n",
              "    </tr>\n",
              "    <tr>\n",
              "      <th>Cabin_null</th>\n",
              "      <td>-0.316912</td>\n",
              "      <td>0.725541</td>\n",
              "      <td>-0.249732</td>\n",
              "      <td>0.040460</td>\n",
              "      <td>-0.036987</td>\n",
              "      <td>-0.482075</td>\n",
              "      <td>0.009175</td>\n",
              "      <td>-0.140391</td>\n",
              "      <td>-0.016190</td>\n",
              "      <td>1.000000</td>\n",
              "      <td>-0.035314</td>\n",
              "      <td>-0.118300</td>\n",
              "      <td>0.137319</td>\n",
              "      <td>0.027841</td>\n",
              "      <td>-0.042277</td>\n",
              "      <td>0.044868</td>\n",
              "    </tr>\n",
              "    <tr>\n",
              "      <th>Name_have_Miss</th>\n",
              "      <td>0.327093</td>\n",
              "      <td>-0.000576</td>\n",
              "      <td>-0.276792</td>\n",
              "      <td>0.087932</td>\n",
              "      <td>0.105567</td>\n",
              "      <td>0.118271</td>\n",
              "      <td>0.112838</td>\n",
              "      <td>0.686808</td>\n",
              "      <td>0.168895</td>\n",
              "      <td>-0.035314</td>\n",
              "      <td>1.000000</td>\n",
              "      <td>-0.204670</td>\n",
              "      <td>-0.595692</td>\n",
              "      <td>-0.109844</td>\n",
              "      <td>-0.045085</td>\n",
              "      <td>-0.041717</td>\n",
              "    </tr>\n",
              "    <tr>\n",
              "      <th>Name_have_Mrs</th>\n",
              "      <td>0.339040</td>\n",
              "      <td>-0.149209</td>\n",
              "      <td>0.180278</td>\n",
              "      <td>0.063407</td>\n",
              "      <td>0.225852</td>\n",
              "      <td>0.105203</td>\n",
              "      <td>0.156168</td>\n",
              "      <td>0.547600</td>\n",
              "      <td>-0.040411</td>\n",
              "      <td>-0.118300</td>\n",
              "      <td>-0.204670</td>\n",
              "      <td>1.000000</td>\n",
              "      <td>-0.474952</td>\n",
              "      <td>-0.087580</td>\n",
              "      <td>-0.035947</td>\n",
              "      <td>-0.033262</td>\n",
              "    </tr>\n",
              "    <tr>\n",
              "      <th>Name_have_Mr</th>\n",
              "      <td>-0.549199</td>\n",
              "      <td>0.142698</td>\n",
              "      <td>0.206341</td>\n",
              "      <td>-0.250489</td>\n",
              "      <td>-0.333905</td>\n",
              "      <td>-0.183766</td>\n",
              "      <td>-0.338014</td>\n",
              "      <td>-0.867334</td>\n",
              "      <td>-0.115698</td>\n",
              "      <td>0.137319</td>\n",
              "      <td>-0.595692</td>\n",
              "      <td>-0.474952</td>\n",
              "      <td>1.000000</td>\n",
              "      <td>-0.254903</td>\n",
              "      <td>-0.104624</td>\n",
              "      <td>-0.096808</td>\n",
              "    </tr>\n",
              "    <tr>\n",
              "      <th>Name_have_Master</th>\n",
              "      <td>0.085221</td>\n",
              "      <td>0.082081</td>\n",
              "      <td>-0.398827</td>\n",
              "      <td>0.349559</td>\n",
              "      <td>0.267344</td>\n",
              "      <td>0.010908</td>\n",
              "      <td>0.372472</td>\n",
              "      <td>-0.159934</td>\n",
              "      <td>-0.012701</td>\n",
              "      <td>0.027841</td>\n",
              "      <td>-0.109844</td>\n",
              "      <td>-0.087580</td>\n",
              "      <td>-0.254903</td>\n",
              "      <td>1.000000</td>\n",
              "      <td>-0.019292</td>\n",
              "      <td>-0.017851</td>\n",
              "    </tr>\n",
              "    <tr>\n",
              "      <th>Name_have_Dr</th>\n",
              "      <td>0.008185</td>\n",
              "      <td>-0.108935</td>\n",
              "      <td>0.078008</td>\n",
              "      <td>0.003910</td>\n",
              "      <td>-0.042150</td>\n",
              "      <td>0.030395</td>\n",
              "      <td>-0.018386</td>\n",
              "      <td>-0.039034</td>\n",
              "      <td>0.029316</td>\n",
              "      <td>-0.042277</td>\n",
              "      <td>-0.045085</td>\n",
              "      <td>-0.035947</td>\n",
              "      <td>-0.104624</td>\n",
              "      <td>-0.019292</td>\n",
              "      <td>1.000000</td>\n",
              "      <td>-0.007327</td>\n",
              "    </tr>\n",
              "    <tr>\n",
              "      <th>Name_have_Rev</th>\n",
              "      <td>-0.064988</td>\n",
              "      <td>-0.030413</td>\n",
              "      <td>0.085407</td>\n",
              "      <td>-0.026622</td>\n",
              "      <td>-0.021967</td>\n",
              "      <td>-0.023031</td>\n",
              "      <td>-0.029170</td>\n",
              "      <td>-0.060741</td>\n",
              "      <td>-0.003743</td>\n",
              "      <td>0.044868</td>\n",
              "      <td>-0.041717</td>\n",
              "      <td>-0.033262</td>\n",
              "      <td>-0.096808</td>\n",
              "      <td>-0.017851</td>\n",
              "      <td>-0.007327</td>\n",
              "      <td>1.000000</td>\n",
              "    </tr>\n",
              "  </tbody>\n",
              "</table>\n",
              "</div>\n",
              "      <button class=\"colab-df-convert\" onclick=\"convertToInteractive('df-5bd2a829-e6b2-4a50-8c70-68ae665cf58d')\"\n",
              "              title=\"Convert this dataframe to an interactive table.\"\n",
              "              style=\"display:none;\">\n",
              "        \n",
              "  <svg xmlns=\"http://www.w3.org/2000/svg\" height=\"24px\"viewBox=\"0 0 24 24\"\n",
              "       width=\"24px\">\n",
              "    <path d=\"M0 0h24v24H0V0z\" fill=\"none\"/>\n",
              "    <path d=\"M18.56 5.44l.94 2.06.94-2.06 2.06-.94-2.06-.94-.94-2.06-.94 2.06-2.06.94zm-11 1L8.5 8.5l.94-2.06 2.06-.94-2.06-.94L8.5 2.5l-.94 2.06-2.06.94zm10 10l.94 2.06.94-2.06 2.06-.94-2.06-.94-.94-2.06-.94 2.06-2.06.94z\"/><path d=\"M17.41 7.96l-1.37-1.37c-.4-.4-.92-.59-1.43-.59-.52 0-1.04.2-1.43.59L10.3 9.45l-7.72 7.72c-.78.78-.78 2.05 0 2.83L4 21.41c.39.39.9.59 1.41.59.51 0 1.02-.2 1.41-.59l7.78-7.78 2.81-2.81c.8-.78.8-2.07 0-2.86zM5.41 20L4 18.59l7.72-7.72 1.47 1.35L5.41 20z\"/>\n",
              "  </svg>\n",
              "      </button>\n",
              "      \n",
              "  <style>\n",
              "    .colab-df-container {\n",
              "      display:flex;\n",
              "      flex-wrap:wrap;\n",
              "      gap: 12px;\n",
              "    }\n",
              "\n",
              "    .colab-df-convert {\n",
              "      background-color: #E8F0FE;\n",
              "      border: none;\n",
              "      border-radius: 50%;\n",
              "      cursor: pointer;\n",
              "      display: none;\n",
              "      fill: #1967D2;\n",
              "      height: 32px;\n",
              "      padding: 0 0 0 0;\n",
              "      width: 32px;\n",
              "    }\n",
              "\n",
              "    .colab-df-convert:hover {\n",
              "      background-color: #E2EBFA;\n",
              "      box-shadow: 0px 1px 2px rgba(60, 64, 67, 0.3), 0px 1px 3px 1px rgba(60, 64, 67, 0.15);\n",
              "      fill: #174EA6;\n",
              "    }\n",
              "\n",
              "    [theme=dark] .colab-df-convert {\n",
              "      background-color: #3B4455;\n",
              "      fill: #D2E3FC;\n",
              "    }\n",
              "\n",
              "    [theme=dark] .colab-df-convert:hover {\n",
              "      background-color: #434B5C;\n",
              "      box-shadow: 0px 1px 3px 1px rgba(0, 0, 0, 0.15);\n",
              "      filter: drop-shadow(0px 1px 2px rgba(0, 0, 0, 0.3));\n",
              "      fill: #FFFFFF;\n",
              "    }\n",
              "  </style>\n",
              "\n",
              "      <script>\n",
              "        const buttonEl =\n",
              "          document.querySelector('#df-5bd2a829-e6b2-4a50-8c70-68ae665cf58d button.colab-df-convert');\n",
              "        buttonEl.style.display =\n",
              "          google.colab.kernel.accessAllowed ? 'block' : 'none';\n",
              "\n",
              "        async function convertToInteractive(key) {\n",
              "          const element = document.querySelector('#df-5bd2a829-e6b2-4a50-8c70-68ae665cf58d');\n",
              "          const dataTable =\n",
              "            await google.colab.kernel.invokeFunction('convertToInteractive',\n",
              "                                                     [key], {});\n",
              "          if (!dataTable) return;\n",
              "\n",
              "          const docLinkHtml = 'Like what you see? Visit the ' +\n",
              "            '<a target=\"_blank\" href=https://colab.research.google.com/notebooks/data_table.ipynb>data table notebook</a>'\n",
              "            + ' to learn more about interactive tables.';\n",
              "          element.innerHTML = '';\n",
              "          dataTable['output_type'] = 'display_data';\n",
              "          await google.colab.output.renderOutput(dataTable, element);\n",
              "          const docLink = document.createElement('div');\n",
              "          docLink.innerHTML = docLinkHtml;\n",
              "          element.appendChild(docLink);\n",
              "        }\n",
              "      </script>\n",
              "    </div>\n",
              "  </div>\n",
              "  "
            ]
          },
          "metadata": {}
        },
        {
          "output_type": "execute_result",
          "data": {
            "text/plain": [
              "<matplotlib.axes._subplots.AxesSubplot at 0x7fa46b899490>"
            ]
          },
          "metadata": {},
          "execution_count": 24
        },
        {
          "output_type": "display_data",
          "data": {
            "text/plain": [
              "<Figure size 792x648 with 2 Axes>"
            ],
            "image/png": "[encoded data removed]"
          },
          "metadata": {}
        }
      ]
    },
    {
      "cell_type": "markdown",
      "metadata": {
        "id": "Dnt-fKRjCTQM"
      },
      "source": [
        "# **ML steps**\n",
        "\n",
        "Problema a ser resolvido: Considerando as features do dataset, predizer um dado passageiro sobreviveu (1) ou não (0) de acordo com a feature-alvo Survived.\n",
        "\n",
        "**Processo de ajuste do modelo de ML:**\n",
        "\n",
        "1. Divisão da base em treino e validação (split).\n",
        "\n",
        "2. Ajuste dos dados de treino (fit).\n",
        "\n",
        "3. Predição e cálculo da acurácia para o conjunto de validação (score).\n",
        "\n",
        "4. Predição no conjunto real de teste (prediction)."
      ]
    },
    {
      "cell_type": "markdown",
      "metadata": {
        "id": "PxZ9UrDR-8LJ"
      },
      "source": [
        "**Features para o modelo de ML:**\n",
        "\n",
        "X = Features de treino\\\n",
        "y = Feature-alvo"
      ]
    },
    {
      "cell_type": "code",
      "metadata": {
        "id": "tKV3ZrUVBfEi",
        "colab": {
          "base_uri": "https://localhost:8080/"
        },
        "outputId": "a61dd201-5415-45ec-e1ec-f8db7bdb07f9"
      },
      "source": [
        "print(train_data.columns)\n",
        "\n",
        "features = ['Pclass', 'Age', 'SibSp', 'Parch', 'Fare', 'Sex_bin', 'Embarked_num', 'Cabin_null', 'Name_have_Miss', 'Name_have_Mrs', 'Name_have_Mr', 'Name_have_Master', 'Name_have_Dr', \n",
        "             'Name_have_Rev']"
      ],
      "execution_count": 25,
      "outputs": [
        {
          "output_type": "stream",
          "name": "stdout",
          "text": [
            "Index(['PassengerId', 'Survived', 'Pclass', 'Name', 'Sex', 'Age', 'SibSp',\n",
            "       'Parch', 'Ticket', 'Fare', 'Cabin', 'Embarked', 'Parch_SibSp',\n",
            "       'Sex_bin', 'Embarked_num', 'Cabin_null', 'Name_have_Miss',\n",
            "       'Name_have_Mrs', 'Name_have_Mr', 'Name_have_Master', 'Name_have_Dr',\n",
            "       'Name_have_Rev'],\n",
            "      dtype='object')\n"
          ]
        }
      ]
    },
    {
      "cell_type": "markdown",
      "metadata": {
        "id": "pP9HkiKEzu5W"
      },
      "source": [
        "**Train Definition**\n"
      ]
    },
    {
      "cell_type": "code",
      "metadata": {
        "colab": {
          "base_uri": "https://localhost:8080/",
          "height": 310
        },
        "id": "7loQRUmCzudB",
        "outputId": "a6ac2bec-5a69-4899-e726-6a0d3aaf2a2c"
      },
      "source": [
        "X = train_data[features]\n",
        "y = train_data['Survived']\n",
        "display(X.head())\n",
        "display(y.head())"
      ],
      "execution_count": 26,
      "outputs": [
        {
          "output_type": "display_data",
          "data": {
            "text/plain": [
              "   Pclass   Age  SibSp  Parch     Fare  Sex_bin  Embarked_num  Cabin_null  \\\n",
              "0       3  22.0      1      0   7.2500        0           0.0           1   \n",
              "1       1  38.0      1      0  71.2833        1           1.0           0   \n",
              "2       3  26.0      0      0   7.9250        1           0.0           1   \n",
              "3       1  35.0      1      0  53.1000        1           0.0           0   \n",
              "4       3  35.0      0      0   8.0500        0           0.0           1   \n",
              "\n",
              "   Name_have_Miss  Name_have_Mrs  Name_have_Mr  Name_have_Master  \\\n",
              "0               0              0             1                 0   \n",
              "1               0              1             0                 0   \n",
              "2               1              0             0                 0   \n",
              "3               0              1             0                 0   \n",
              "4               0              0             1                 0   \n",
              "\n",
              "   Name_have_Dr  Name_have_Rev  \n",
              "0             0              0  \n",
              "1             0              0  \n",
              "2             0              0  \n",
              "3             0              0  \n",
              "4             0              0  "
            ],
            "text/html": [
              "\n",
              "  <div id=\"df-7c36db61-e403-48f6-a567-4daca5998f3c\">\n",
              "    <div class=\"colab-df-container\">\n",
              "      <div>\n",
              "<style scoped>\n",
              "    .dataframe tbody tr th:only-of-type {\n",
              "        vertical-align: middle;\n",
              "    }\n",
              "\n",
              "    .dataframe tbody tr th {\n",
              "        vertical-align: top;\n",
              "    }\n",
              "\n",
              "    .dataframe thead th {\n",
              "        text-align: right;\n",
              "    }\n",
              "</style>\n",
              "<table border=\"1\" class=\"dataframe\">\n",
              "  <thead>\n",
              "    <tr style=\"text-align: right;\">\n",
              "      <th></th>\n",
              "      <th>Pclass</th>\n",
              "      <th>Age</th>\n",
              "      <th>SibSp</th>\n",
              "      <th>Parch</th>\n",
              "      <th>Fare</th>\n",
              "      <th>Sex_bin</th>\n",
              "      <th>Embarked_num</th>\n",
              "      <th>Cabin_null</th>\n",
              "      <th>Name_have_Miss</th>\n",
              "      <th>Name_have_Mrs</th>\n",
              "      <th>Name_have_Mr</th>\n",
              "      <th>Name_have_Master</th>\n",
              "      <th>Name_have_Dr</th>\n",
              "      <th>Name_have_Rev</th>\n",
              "    </tr>\n",
              "  </thead>\n",
              "  <tbody>\n",
              "    <tr>\n",
              "      <th>0</th>\n",
              "      <td>3</td>\n",
              "      <td>22.0</td>\n",
              "      <td>1</td>\n",
              "      <td>0</td>\n",
              "      <td>7.2500</td>\n",
              "      <td>0</td>\n",
              "      <td>0.0</td>\n",
              "      <td>1</td>\n",
              "      <td>0</td>\n",
              "      <td>0</td>\n",
              "      <td>1</td>\n",
              "      <td>0</td>\n",
              "      <td>0</td>\n",
              "      <td>0</td>\n",
              "    </tr>\n",
              "    <tr>\n",
              "      <th>1</th>\n",
              "      <td>1</td>\n",
              "      <td>38.0</td>\n",
              "      <td>1</td>\n",
              "      <td>0</td>\n",
              "      <td>71.2833</td>\n",
              "      <td>1</td>\n",
              "      <td>1.0</td>\n",
              "      <td>0</td>\n",
              "      <td>0</td>\n",
              "      <td>1</td>\n",
              "      <td>0</td>\n",
              "      <td>0</td>\n",
              "      <td>0</td>\n",
              "      <td>0</td>\n",
              "    </tr>\n",
              "    <tr>\n",
              "      <th>2</th>\n",
              "      <td>3</td>\n",
              "      <td>26.0</td>\n",
              "      <td>0</td>\n",
              "      <td>0</td>\n",
              "      <td>7.9250</td>\n",
              "      <td>1</td>\n",
              "      <td>0.0</td>\n",
              "      <td>1</td>\n",
              "      <td>1</td>\n",
              "      <td>0</td>\n",
              "      <td>0</td>\n",
              "      <td>0</td>\n",
              "      <td>0</td>\n",
              "      <td>0</td>\n",
              "    </tr>\n",
              "    <tr>\n",
              "      <th>3</th>\n",
              "      <td>1</td>\n",
              "      <td>35.0</td>\n",
              "      <td>1</td>\n",
              "      <td>0</td>\n",
              "      <td>53.1000</td>\n",
              "      <td>1</td>\n",
              "      <td>0.0</td>\n",
              "      <td>0</td>\n",
              "      <td>0</td>\n",
              "      <td>1</td>\n",
              "      <td>0</td>\n",
              "      <td>0</td>\n",
              "      <td>0</td>\n",
              "      <td>0</td>\n",
              "    </tr>\n",
              "    <tr>\n",
              "      <th>4</th>\n",
              "      <td>3</td>\n",
              "      <td>35.0</td>\n",
              "      <td>0</td>\n",
              "      <td>0</td>\n",
              "      <td>8.0500</td>\n",
              "      <td>0</td>\n",
              "      <td>0.0</td>\n",
              "      <td>1</td>\n",
              "      <td>0</td>\n",
              "      <td>0</td>\n",
              "      <td>1</td>\n",
              "      <td>0</td>\n",
              "      <td>0</td>\n",
              "      <td>0</td>\n",
              "    </tr>\n",
              "  </tbody>\n",
              "</table>\n",
              "</div>\n",
              "      <button class=\"colab-df-convert\" onclick=\"convertToInteractive('df-7c36db61-e403-48f6-a567-4daca5998f3c')\"\n",
              "              title=\"Convert this dataframe to an interactive table.\"\n",
              "              style=\"display:none;\">\n",
              "        \n",
              "  <svg xmlns=\"http://www.w3.org/2000/svg\" height=\"24px\"viewBox=\"0 0 24 24\"\n",
              "       width=\"24px\">\n",
              "    <path d=\"M0 0h24v24H0V0z\" fill=\"none\"/>\n",
              "    <path d=\"M18.56 5.44l.94 2.06.94-2.06 2.06-.94-2.06-.94-.94-2.06-.94 2.06-2.06.94zm-11 1L8.5 8.5l.94-2.06 2.06-.94-2.06-.94L8.5 2.5l-.94 2.06-2.06.94zm10 10l.94 2.06.94-2.06 2.06-.94-2.06-.94-.94-2.06-.94 2.06-2.06.94z\"/><path d=\"M17.41 7.96l-1.37-1.37c-.4-.4-.92-.59-1.43-.59-.52 0-1.04.2-1.43.59L10.3 9.45l-7.72 7.72c-.78.78-.78 2.05 0 2.83L4 21.41c.39.39.9.59 1.41.59.51 0 1.02-.2 1.41-.59l7.78-7.78 2.81-2.81c.8-.78.8-2.07 0-2.86zM5.41 20L4 18.59l7.72-7.72 1.47 1.35L5.41 20z\"/>\n",
              "  </svg>\n",
              "      </button>\n",
              "      \n",
              "  <style>\n",
              "    .colab-df-container {\n",
              "      display:flex;\n",
              "      flex-wrap:wrap;\n",
              "      gap: 12px;\n",
              "    }\n",
              "\n",
              "    .colab-df-convert {\n",
              "      background-color: #E8F0FE;\n",
              "      border: none;\n",
              "      border-radius: 50%;\n",
              "      cursor: pointer;\n",
              "      display: none;\n",
              "      fill: #1967D2;\n",
              "      height: 32px;\n",
              "      padding: 0 0 0 0;\n",
              "      width: 32px;\n",
              "    }\n",
              "\n",
              "    .colab-df-convert:hover {\n",
              "      background-color: #E2EBFA;\n",
              "      box-shadow: 0px 1px 2px rgba(60, 64, 67, 0.3), 0px 1px 3px 1px rgba(60, 64, 67, 0.15);\n",
              "      fill: #174EA6;\n",
              "    }\n",
              "\n",
              "    [theme=dark] .colab-df-convert {\n",
              "      background-color: #3B4455;\n",
              "      fill: #D2E3FC;\n",
              "    }\n",
              "\n",
              "    [theme=dark] .colab-df-convert:hover {\n",
              "      background-color: #434B5C;\n",
              "      box-shadow: 0px 1px 3px 1px rgba(0, 0, 0, 0.15);\n",
              "      filter: drop-shadow(0px 1px 2px rgba(0, 0, 0, 0.3));\n",
              "      fill: #FFFFFF;\n",
              "    }\n",
              "  </style>\n",
              "\n",
              "      <script>\n",
              "        const buttonEl =\n",
              "          document.querySelector('#df-7c36db61-e403-48f6-a567-4daca5998f3c button.colab-df-convert');\n",
              "        buttonEl.style.display =\n",
              "          google.colab.kernel.accessAllowed ? 'block' : 'none';\n",
              "\n",
              "        async function convertToInteractive(key) {\n",
              "          const element = document.querySelector('#df-7c36db61-e403-48f6-a567-4daca5998f3c');\n",
              "          const dataTable =\n",
              "            await google.colab.kernel.invokeFunction('convertToInteractive',\n",
              "                                                     [key], {});\n",
              "          if (!dataTable) return;\n",
              "\n",
              "          const docLinkHtml = 'Like what you see? Visit the ' +\n",
              "            '<a target=\"_blank\" href=https://colab.research.google.com/notebooks/data_table.ipynb>data table notebook</a>'\n",
              "            + ' to learn more about interactive tables.';\n",
              "          element.innerHTML = '';\n",
              "          dataTable['output_type'] = 'display_data';\n",
              "          await google.colab.output.renderOutput(dataTable, element);\n",
              "          const docLink = document.createElement('div');\n",
              "          docLink.innerHTML = docLinkHtml;\n",
              "          element.appendChild(docLink);\n",
              "        }\n",
              "      </script>\n",
              "    </div>\n",
              "  </div>\n",
              "  "
            ]
          },
          "metadata": {}
        },
        {
          "output_type": "display_data",
          "data": {
            "text/plain": [
              "0    0\n",
              "1    1\n",
              "2    1\n",
              "3    1\n",
              "4    0\n",
              "Name: Survived, dtype: int64"
            ]
          },
          "metadata": {}
        }
      ]
    },
    {
      "cell_type": "markdown",
      "metadata": {
        "id": "3hvB26x_DSb-"
      },
      "source": [
        "**Test Definition**"
      ]
    },
    {
      "cell_type": "code",
      "metadata": {
        "colab": {
          "base_uri": "https://localhost:8080/",
          "height": 206
        },
        "id": "tbI4TUdBDVvw",
        "outputId": "3166b8be-f05c-4ce9-9e63-88185e9f0c68"
      },
      "source": [
        "X_test=test_data[features]\n",
        "display(X_test.head())"
      ],
      "execution_count": 27,
      "outputs": [
        {
          "output_type": "display_data",
          "data": {
            "text/plain": [
              "   Pclass   Age  SibSp  Parch     Fare  Sex_bin  Embarked_num  Cabin_null  \\\n",
              "0       3  34.5      0      0   7.8292        0             2           1   \n",
              "1       3  47.0      1      0   7.0000        1             0           1   \n",
              "2       2  62.0      0      0   9.6875        0             2           1   \n",
              "3       3  27.0      0      0   8.6625        0             0           1   \n",
              "4       3  22.0      1      1  12.2875        1             0           1   \n",
              "\n",
              "   Name_have_Miss  Name_have_Mrs  Name_have_Mr  Name_have_Master  \\\n",
              "0               0              0             1                 0   \n",
              "1               0              1             0                 0   \n",
              "2               0              0             1                 0   \n",
              "3               0              0             1                 0   \n",
              "4               0              1             0                 0   \n",
              "\n",
              "   Name_have_Dr  Name_have_Rev  \n",
              "0             0              0  \n",
              "1             0              0  \n",
              "2             0              0  \n",
              "3             0              0  \n",
              "4             0              0  "
            ],
            "text/html": [
              "\n",
              "  <div id=\"df-c108246a-b7a9-49fd-8e06-b6bc63749aa0\">\n",
              "    <div class=\"colab-df-container\">\n",
              "      <div>\n",
              "<style scoped>\n",
              "    .dataframe tbody tr th:only-of-type {\n",
              "        vertical-align: middle;\n",
              "    }\n",
              "\n",
              "    .dataframe tbody tr th {\n",
              "        vertical-align: top;\n",
              "    }\n",
              "\n",
              "    .dataframe thead th {\n",
              "        text-align: right;\n",
              "    }\n",
              "</style>\n",
              "<table border=\"1\" class=\"dataframe\">\n",
              "  <thead>\n",
              "    <tr style=\"text-align: right;\">\n",
              "      <th></th>\n",
              "      <th>Pclass</th>\n",
              "      <th>Age</th>\n",
              "      <th>SibSp</th>\n",
              "      <th>Parch</th>\n",
              "      <th>Fare</th>\n",
              "      <th>Sex_bin</th>\n",
              "      <th>Embarked_num</th>\n",
              "      <th>Cabin_null</th>\n",
              "      <th>Name_have_Miss</th>\n",
              "      <th>Name_have_Mrs</th>\n",
              "      <th>Name_have_Mr</th>\n",
              "      <th>Name_have_Master</th>\n",
              "      <th>Name_have_Dr</th>\n",
              "      <th>Name_have_Rev</th>\n",
              "    </tr>\n",
              "  </thead>\n",
              "  <tbody>\n",
              "    <tr>\n",
              "      <th>0</th>\n",
              "      <td>3</td>\n",
              "      <td>34.5</td>\n",
              "      <td>0</td>\n",
              "      <td>0</td>\n",
              "      <td>7.8292</td>\n",
              "      <td>0</td>\n",
              "      <td>2</td>\n",
              "      <td>1</td>\n",
              "      <td>0</td>\n",
              "      <td>0</td>\n",
              "      <td>1</td>\n",
              "      <td>0</td>\n",
              "      <td>0</td>\n",
              "      <td>0</td>\n",
              "    </tr>\n",
              "    <tr>\n",
              "      <th>1</th>\n",
              "      <td>3</td>\n",
              "      <td>47.0</td>\n",
              "      <td>1</td>\n",
              "      <td>0</td>\n",
              "      <td>7.0000</td>\n",
              "      <td>1</td>\n",
              "      <td>0</td>\n",
              "      <td>1</td>\n",
              "      <td>0</td>\n",
              "      <td>1</td>\n",
              "      <td>0</td>\n",
              "      <td>0</td>\n",
              "      <td>0</td>\n",
              "      <td>0</td>\n",
              "    </tr>\n",
              "    <tr>\n",
              "      <th>2</th>\n",
              "      <td>2</td>\n",
              "      <td>62.0</td>\n",
              "      <td>0</td>\n",
              "      <td>0</td>\n",
              "      <td>9.6875</td>\n",
              "      <td>0</td>\n",
              "      <td>2</td>\n",
              "      <td>1</td>\n",
              "      <td>0</td>\n",
              "      <td>0</td>\n",
              "      <td>1</td>\n",
              "      <td>0</td>\n",
              "      <td>0</td>\n",
              "      <td>0</td>\n",
              "    </tr>\n",
              "    <tr>\n",
              "      <th>3</th>\n",
              "      <td>3</td>\n",
              "      <td>27.0</td>\n",
              "      <td>0</td>\n",
              "      <td>0</td>\n",
              "      <td>8.6625</td>\n",
              "      <td>0</td>\n",
              "      <td>0</td>\n",
              "      <td>1</td>\n",
              "      <td>0</td>\n",
              "      <td>0</td>\n",
              "      <td>1</td>\n",
              "      <td>0</td>\n",
              "      <td>0</td>\n",
              "      <td>0</td>\n",
              "    </tr>\n",
              "    <tr>\n",
              "      <th>4</th>\n",
              "      <td>3</td>\n",
              "      <td>22.0</td>\n",
              "      <td>1</td>\n",
              "      <td>1</td>\n",
              "      <td>12.2875</td>\n",
              "      <td>1</td>\n",
              "      <td>0</td>\n",
              "      <td>1</td>\n",
              "      <td>0</td>\n",
              "      <td>1</td>\n",
              "      <td>0</td>\n",
              "      <td>0</td>\n",
              "      <td>0</td>\n",
              "      <td>0</td>\n",
              "    </tr>\n",
              "  </tbody>\n",
              "</table>\n",
              "</div>\n",
              "      <button class=\"colab-df-convert\" onclick=\"convertToInteractive('df-c108246a-b7a9-49fd-8e06-b6bc63749aa0')\"\n",
              "              title=\"Convert this dataframe to an interactive table.\"\n",
              "              style=\"display:none;\">\n",
              "        \n",
              "  <svg xmlns=\"http://www.w3.org/2000/svg\" height=\"24px\"viewBox=\"0 0 24 24\"\n",
              "       width=\"24px\">\n",
              "    <path d=\"M0 0h24v24H0V0z\" fill=\"none\"/>\n",
              "    <path d=\"M18.56 5.44l.94 2.06.94-2.06 2.06-.94-2.06-.94-.94-2.06-.94 2.06-2.06.94zm-11 1L8.5 8.5l.94-2.06 2.06-.94-2.06-.94L8.5 2.5l-.94 2.06-2.06.94zm10 10l.94 2.06.94-2.06 2.06-.94-2.06-.94-.94-2.06-.94 2.06-2.06.94z\"/><path d=\"M17.41 7.96l-1.37-1.37c-.4-.4-.92-.59-1.43-.59-.52 0-1.04.2-1.43.59L10.3 9.45l-7.72 7.72c-.78.78-.78 2.05 0 2.83L4 21.41c.39.39.9.59 1.41.59.51 0 1.02-.2 1.41-.59l7.78-7.78 2.81-2.81c.8-.78.8-2.07 0-2.86zM5.41 20L4 18.59l7.72-7.72 1.47 1.35L5.41 20z\"/>\n",
              "  </svg>\n",
              "      </button>\n",
              "      \n",
              "  <style>\n",
              "    .colab-df-container {\n",
              "      display:flex;\n",
              "      flex-wrap:wrap;\n",
              "      gap: 12px;\n",
              "    }\n",
              "\n",
              "    .colab-df-convert {\n",
              "      background-color: #E8F0FE;\n",
              "      border: none;\n",
              "      border-radius: 50%;\n",
              "      cursor: pointer;\n",
              "      display: none;\n",
              "      fill: #1967D2;\n",
              "      height: 32px;\n",
              "      padding: 0 0 0 0;\n",
              "      width: 32px;\n",
              "    }\n",
              "\n",
              "    .colab-df-convert:hover {\n",
              "      background-color: #E2EBFA;\n",
              "      box-shadow: 0px 1px 2px rgba(60, 64, 67, 0.3), 0px 1px 3px 1px rgba(60, 64, 67, 0.15);\n",
              "      fill: #174EA6;\n",
              "    }\n",
              "\n",
              "    [theme=dark] .colab-df-convert {\n",
              "      background-color: #3B4455;\n",
              "      fill: #D2E3FC;\n",
              "    }\n",
              "\n",
              "    [theme=dark] .colab-df-convert:hover {\n",
              "      background-color: #434B5C;\n",
              "      box-shadow: 0px 1px 3px 1px rgba(0, 0, 0, 0.15);\n",
              "      filter: drop-shadow(0px 1px 2px rgba(0, 0, 0, 0.3));\n",
              "      fill: #FFFFFF;\n",
              "    }\n",
              "  </style>\n",
              "\n",
              "      <script>\n",
              "        const buttonEl =\n",
              "          document.querySelector('#df-c108246a-b7a9-49fd-8e06-b6bc63749aa0 button.colab-df-convert');\n",
              "        buttonEl.style.display =\n",
              "          google.colab.kernel.accessAllowed ? 'block' : 'none';\n",
              "\n",
              "        async function convertToInteractive(key) {\n",
              "          const element = document.querySelector('#df-c108246a-b7a9-49fd-8e06-b6bc63749aa0');\n",
              "          const dataTable =\n",
              "            await google.colab.kernel.invokeFunction('convertToInteractive',\n",
              "                                                     [key], {});\n",
              "          if (!dataTable) return;\n",
              "\n",
              "          const docLinkHtml = 'Like what you see? Visit the ' +\n",
              "            '<a target=\"_blank\" href=https://colab.research.google.com/notebooks/data_table.ipynb>data table notebook</a>'\n",
              "            + ' to learn more about interactive tables.';\n",
              "          element.innerHTML = '';\n",
              "          dataTable['output_type'] = 'display_data';\n",
              "          await google.colab.output.renderOutput(dataTable, element);\n",
              "          const docLink = document.createElement('div');\n",
              "          docLink.innerHTML = docLinkHtml;\n",
              "          element.appendChild(docLink);\n",
              "        }\n",
              "      </script>\n",
              "    </div>\n",
              "  </div>\n",
              "  "
            ]
          },
          "metadata": {}
        }
      ]
    },
    {
      "cell_type": "markdown",
      "metadata": {
        "id": "140NCF0q0Eey"
      },
      "source": [
        "**Treat Data Missing**"
      ]
    },
    {
      "cell_type": "code",
      "metadata": {
        "id": "D9zv70XT0DLi",
        "colab": {
          "base_uri": "https://localhost:8080/"
        },
        "outputId": "890930a7-288d-45c4-faaf-f1f4a4060b70"
      },
      "source": [
        "#train\n",
        "meds=X['Age'].median()\n",
        "X['Age']=X['Age'].fillna(meds)\n",
        "X['Embarked_num']=X['Embarked_num'].fillna(X['Embarked_num'].value_counts().index[0])\n",
        "\n",
        "#test\n",
        "X_test['Age']=X_test['Age'].fillna(meds)\n",
        "X_test['Embarked_num']=X_test['Embarked_num'].fillna(X['Embarked_num'].value_counts().index[0])\n",
        "X_test['Fare']=X_test['Fare'].fillna(-1)\n"
      ],
      "execution_count": 28,
      "outputs": [
        {
          "output_type": "stream",
          "name": "stderr",
          "text": [
            "/usr/local/lib/python3.7/dist-packages/ipykernel_launcher.py:3: SettingWithCopyWarning: \n",
            "A value is trying to be set on a copy of a slice from a DataFrame.\n",
            "Try using .loc[row_indexer,col_indexer] = value instead\n",
            "\n",
            "See the caveats in the documentation: https://pandas.pydata.org/pandas-docs/stable/user_guide/indexing.html#returning-a-view-versus-a-copy\n",
            "  This is separate from the ipykernel package so we can avoid doing imports until\n",
            "/usr/local/lib/python3.7/dist-packages/ipykernel_launcher.py:4: SettingWithCopyWarning: \n",
            "A value is trying to be set on a copy of a slice from a DataFrame.\n",
            "Try using .loc[row_indexer,col_indexer] = value instead\n",
            "\n",
            "See the caveats in the documentation: https://pandas.pydata.org/pandas-docs/stable/user_guide/indexing.html#returning-a-view-versus-a-copy\n",
            "  after removing the cwd from sys.path.\n",
            "/usr/local/lib/python3.7/dist-packages/ipykernel_launcher.py:7: SettingWithCopyWarning: \n",
            "A value is trying to be set on a copy of a slice from a DataFrame.\n",
            "Try using .loc[row_indexer,col_indexer] = value instead\n",
            "\n",
            "See the caveats in the documentation: https://pandas.pydata.org/pandas-docs/stable/user_guide/indexing.html#returning-a-view-versus-a-copy\n",
            "  import sys\n",
            "/usr/local/lib/python3.7/dist-packages/ipykernel_launcher.py:8: SettingWithCopyWarning: \n",
            "A value is trying to be set on a copy of a slice from a DataFrame.\n",
            "Try using .loc[row_indexer,col_indexer] = value instead\n",
            "\n",
            "See the caveats in the documentation: https://pandas.pydata.org/pandas-docs/stable/user_guide/indexing.html#returning-a-view-versus-a-copy\n",
            "  \n",
            "/usr/local/lib/python3.7/dist-packages/ipykernel_launcher.py:9: SettingWithCopyWarning: \n",
            "A value is trying to be set on a copy of a slice from a DataFrame.\n",
            "Try using .loc[row_indexer,col_indexer] = value instead\n",
            "\n",
            "See the caveats in the documentation: https://pandas.pydata.org/pandas-docs/stable/user_guide/indexing.html#returning-a-view-versus-a-copy\n",
            "  if __name__ == '__main__':\n"
          ]
        }
      ]
    },
    {
      "cell_type": "markdown",
      "metadata": {
        "id": "J8bgBgJHCykg"
      },
      "source": [
        "# **Data split between train and validation datasets**\n",
        "\n",
        "Para o train_test_split define-se:\n",
        "(x_treino, x_teste, y_treino, y_teste)\n",
        "\n",
        "Funçã de divisão:\n",
        "train_test_split(X, y, test_size = 0.5)\n",
        "\n",
        "Onde,\n",
        "\n",
        "X -> vetor features\n",
        "\n",
        "y -> variável resposta Survived\n",
        "\n",
        "> teste_size = 0.5 -> tamanho para a base de teste (validação). A proporção entre treino e teste varia de acordo com o volume de dados disponível. Mas, usualmente, encontra-se proporções 50/50, 30/70, 25/75 ou 20/80. \n",
        "\n",
        "> Aqui, será testado com 0.5 ou 50%, o que significa que a base de treino será composta pelos 50% restantes."
      ]
    },
    {
      "cell_type": "code",
      "metadata": {
        "colab": {
          "base_uri": "https://localhost:8080/"
        },
        "id": "0lFa8ceaDn8B",
        "outputId": "a0f811c4-23db-473b-dc69-236f3dac16cc"
      },
      "source": [
        "#np.random.seed(0)\n",
        "train_X, val_X, train_y, val_y = train_test_split(X, y, test_size=0.5, stratify=y, random_state=376) #test_size=0.3, 0.2\n",
        "print(train_X.head())"
      ],
      "execution_count": 29,
      "outputs": [
        {
          "output_type": "stream",
          "name": "stdout",
          "text": [
            "     Pclass   Age  SibSp  Parch     Fare  Sex_bin  Embarked_num  Cabin_null  \\\n",
            "188       3  40.0      1      1  15.5000        0           2.0           1   \n",
            "721       3  17.0      1      0   7.0542        0           0.0           1   \n",
            "420       3  28.0      0      0   7.8958        0           1.0           1   \n",
            "767       3  30.5      0      0   7.7500        1           2.0           1   \n",
            "723       2  50.0      0      0  13.0000        0           0.0           1   \n",
            "\n",
            "     Name_have_Miss  Name_have_Mrs  Name_have_Mr  Name_have_Master  \\\n",
            "188               0              0             1                 0   \n",
            "721               0              0             1                 0   \n",
            "420               0              0             1                 0   \n",
            "767               1              0             0                 0   \n",
            "723               0              0             1                 0   \n",
            "\n",
            "     Name_have_Dr  Name_have_Rev  \n",
            "188             0              0  \n",
            "721             0              0  \n",
            "420             0              0  \n",
            "767             0              0  \n",
            "723             0              0  \n"
          ]
        }
      ]
    },
    {
      "cell_type": "markdown",
      "metadata": {
        "id": "Mkszl3bR3Sbp"
      },
      "source": [
        "# **ML model**\n",
        "\n",
        "*Datasets:*\n",
        "\n",
        "Train: train_X, train_y\n",
        "\n",
        "Validation: val_X, val_y\n",
        "\n",
        "Test: X_test"
      ]
    },
    {
      "cell_type": "markdown",
      "metadata": {
        "id": "muJa8vIAK--4"
      },
      "source": [
        "# **DummyClassifier algorithm: First Baseline**\n",
        "\n",
        "O algoritmo base DummyClassifier necessita da definição da estratégia utilizada para ajustar o modelo.\n",
        "\n",
        "DummyClassifier('most_frequent')\n",
        "\n",
        "> Será empregada a estratégia de *dados mais frequentes*: dado o valor mais frequente da variável resposta (Survived), o modelo Dummy vai inferir que todos os registros da base de dados assumem aquele valor na feature target Survived. \n",
        "\n",
        "> Predição: função *predict()*. Recebe como parâmetro a base de validação val_X.\n",
        "\n",
        "> Cálculo da acurácia: *accuracy_score function*. Recebe como parâmetros a base teste da variável resposta (val_y) e as previsões do modelo.\n",
        "\n",
        "previsao_dummy = modelo_dummy.predict(x_teste)\n",
        "accuracy_score(y_teste, previsao_dummy)\n",
        "\n",
        "> **Como acurácia, o modelo DummyClassifier atingiu 0.617 (~62% das previsões corretas).**"
      ]
    },
    {
      "cell_type": "code",
      "metadata": {
        "colab": {
          "base_uri": "https://localhost:8080/"
        },
        "id": "UgaD0JzRPn3U",
        "outputId": "6e8a5bc6-5602-4217-dbb3-f3b3154569d4"
      },
      "source": [
        "##modelo dummy 1\n",
        "modelo_dummy = DummyClassifier(random_state=376)\n",
        "modelo_dummy.fit(train_X, train_y) #treino\n",
        "previsao_dummy = modelo_dummy.predict(val_X) #predição\n",
        "accuracy_score(val_y, previsao_dummy) #cálculo de acurácia"
      ],
      "execution_count": 34,
      "outputs": [
        {
          "output_type": "execute_result",
          "data": {
            "text/plain": [
              "0.6165919282511211"
            ]
          },
          "metadata": {},
          "execution_count": 34
        }
      ]
    },
    {
      "cell_type": "markdown",
      "metadata": {
        "id": "4o6HHbk99ZwA"
      },
      "source": [
        "# **Second Baseline**\n",
        "\n",
        "Outro baseline está relacionado ao problema em questão: Sabe-se que mulheres e crianças tiveram prioridade no salvamento, confirmado pela análise prévia realizada.\n",
        "\n",
        "Com base na etapa de EDA, o segundo baseline consiste em considerar que:\n",
        "\n",
        "* Modelo dummy 2:\n",
        "1. Mulheres sobreviveram.\n",
        "\n",
        "2. Crianças menores de 15 anos sobreviveram.\n",
        "\n",
        "* Modelo dummy 3:\n",
        "\n",
        "1. Mulheres sobreviveram.\n",
        "\n",
        "2. Crianças menores de 15 anos sobreviveram.\n",
        "\n",
        "3. Homens da classe 1 e sem acompanhantes sobreviveram.\n",
        "\n",
        "4. O restante não sobreviveu.\n",
        "\n",
        "> **Como acurácia, o segundo baseline dummy 2 atingiu 0.796 (~80% das previsões corretas).**"
      ]
    },
    {
      "cell_type": "code",
      "metadata": {
        "colab": {
          "base_uri": "https://localhost:8080/"
        },
        "id": "p_SSHRhUh6fq",
        "outputId": "a998037b-7918-4d8c-a96e-c98a379443b5"
      },
      "source": [
        "##modelo dummy 2 (with only women and children)\n",
        "control_predictions=((val_X['Sex_bin']==1) | (val_X['Age']<15)).astype(np.int64)\n",
        "accuracy_score(val_y, control_predictions)"
      ],
      "execution_count": 35,
      "outputs": [
        {
          "output_type": "execute_result",
          "data": {
            "text/plain": [
              "0.7959641255605381"
            ]
          },
          "metadata": {},
          "execution_count": 35
        }
      ]
    },
    {
      "cell_type": "code",
      "metadata": {
        "colab": {
          "base_uri": "https://localhost:8080/"
        },
        "id": "RvMn2KfF9aek",
        "outputId": "a7eb4f49-8745-401c-b311-706e9157792a"
      },
      "source": [
        "##modelo dummy 3\n",
        "control_predictions=((val_X['Sex_bin']==1) | (val_X['Age']<15) | ((val_X['Sex_bin']==0) & (val_X['Pclass']==1) & (val_X['Parch']==0) & (val_X['SibSp']==0))).astype(np.int64)\n",
        "accuracy_score(val_y, control_predictions)"
      ],
      "execution_count": 36,
      "outputs": [
        {
          "output_type": "execute_result",
          "data": {
            "text/plain": [
              "0.7802690582959642"
            ]
          },
          "metadata": {},
          "execution_count": 36
        }
      ]
    },
    {
      "cell_type": "markdown",
      "metadata": {
        "id": "LCvacDSQEQy1"
      },
      "source": [
        "# **Logistic Regression algorithm**\n",
        "\n",
        "Modelo de regressão logística modelo_rlogistica com max_iter = 1000.\n",
        "\n",
        "Ajuste do modelo: modelo_rlogistica.fit(train_X, train_y)\n",
        "\n",
        "Cálculo de acurácia: função modelo_rlogistica.score(val_X, val_y)\n",
        "\n",
        "Score() quantas predições o modelo acertou na base de teste.\n",
        "\n",
        "> **Como acurácia, o modelo de regressão logística atingiu 0,823 (~82% das previsões corretas).**"
      ]
    },
    {
      "cell_type": "code",
      "metadata": {
        "colab": {
          "base_uri": "https://localhost:8080/"
        },
        "id": "zpt0eJfWFJA4",
        "outputId": "fdf44d95-bcc0-40a1-9506-c371019563fe"
      },
      "source": [
        "##modelo de regressão logística\n",
        "modelo_rlogistica = LogisticRegression(max_iter=1000, random_state=376)\n",
        "modelo_rlogistica.fit(train_X, train_y) #treino\n",
        "modelo_rlogistica.score(val_X, val_y) #predição e cálculo de acurácia"
      ],
      "execution_count": 37,
      "outputs": [
        {
          "output_type": "execute_result",
          "data": {
            "text/plain": [
              "0.8228699551569507"
            ]
          },
          "metadata": {},
          "execution_count": 37
        }
      ]
    },
    {
      "cell_type": "markdown",
      "metadata": {
        "id": "lUtF9TA3Mt92"
      },
      "source": [
        "# **Decision Tree algorithm**\n",
        "\n",
        "Modelo de árvore de decisão DecisionTreeClassifier com max_depth = 3.\n",
        "\n",
        "> **Como acurácia, o modelo de árvore de decisão atingiu 0,778 (~78% das previsões corretas).**"
      ]
    },
    {
      "cell_type": "code",
      "metadata": {
        "colab": {
          "base_uri": "https://localhost:8080/"
        },
        "id": "VUXFwJCyNAVo",
        "outputId": "cb134731-8cd6-457b-c02f-1b8d03e0a4fb"
      },
      "source": [
        "##modelo de árvore de decisão\n",
        "modelo_arvore = DecisionTreeClassifier(max_depth = 3, random_state=376)\n",
        "modelo_arvore.fit(train_X, train_y)\n",
        "modelo_arvore.score(val_X, val_y)"
      ],
      "execution_count": 38,
      "outputs": [
        {
          "output_type": "execute_result",
          "data": {
            "text/plain": [
              "0.7780269058295964"
            ]
          },
          "metadata": {},
          "execution_count": 38
        }
      ]
    },
    {
      "cell_type": "markdown",
      "metadata": {
        "id": "iPW88wmWNgPs"
      },
      "source": [
        "**Representação da árvore de decisão com profundidade 3:**"
      ]
    },
    {
      "cell_type": "code",
      "metadata": {
        "colab": {
          "base_uri": "https://localhost:8080/",
          "height": 575
        },
        "id": "5oUC_GrxNmaB",
        "outputId": "db13ddc2-2ccb-46a6-e9fa-4eaab4857bb2"
      },
      "source": [
        "fig, ax = plt.subplots(figsize=(15, 10), facecolor='k')\n",
        "tree.plot_tree(modelo_arvore,\n",
        "               ax=ax,\n",
        "               fontsize=10,\n",
        "               rounded=True,\n",
        "               filled=True,\n",
        "               feature_names=train_X.columns,\n",
        "               class_names=['Not survived', 'Survived'])\n",
        "\n",
        "plt.show()"
      ],
      "execution_count": 39,
      "outputs": [
        {
          "output_type": "display_data",
          "data": {
            "text/plain": [
              "<Figure size 1080x720 with 1 Axes>"
            ],
            "image/png": "[encoded data removed]"
          },
          "metadata": {}
        }
      ]
    },
    {
      "cell_type": "markdown",
      "metadata": {
        "id": "q9n4oXd6N1vB"
      },
      "source": [
        "**Variação como forma de otimização do parâmetro max_depth da árvore para tentar encontrar resultados melhores**\n",
        "\n",
        "Variação do max_depth dentro de um intervalo de valores: entre 1 e 30 camadas."
      ]
    },
    {
      "cell_type": "code",
      "metadata": {
        "colab": {
          "base_uri": "https://localhost:8080/"
        },
        "id": "Hs-ZMjWrOVQy",
        "outputId": "1d81ba63-b134-4422-9f71-ff0688884bb6"
      },
      "source": [
        "train=[]\n",
        "valid=[]\n",
        "for i in range(1,30):\n",
        "    modelo_arvore = DecisionTreeClassifier(max_depth = i, random_state=376)\n",
        "    modelo_arvore.fit(train_X, train_y)\n",
        "    train.append(modelo_arvore.score(train_X, train_y))\n",
        "    valid.append(modelo_arvore.score(val_X, val_y))\n",
        "  \n",
        "#comparação de acurácia\n",
        "for i in range(len(train)): \n",
        "  print('max_depth:', i+1, 'score treino:', train[i], 'score validação:', valid[i])"
      ],
      "execution_count": 40,
      "outputs": [
        {
          "output_type": "stream",
          "name": "stdout",
          "text": [
            "max_depth: 1 score treino: 0.7910112359550562 score validação: 0.7825112107623319\n",
            "max_depth: 2 score treino: 0.8 score validação: 0.773542600896861\n",
            "max_depth: 3 score treino: 0.8404494382022472 score validação: 0.7780269058295964\n",
            "max_depth: 4 score treino: 0.8561797752808988 score validação: 0.7959641255605381\n",
            "max_depth: 5 score treino: 0.8741573033707866 score validação: 0.7937219730941704\n",
            "max_depth: 6 score treino: 0.8921348314606742 score validação: 0.7847533632286996\n",
            "max_depth: 7 score treino: 0.9101123595505618 score validação: 0.7959641255605381\n",
            "max_depth: 8 score treino: 0.9258426966292135 score validação: 0.7825112107623319\n",
            "max_depth: 9 score treino: 0.9415730337078652 score validação: 0.7780269058295964\n",
            "max_depth: 10 score treino: 0.9550561797752809 score validação: 0.7914798206278026\n",
            "max_depth: 11 score treino: 0.9617977528089887 score validação: 0.7959641255605381\n",
            "max_depth: 12 score treino: 0.9730337078651685 score validação: 0.7982062780269058\n",
            "max_depth: 13 score treino: 0.9775280898876404 score validação: 0.7982062780269058\n",
            "max_depth: 14 score treino: 0.9797752808988764 score validação: 0.804932735426009\n",
            "max_depth: 15 score treino: 0.9820224719101124 score validação: 0.8004484304932735\n",
            "max_depth: 16 score treino: 0.9820224719101124 score validação: 0.8004484304932735\n",
            "max_depth: 17 score treino: 0.9820224719101124 score validação: 0.8004484304932735\n",
            "max_depth: 18 score treino: 0.9820224719101124 score validação: 0.8004484304932735\n",
            "max_depth: 19 score treino: 0.9820224719101124 score validação: 0.8004484304932735\n",
            "max_depth: 20 score treino: 0.9820224719101124 score validação: 0.8004484304932735\n",
            "max_depth: 21 score treino: 0.9820224719101124 score validação: 0.8004484304932735\n",
            "max_depth: 22 score treino: 0.9820224719101124 score validação: 0.8004484304932735\n",
            "max_depth: 23 score treino: 0.9820224719101124 score validação: 0.8004484304932735\n",
            "max_depth: 24 score treino: 0.9820224719101124 score validação: 0.8004484304932735\n",
            "max_depth: 25 score treino: 0.9820224719101124 score validação: 0.8004484304932735\n",
            "max_depth: 26 score treino: 0.9820224719101124 score validação: 0.8004484304932735\n",
            "max_depth: 27 score treino: 0.9820224719101124 score validação: 0.8004484304932735\n",
            "max_depth: 28 score treino: 0.9820224719101124 score validação: 0.8004484304932735\n",
            "max_depth: 29 score treino: 0.9820224719101124 score validação: 0.8004484304932735\n"
          ]
        }
      ]
    },
    {
      "cell_type": "markdown",
      "metadata": {
        "id": "P48akxSeQveV"
      },
      "source": [
        "**Problema de overfitting:**\n",
        "\n",
        "Observando as diferenças entre os scores de treino e teste, percebe-se que inicialmente os valores de treino e teste são muito próximos, mas conforme a profundiade da árvore aumenta, os valores de acurácia para os dados de treino aumentam muito, enquanto esses mesmos valores para os dados de teste, caem (a diferença entre eles aumenta).\n",
        "\n",
        "A medida em que o número de camadas aumenta, o modelo consegue capturar muito bem as características dos dados de treino, em particular.\n",
        "\n",
        "Em contrapartida, o modelo não consegue generalizar de forma satisfatória as características dos dados de validação, então a acurácia vai caindo em relação ao conjunto de treino ou se mantém estável.\n",
        "\n",
        "**Conforme o gráfico, o parâmetro ideal seria max_depth = 14.**"
      ]
    },
    {
      "cell_type": "code",
      "metadata": {
        "colab": {
          "base_uri": "https://localhost:8080/",
          "height": 519
        },
        "id": "0hR-JpG1QQaC",
        "outputId": "f150d340-9a9a-4bda-e92b-109aeabcd75f"
      },
      "source": [
        "plt.figure(figsize=(12, 8))\n",
        "ax=sns.lineplot(x=range(1,30), y = train, label='treino')\n",
        "ax=sns.lineplot(x=range(1,30), y = valid, label='validação')\n",
        "ax.set(xlabel='max_depth', ylabel='Score')"
      ],
      "execution_count": 41,
      "outputs": [
        {
          "output_type": "execute_result",
          "data": {
            "text/plain": [
              "[Text(0, 0.5, 'Score'), Text(0.5, 0, 'max_depth')]"
            ]
          },
          "metadata": {},
          "execution_count": 41
        },
        {
          "output_type": "display_data",
          "data": {
            "text/plain": [
              "<Figure size 864x576 with 1 Axes>"
            ],
            "image/png": "[encoded data removed]"
          },
          "metadata": {}
        }
      ]
    },
    {
      "cell_type": "markdown",
      "metadata": {
        "id": "ZTPi-RkzxBHn"
      },
      "source": [
        "Modelo de árvore de decisão DecisionTreeClassifier com max_depth = 8.\n",
        "\n",
        "> **Como acurácia, o modelo de árvore de decisão atingiu 0,805 (~81% das previsões corretas).**"
      ]
    },
    {
      "cell_type": "code",
      "metadata": {
        "colab": {
          "base_uri": "https://localhost:8080/"
        },
        "id": "-Avl1wy2Ueaw",
        "outputId": "8b0d4b34-6312-4cf4-fab7-4ec60167a0e4"
      },
      "source": [
        "modelo_arvore = DecisionTreeClassifier(max_depth = 14, random_state=376)\n",
        "modelo_arvore.fit(train_X, train_y)\n",
        "modelo_arvore.score(val_X, val_y)"
      ],
      "execution_count": 42,
      "outputs": [
        {
          "output_type": "execute_result",
          "data": {
            "text/plain": [
              "0.804932735426009"
            ]
          },
          "metadata": {},
          "execution_count": 42
        }
      ]
    },
    {
      "cell_type": "markdown",
      "metadata": {
        "id": "8rQ_c5i6D9tH"
      },
      "source": [
        "# **Random Forest algorithm**\n",
        "\n",
        "Random Forest gera várias árvores de decisão através de amostras aleatórias do conjunto de dados para, posteriormente, realizar as predições.\n",
        "\n",
        "Random Forest com n_estimators=100.\n",
        "\n",
        "> **Como acurácia, o modelo de árvore de decisão atingiu 0,814 (~81% das previsões corretas).**"
      ]
    },
    {
      "cell_type": "code",
      "metadata": {
        "colab": {
          "base_uri": "https://localhost:8080/"
        },
        "id": "whOkjRc53SoT",
        "outputId": "39694c27-d927-48cd-81a9-8847124089d5"
      },
      "source": [
        "#rf_model = RandomForestClassifier(n_estimators=100, n_jobs=-1, random_state=376)\n",
        "rf_model = RandomForestClassifier(n_estimators=100, random_state=376)\n",
        "rf_model.fit(train_X, train_y)\n",
        "rf_model.score(val_X, val_y)"
      ],
      "execution_count": 43,
      "outputs": [
        {
          "output_type": "execute_result",
          "data": {
            "text/plain": [
              "0.8139013452914798"
            ]
          },
          "metadata": {},
          "execution_count": 43
        }
      ]
    },
    {
      "cell_type": "markdown",
      "metadata": {
        "id": "Hsv0b-WTJomD"
      },
      "source": [
        "# **XGBoost algorithm**\n",
        "\n",
        "XGBoost foi idealizado para otimizar algoritmos de árvore de larga-escala.\n",
        "\n",
        "XGBoost com:\n",
        "* max_depth = 4: How deep you want to grow your tree. Beware if set to too high a number might run the risk of overfitting.\n",
        "\n",
        "* gamma = 0.9: minimum loss reduction required to make a further partition on a leaf node of the tree. The larger, the more conservative the algorithm will be.\n",
        "\n",
        "* eta: step size shrinkage used in each boosting step to prevent overfitting.\n",
        "\n",
        "> **Como acurácia, o modelo de árvore de decisão atingiu 0,836 (~84% das previsões corretas).**"
      ]
    },
    {
      "cell_type": "code",
      "metadata": {
        "colab": {
          "base_uri": "https://localhost:8080/"
        },
        "id": "Nu5M9B7iIu9_",
        "outputId": "e13297eb-0c6e-4b74-8d89-38608c4d1d9e"
      },
      "source": [
        "xgb_model = xgb.XGBClassifier(\n",
        " #learning_rate = 0.02,\n",
        " n_estimators= 2000,\n",
        " max_depth= 4,\n",
        " min_child_weight= 2,\n",
        " #gamma=1,\n",
        " gamma=0.9,                        \n",
        " subsample=0.8,\n",
        " colsample_bytree=0.8,\n",
        " objective= 'binary:logistic',\n",
        " nthread= -1,\n",
        " scale_pos_weight=1,\n",
        " random_state=376).fit(train_X, train_y)\n",
        "\n",
        "xgb_model.score(val_X, val_y)"
      ],
      "execution_count": 44,
      "outputs": [
        {
          "output_type": "execute_result",
          "data": {
            "text/plain": [
              "0.8363228699551569"
            ]
          },
          "metadata": {},
          "execution_count": 44
        }
      ]
    },
    {
      "cell_type": "markdown",
      "metadata": {
        "id": "Ldqy0cXX5ory"
      },
      "source": [
        "# **Cross Validation: *Kfold***"
      ]
    },
    {
      "cell_type": "code",
      "metadata": {
        "id": "CZeHwIrP51Ly"
      },
      "source": [
        "list_acc=[]\n",
        "\n",
        "kf=RepeatedKFold(n_splits=2, n_repeats=10, random_state=376)\n",
        "\n",
        "for l_train, l_val in kf.split(X):\n",
        "  #print(l_train.shape[0], l_val.shape[0])\n",
        "  train_X, val_X = X.iloc[l_train], X.iloc[l_val]\n",
        "  train_y, val_y = y.iloc[l_train], y.iloc[l_val]\n",
        "\n",
        "  ##train\n",
        "  #ml_model = LogisticRegression(max_iter=1000, random_state=376)\n",
        "\n",
        "  ml_model = xgb.XGBClassifier(\n",
        "  #learning_rate = 0.02,\n",
        "  n_estimators= 2000,\n",
        "  max_depth= 4,\n",
        "  min_child_weight= 2,\n",
        "  #gamma=1,\n",
        "  gamma=0.9,                        \n",
        "  subsample=0.8,\n",
        "  colsample_bytree=0.8,\n",
        "  objective= 'binary:logistic',\n",
        "  nthread= -1,\n",
        "  scale_pos_weight=1,\n",
        "  random_state=376)\n",
        "\n",
        "  ml_model.fit(train_X, train_y)\n",
        "\n",
        "  ##test and score\n",
        "  rf_val_predictions = ml_model.predict(val_X)\n",
        "  acc=ml_model.score(val_X, val_y)\n",
        "  list_acc.append(acc)\n",
        "\n",
        "#print(np.mean(list_acc), np.min(list_acc), np.max(list_acc))"
      ],
      "execution_count": 45,
      "outputs": []
    },
    {
      "cell_type": "markdown",
      "metadata": {
        "id": "2bX0qzTb5J06"
      },
      "source": [
        "**Plotting results of the Kfold validation step using the XGBoost model**\n",
        "\n",
        "> Distribution of the obtained scores for 10 runs of train and test."
      ]
    },
    {
      "cell_type": "code",
      "metadata": {
        "colab": {
          "base_uri": "https://localhost:8080/",
          "height": 424
        },
        "id": "BM1dbdH94Njs",
        "outputId": "e4c95089-e27a-4f77-9a54-244fef2fb16f"
      },
      "source": [
        "%matplotlib inline\n",
        "%pylab inline\n",
        "pylab.hist(list_acc)"
      ],
      "execution_count": 46,
      "outputs": [
        {
          "output_type": "stream",
          "name": "stdout",
          "text": [
            "Populating the interactive namespace from numpy and matplotlib\n"
          ]
        },
        {
          "output_type": "stream",
          "name": "stderr",
          "text": [
            "/usr/local/lib/python3.7/dist-packages/IPython/core/magics/pylab.py:161: UserWarning: pylab import has clobbered these variables: ['f', 'var']\n",
            "`%matplotlib` prevents importing * from pylab and numpy\n",
            "  \"\\n`%matplotlib` prevents importing * from pylab and numpy\"\n"
          ]
        },
        {
          "output_type": "execute_result",
          "data": {
            "text/plain": [
              "(array([3., 0., 1., 1., 5., 1., 3., 1., 2., 3.]),\n",
              " array([0.78426966, 0.78925077, 0.79423187, 0.79921298, 0.80419408,\n",
              "        0.80917519, 0.8141563 , 0.8191374 , 0.82411851, 0.82909961,\n",
              "        0.83408072]),\n",
              " <a list of 10 Patch objects>)"
            ]
          },
          "metadata": {},
          "execution_count": 46
        },
        {
          "output_type": "display_data",
          "data": {
            "text/plain": [
              "<Figure size 432x288 with 1 Axes>"
            ],
            "image/png": "[encoded data removed]"
          },
          "metadata": {
            "needs_background": "light"
          }
        }
      ]
    },
    {
      "cell_type": "code",
      "metadata": {
        "colab": {
          "base_uri": "https://localhost:8080/",
          "height": 265
        },
        "id": "gRUUq6yxQgru",
        "outputId": "4976ea6f-057f-4c6a-c008-21087864600c"
      },
      "source": [
        "sns.boxplot(y=list_acc)"
      ],
      "execution_count": 47,
      "outputs": [
        {
          "output_type": "execute_result",
          "data": {
            "text/plain": [
              "<matplotlib.axes._subplots.AxesSubplot at 0x7fa46c580510>"
            ]
          },
          "metadata": {},
          "execution_count": 47
        },
        {
          "output_type": "display_data",
          "data": {
            "text/plain": [
              "<Figure size 432x288 with 1 Axes>"
            ],
            "image/png": "[encoded data removed]"
          },
          "metadata": {
            "needs_background": "light"
          }
        }
      ]
    },
    {
      "cell_type": "markdown",
      "metadata": {
        "id": "KrUqoC2xXYXr"
      },
      "source": [
        "# **Error analysis of features**\n",
        "\n",
        "Comparing the predicted results with the expected output in respect of the other features."
      ]
    },
    {
      "cell_type": "code",
      "metadata": {
        "colab": {
          "base_uri": "https://localhost:8080/",
          "height": 1000
        },
        "id": "YFJgOMEmXhQ7",
        "outputId": "2a370bd5-3411-40eb-9c3e-99745bcb5248"
      },
      "source": [
        "val_X_check = train_data.iloc[l_val].copy()\n",
        "val_X_check['Prediction'] = rf_val_predictions\n",
        "#val_X_check.head()\n",
        "\n",
        "X_errors=val_X_check[val_X_check['Survived']!=val_X_check['Prediction']] #show only the errors between prediciton and expected output\n",
        "X_errors=X_errors[features+['Prediction', 'Survived']]\n",
        "display(X_errors.head())\n",
        "\n",
        "X_women=X_errors[X_errors['Sex_bin']==1]\n",
        "X_men=X_errors[X_errors['Sex_bin']==0]\n",
        "#print(X_women.sort_values('Survived'))\n",
        "print(X_men.sort_values('Survived'))\n"
      ],
      "execution_count": 48,
      "outputs": [
        {
          "output_type": "display_data",
          "data": {
            "text/plain": [
              "    Pclass   Age  SibSp  Parch     Fare  Sex_bin  Embarked_num  Cabin_null  \\\n",
              "2        3  26.0      0      0   7.9250        1           0.0           1   \n",
              "25       3  38.0      1      5  31.3875        1           0.0           1   \n",
              "35       1  42.0      1      0  52.0000        0           0.0           1   \n",
              "60       3  22.0      0      0   7.2292        0           1.0           1   \n",
              "62       1  45.0      1      0  83.4750        0           0.0           0   \n",
              "\n",
              "    Name_have_Miss  Name_have_Mrs  Name_have_Mr  Name_have_Master  \\\n",
              "2                1              0             0                 0   \n",
              "25               0              1             0                 0   \n",
              "35               0              0             1                 0   \n",
              "60               0              0             1                 0   \n",
              "62               0              0             1                 0   \n",
              "\n",
              "    Name_have_Dr  Name_have_Rev  Prediction  Survived  \n",
              "2              0              0           0         1  \n",
              "25             0              0           0         1  \n",
              "35             0              0           1         0  \n",
              "60             0              0           1         0  \n",
              "62             0              0           1         0  "
            ],
            "text/html": [
              "\n",
              "  <div id=\"df-7700cc64-d1cb-411d-8635-8ea04e5e1dd7\">\n",
              "    <div class=\"colab-df-container\">\n",
              "      <div>\n",
              "<style scoped>\n",
              "    .dataframe tbody tr th:only-of-type {\n",
              "        vertical-align: middle;\n",
              "    }\n",
              "\n",
              "    .dataframe tbody tr th {\n",
              "        vertical-align: top;\n",
              "    }\n",
              "\n",
              "    .dataframe thead th {\n",
              "        text-align: right;\n",
              "    }\n",
              "</style>\n",
              "<table border=\"1\" class=\"dataframe\">\n",
              "  <thead>\n",
              "    <tr style=\"text-align: right;\">\n",
              "      <th></th>\n",
              "      <th>Pclass</th>\n",
              "      <th>Age</th>\n",
              "      <th>SibSp</th>\n",
              "      <th>Parch</th>\n",
              "      <th>Fare</th>\n",
              "      <th>Sex_bin</th>\n",
              "      <th>Embarked_num</th>\n",
              "      <th>Cabin_null</th>\n",
              "      <th>Name_have_Miss</th>\n",
              "      <th>Name_have_Mrs</th>\n",
              "      <th>Name_have_Mr</th>\n",
              "      <th>Name_have_Master</th>\n",
              "      <th>Name_have_Dr</th>\n",
              "      <th>Name_have_Rev</th>\n",
              "      <th>Prediction</th>\n",
              "      <th>Survived</th>\n",
              "    </tr>\n",
              "  </thead>\n",
              "  <tbody>\n",
              "    <tr>\n",
              "      <th>2</th>\n",
              "      <td>3</td>\n",
              "      <td>26.0</td>\n",
              "      <td>0</td>\n",
              "      <td>0</td>\n",
              "      <td>7.9250</td>\n",
              "      <td>1</td>\n",
              "      <td>0.0</td>\n",
              "      <td>1</td>\n",
              "      <td>1</td>\n",
              "      <td>0</td>\n",
              "      <td>0</td>\n",
              "      <td>0</td>\n",
              "      <td>0</td>\n",
              "      <td>0</td>\n",
              "      <td>0</td>\n",
              "      <td>1</td>\n",
              "    </tr>\n",
              "    <tr>\n",
              "      <th>25</th>\n",
              "      <td>3</td>\n",
              "      <td>38.0</td>\n",
              "      <td>1</td>\n",
              "      <td>5</td>\n",
              "      <td>31.3875</td>\n",
              "      <td>1</td>\n",
              "      <td>0.0</td>\n",
              "      <td>1</td>\n",
              "      <td>0</td>\n",
              "      <td>1</td>\n",
              "      <td>0</td>\n",
              "      <td>0</td>\n",
              "      <td>0</td>\n",
              "      <td>0</td>\n",
              "      <td>0</td>\n",
              "      <td>1</td>\n",
              "    </tr>\n",
              "    <tr>\n",
              "      <th>35</th>\n",
              "      <td>1</td>\n",
              "      <td>42.0</td>\n",
              "      <td>1</td>\n",
              "      <td>0</td>\n",
              "      <td>52.0000</td>\n",
              "      <td>0</td>\n",
              "      <td>0.0</td>\n",
              "      <td>1</td>\n",
              "      <td>0</td>\n",
              "      <td>0</td>\n",
              "      <td>1</td>\n",
              "      <td>0</td>\n",
              "      <td>0</td>\n",
              "      <td>0</td>\n",
              "      <td>1</td>\n",
              "      <td>0</td>\n",
              "    </tr>\n",
              "    <tr>\n",
              "      <th>60</th>\n",
              "      <td>3</td>\n",
              "      <td>22.0</td>\n",
              "      <td>0</td>\n",
              "      <td>0</td>\n",
              "      <td>7.2292</td>\n",
              "      <td>0</td>\n",
              "      <td>1.0</td>\n",
              "      <td>1</td>\n",
              "      <td>0</td>\n",
              "      <td>0</td>\n",
              "      <td>1</td>\n",
              "      <td>0</td>\n",
              "      <td>0</td>\n",
              "      <td>0</td>\n",
              "      <td>1</td>\n",
              "      <td>0</td>\n",
              "    </tr>\n",
              "    <tr>\n",
              "      <th>62</th>\n",
              "      <td>1</td>\n",
              "      <td>45.0</td>\n",
              "      <td>1</td>\n",
              "      <td>0</td>\n",
              "      <td>83.4750</td>\n",
              "      <td>0</td>\n",
              "      <td>0.0</td>\n",
              "      <td>0</td>\n",
              "      <td>0</td>\n",
              "      <td>0</td>\n",
              "      <td>1</td>\n",
              "      <td>0</td>\n",
              "      <td>0</td>\n",
              "      <td>0</td>\n",
              "      <td>1</td>\n",
              "      <td>0</td>\n",
              "    </tr>\n",
              "  </tbody>\n",
              "</table>\n",
              "</div>\n",
              "      <button class=\"colab-df-convert\" onclick=\"convertToInteractive('df-7700cc64-d1cb-411d-8635-8ea04e5e1dd7')\"\n",
              "              title=\"Convert this dataframe to an interactive table.\"\n",
              "              style=\"display:none;\">\n",
              "        \n",
              "  <svg xmlns=\"http://www.w3.org/2000/svg\" height=\"24px\"viewBox=\"0 0 24 24\"\n",
              "       width=\"24px\">\n",
              "    <path d=\"M0 0h24v24H0V0z\" fill=\"none\"/>\n",
              "    <path d=\"M18.56 5.44l.94 2.06.94-2.06 2.06-.94-2.06-.94-.94-2.06-.94 2.06-2.06.94zm-11 1L8.5 8.5l.94-2.06 2.06-.94-2.06-.94L8.5 2.5l-.94 2.06-2.06.94zm10 10l.94 2.06.94-2.06 2.06-.94-2.06-.94-.94-2.06-.94 2.06-2.06.94z\"/><path d=\"M17.41 7.96l-1.37-1.37c-.4-.4-.92-.59-1.43-.59-.52 0-1.04.2-1.43.59L10.3 9.45l-7.72 7.72c-.78.78-.78 2.05 0 2.83L4 21.41c.39.39.9.59 1.41.59.51 0 1.02-.2 1.41-.59l7.78-7.78 2.81-2.81c.8-.78.8-2.07 0-2.86zM5.41 20L4 18.59l7.72-7.72 1.47 1.35L5.41 20z\"/>\n",
              "  </svg>\n",
              "      </button>\n",
              "      \n",
              "  <style>\n",
              "    .colab-df-container {\n",
              "      display:flex;\n",
              "      flex-wrap:wrap;\n",
              "      gap: 12px;\n",
              "    }\n",
              "\n",
              "    .colab-df-convert {\n",
              "      background-color: #E8F0FE;\n",
              "      border: none;\n",
              "      border-radius: 50%;\n",
              "      cursor: pointer;\n",
              "      display: none;\n",
              "      fill: #1967D2;\n",
              "      height: 32px;\n",
              "      padding: 0 0 0 0;\n",
              "      width: 32px;\n",
              "    }\n",
              "\n",
              "    .colab-df-convert:hover {\n",
              "      background-color: #E2EBFA;\n",
              "      box-shadow: 0px 1px 2px rgba(60, 64, 67, 0.3), 0px 1px 3px 1px rgba(60, 64, 67, 0.15);\n",
              "      fill: #174EA6;\n",
              "    }\n",
              "\n",
              "    [theme=dark] .colab-df-convert {\n",
              "      background-color: #3B4455;\n",
              "      fill: #D2E3FC;\n",
              "    }\n",
              "\n",
              "    [theme=dark] .colab-df-convert:hover {\n",
              "      background-color: #434B5C;\n",
              "      box-shadow: 0px 1px 3px 1px rgba(0, 0, 0, 0.15);\n",
              "      filter: drop-shadow(0px 1px 2px rgba(0, 0, 0, 0.3));\n",
              "      fill: #FFFFFF;\n",
              "    }\n",
              "  </style>\n",
              "\n",
              "      <script>\n",
              "        const buttonEl =\n",
              "          document.querySelector('#df-7700cc64-d1cb-411d-8635-8ea04e5e1dd7 button.colab-df-convert');\n",
              "        buttonEl.style.display =\n",
              "          google.colab.kernel.accessAllowed ? 'block' : 'none';\n",
              "\n",
              "        async function convertToInteractive(key) {\n",
              "          const element = document.querySelector('#df-7700cc64-d1cb-411d-8635-8ea04e5e1dd7');\n",
              "          const dataTable =\n",
              "            await google.colab.kernel.invokeFunction('convertToInteractive',\n",
              "                                                     [key], {});\n",
              "          if (!dataTable) return;\n",
              "\n",
              "          const docLinkHtml = 'Like what you see? Visit the ' +\n",
              "            '<a target=\"_blank\" href=https://colab.research.google.com/notebooks/data_table.ipynb>data table notebook</a>'\n",
              "            + ' to learn more about interactive tables.';\n",
              "          element.innerHTML = '';\n",
              "          dataTable['output_type'] = 'display_data';\n",
              "          await google.colab.output.renderOutput(dataTable, element);\n",
              "          const docLink = document.createElement('div');\n",
              "          docLink.innerHTML = docLinkHtml;\n",
              "          element.appendChild(docLink);\n",
              "        }\n",
              "      </script>\n",
              "    </div>\n",
              "  </div>\n",
              "  "
            ]
          },
          "metadata": {}
        },
        {
          "output_type": "stream",
          "name": "stdout",
          "text": [
            "     Pclass   Age  SibSp  Parch      Fare  Sex_bin  Embarked_num  Cabin_null  \\\n",
            "35        1  42.0      1      0   52.0000        0           0.0           1   \n",
            "339       1  45.0      0      0   35.5000        0           0.0           0   \n",
            "372       3  19.0      0      0    8.0500        0           0.0           1   \n",
            "422       3  29.0      0      0    7.8750        0           0.0           1   \n",
            "462       1  47.0      0      0   38.5000        0           0.0           0   \n",
            "475       1   NaN      0      0   52.0000        0           0.0           0   \n",
            "536       1  45.0      0      0   26.5500        0           0.0           0   \n",
            "332       1  38.0      0      1  153.4625        0           0.0           0   \n",
            "583       1  36.0      0      0   40.1250        0           1.0           0   \n",
            "693       3  25.0      0      0    7.2250        0           1.0           1   \n",
            "713       3  29.0      0      0    9.4833        0           0.0           1   \n",
            "741       1  36.0      1      0   78.8500        0           0.0           0   \n",
            "748       1  19.0      1      0   53.1000        0           0.0           0   \n",
            "782       1  29.0      0      0   30.0000        0           0.0           0   \n",
            "789       1  46.0      0      0   79.2000        0           1.0           0   \n",
            "671       1  31.0      1      0   52.0000        0           0.0           0   \n",
            "331       1  45.5      0      0   28.5000        0           0.0           0   \n",
            "886       2  27.0      0      0   13.0000        0           0.0           1   \n",
            "296       3  23.5      0      0    7.2292        0           1.0           1   \n",
            "139       1  24.0      0      0   79.2000        0           1.0           0   \n",
            "137       1  37.0      1      0   53.1000        0           0.0           0   \n",
            "118       1  24.0      0      1  247.5208        0           1.0           0   \n",
            "110       1  47.0      0      0   52.0000        0           0.0           0   \n",
            "245       1  44.0      2      0   90.0000        0           2.0           0   \n",
            "92        1  46.0      1      0   61.1750        0           0.0           0   \n",
            "231       3  29.0      0      0    7.7750        0           0.0           1   \n",
            "60        3  22.0      0      0    7.2292        0           1.0           1   \n",
            "273       1  37.0      0      1   29.7000        0           1.0           0   \n",
            "62        1  45.0      1      0   83.4750        0           0.0           0   \n",
            "804       3  27.0      0      0    6.9750        0           0.0           1   \n",
            "645       1  48.0      1      0   76.7292        0           1.0           0   \n",
            "744       3  31.0      0      0    7.9250        0           0.0           1   \n",
            "821       3  27.0      0      0    8.6625        0           0.0           1   \n",
            "828       3   NaN      0      0    7.7500        0           2.0           1   \n",
            "839       1   NaN      0      0   29.7000        0           1.0           0   \n",
            "692       3   NaN      0      0   56.4958        0           0.0           1   \n",
            "673       2  31.0      0      0   13.0000        0           0.0           1   \n",
            "664       3  20.0      1      0    7.9250        0           0.0           1   \n",
            "660       1  50.0      2      0  133.6500        0           0.0           1   \n",
            "643       3   NaN      0      0   56.4958        0           0.0           1   \n",
            "587       1  60.0      1      1   79.2000        0           1.0           0   \n",
            "301       3   NaN      2      0   23.2500        0           2.0           1   \n",
            "338       3  45.0      0      0    8.0500        0           0.0           1   \n",
            "271       3  25.0      0      0    0.0000        0           0.0           1   \n",
            "267       3  25.0      1      0    7.7750        0           0.0           1   \n",
            "391       3  21.0      0      0    7.7958        0           0.0           1   \n",
            "400       3  39.0      0      0    7.9250        0           0.0           1   \n",
            "261       3   3.0      4      2   31.3875        0           0.0           1   \n",
            "453       1  49.0      1      0   89.1042        0           1.0           0   \n",
            "622       3  20.0      1      1   15.7417        0           1.0           1   \n",
            "857       1  51.0      0      0   26.5500        0           0.0           0   \n",
            "226       2  19.0      0      0   10.5000        0           0.0           1   \n",
            "543       2  32.0      1      0   26.0000        0           0.0           1   \n",
            "547       2   NaN      0      0   13.8625        0           1.0           1   \n",
            "550       1  17.0      0      2  110.8833        0           1.0           0   \n",
            "570       2  62.0      0      0   10.5000        0           0.0           1   \n",
            "579       3  32.0      0      0    7.9250        0           0.0           1   \n",
            "220       3  16.0      0      0    8.0500        0           0.0           1   \n",
            "510       3  29.0      0      0    7.7500        0           2.0           1   \n",
            "484       1  25.0      1      0   91.0792        0           1.0           0   \n",
            "\n",
            "     Name_have_Miss  Name_have_Mrs  Name_have_Mr  Name_have_Master  \\\n",
            "35                0              0             1                 0   \n",
            "339               0              0             1                 0   \n",
            "372               0              0             1                 0   \n",
            "422               0              0             1                 0   \n",
            "462               0              0             1                 0   \n",
            "475               0              0             1                 0   \n",
            "536               0              0             0                 0   \n",
            "332               0              0             1                 0   \n",
            "583               0              0             1                 0   \n",
            "693               0              0             1                 0   \n",
            "713               0              0             1                 0   \n",
            "741               0              0             1                 0   \n",
            "748               0              0             1                 0   \n",
            "782               0              0             1                 0   \n",
            "789               0              0             1                 0   \n",
            "671               0              0             1                 0   \n",
            "331               0              0             1                 0   \n",
            "886               0              0             0                 0   \n",
            "296               0              0             1                 0   \n",
            "139               0              0             1                 0   \n",
            "137               0              0             1                 0   \n",
            "118               0              0             1                 0   \n",
            "110               0              0             1                 0   \n",
            "245               0              0             0                 0   \n",
            "92                0              0             1                 0   \n",
            "231               0              0             1                 0   \n",
            "60                0              0             1                 0   \n",
            "273               0              0             1                 0   \n",
            "62                0              0             1                 0   \n",
            "804               0              0             1                 0   \n",
            "645               0              0             1                 0   \n",
            "744               0              0             1                 0   \n",
            "821               0              0             1                 0   \n",
            "828               0              0             1                 0   \n",
            "839               0              0             1                 0   \n",
            "692               0              0             1                 0   \n",
            "673               0              0             1                 0   \n",
            "664               0              0             1                 0   \n",
            "660               0              0             0                 0   \n",
            "643               0              0             1                 0   \n",
            "587               0              0             1                 0   \n",
            "301               0              0             1                 0   \n",
            "338               0              0             1                 0   \n",
            "271               0              0             1                 0   \n",
            "267               0              0             1                 0   \n",
            "391               0              0             1                 0   \n",
            "400               0              0             1                 0   \n",
            "261               0              0             0                 1   \n",
            "453               0              0             1                 0   \n",
            "622               0              0             1                 0   \n",
            "857               0              0             1                 0   \n",
            "226               0              0             1                 0   \n",
            "543               0              0             1                 0   \n",
            "547               0              0             1                 0   \n",
            "550               0              0             1                 0   \n",
            "570               0              0             1                 0   \n",
            "579               0              0             1                 0   \n",
            "220               0              0             1                 0   \n",
            "510               0              0             1                 0   \n",
            "484               0              0             1                 0   \n",
            "\n",
            "     Name_have_Dr  Name_have_Rev  Prediction  Survived  \n",
            "35              0              0           1         0  \n",
            "339             0              0           1         0  \n",
            "372             0              0           1         0  \n",
            "422             0              0           1         0  \n",
            "462             0              0           1         0  \n",
            "475             0              0           1         0  \n",
            "536             0              0           1         0  \n",
            "332             0              0           1         0  \n",
            "583             0              0           1         0  \n",
            "693             0              0           1         0  \n",
            "713             0              0           1         0  \n",
            "741             0              0           1         0  \n",
            "748             0              0           1         0  \n",
            "782             0              0           1         0  \n",
            "789             0              0           1         0  \n",
            "671             0              0           1         0  \n",
            "331             0              0           1         0  \n",
            "886             0              1           1         0  \n",
            "296             0              0           1         0  \n",
            "139             0              0           1         0  \n",
            "137             0              0           1         0  \n",
            "118             0              0           1         0  \n",
            "110             0              0           1         0  \n",
            "245             1              0           1         0  \n",
            "92              0              0           1         0  \n",
            "231             0              0           1         0  \n",
            "60              0              0           1         0  \n",
            "273             0              0           1         0  \n",
            "62              0              0           1         0  \n",
            "804             0              0           0         1  \n",
            "645             0              0           0         1  \n",
            "744             0              0           0         1  \n",
            "821             0              0           0         1  \n",
            "828             0              0           0         1  \n",
            "839             0              0           0         1  \n",
            "692             0              0           0         1  \n",
            "673             0              0           0         1  \n",
            "664             0              0           0         1  \n",
            "660             1              0           0         1  \n",
            "643             0              0           0         1  \n",
            "587             0              0           0         1  \n",
            "301             0              0           0         1  \n",
            "338             0              0           0         1  \n",
            "271             0              0           0         1  \n",
            "267             0              0           0         1  \n",
            "391             0              0           0         1  \n",
            "400             0              0           0         1  \n",
            "261             0              0           0         1  \n",
            "453             0              0           0         1  \n",
            "622             0              0           0         1  \n",
            "857             0              0           0         1  \n",
            "226             0              0           0         1  \n",
            "543             0              0           0         1  \n",
            "547             0              0           0         1  \n",
            "550             0              0           0         1  \n",
            "570             0              0           0         1  \n",
            "579             0              0           0         1  \n",
            "220             0              0           0         1  \n",
            "510             0              0           0         1  \n",
            "484             0              0           0         1  \n"
          ]
        }
      ]
    },
    {
      "cell_type": "markdown",
      "metadata": {
        "id": "9i5MLpMdA75q"
      },
      "source": [
        "# **Test step**\n",
        "\n",
        "Including the entire train and test sets with XGBoost algorithm."
      ]
    },
    {
      "cell_type": "code",
      "metadata": {
        "id": "TQAruRFmA-Wo"
      },
      "source": [
        "##training\n",
        "ml_model = xgb.XGBClassifier(\n",
        " #learning_rate = 0.02,\n",
        " n_estimators= 2000,\n",
        " max_depth= 4,\n",
        " min_child_weight= 2,\n",
        " #gamma=1,\n",
        " gamma=0.9,                        \n",
        " subsample=0.8,\n",
        " colsample_bytree=0.8,\n",
        " objective= 'binary:logistic',\n",
        " nthread= -1,\n",
        " scale_pos_weight=1,\n",
        " random_state=376)\n",
        "\n",
        "ml_model.fit(X, y)\n",
        "xgb_val_predictions = ml_model.predict(X_test)\n"
      ],
      "execution_count": 49,
      "outputs": []
    },
    {
      "cell_type": "markdown",
      "metadata": {
        "id": "CJWAMBUkdX0O"
      },
      "source": [
        "# **Test step with ensemble**\n",
        "\n",
        "Modelo de ensemble consiste em um algoritmo que reúne diferentes modelos de ML para prever algum resultado, usando algoritmos de modelagem diferentes ou diferentes conjuntos de dados de treinamento. \n",
        "\n",
        "O ensemble agrega a previsão de cada modelo, gerando uma previsão final. A motivação para usar modelos de ensemble de ML é reduzir o erro de generalização da previsão. Desde que os modelos de base sejam diversos e independentes, o erro de predição do modelo diminui quando o modelo de ennsemble é empregado. \n",
        "\n",
        "A abordagem busca o consenso das massas ao fazer uma previsão. Mesmo que o ensemble englobe vários algoritmos de ML, este atuará como um único modelo. A maioria das soluções práticas de ML utiliza técnicas de ensemble.\n",
        "\n",
        "**Ensemble ML model with Logistic Regression (w=0.3), Random Forest (w=0.3) and XGBoost (w=0.4).**"
      ]
    },
    {
      "cell_type": "code",
      "metadata": {
        "id": "NSn1qAEkdAwS"
      },
      "source": [
        "#ml_model = DecisionTreeClassifier(max_depth = 3, random_state=376)\n",
        "\n",
        "ml_model = RandomForestClassifier(n_estimators=100, random_state=376)\n",
        "ml_model.fit(X, y)\n",
        "rf_predictions = ml_model.predict(X_test)\n",
        "\n",
        "ml_model = LogisticRegression(max_iter=1000, random_state=376)\n",
        "ml_model.fit(X, y)\n",
        "lr_predictions = ml_model.predict(X_test)\n",
        "\n",
        "ml_model = xgb.XGBClassifier(\n",
        " #learning_rate = 0.02,\n",
        " n_estimators= 2000,\n",
        " max_depth= 4,\n",
        " min_child_weight= 2,\n",
        " #gamma=1,\n",
        " gamma=0.9,                        \n",
        " subsample=0.8,\n",
        " colsample_bytree=0.8,\n",
        " objective= 'binary:logistic',\n",
        " nthread= -1,\n",
        " scale_pos_weight=1,\n",
        " random_state=376)\n",
        "\n",
        "ml_model.fit(X, y)\n",
        "xgb_predictions = ml_model.predict(X_test)\n",
        "\n",
        "ml_val_predictions=0.3*rf_predictions+0.3*lr_predictions+0.4*xgb_predictions\n",
        "ml_val_predictions=[(lambda x:1 if x>=0.5 else 0)(x) for x in ml_val_predictions]"
      ],
      "execution_count": 50,
      "outputs": []
    },
    {
      "cell_type": "markdown",
      "metadata": {
        "id": "0fUyHIGW3ovC"
      },
      "source": [
        "**Save predictions in format used for Titanic competition scoring**"
      ]
    },
    {
      "cell_type": "code",
      "metadata": {
        "id": "_-zb3NwE3o4X",
        "colab": {
          "base_uri": "https://localhost:8080/"
        },
        "outputId": "11e7e2da-3e1d-42ce-e094-775cd5102914"
      },
      "source": [
        "output = pd.DataFrame({'PassengerId': test_data.PassengerId,\n",
        "                       'Survived': ml_val_predictions})\n",
        "\n",
        "#output = pd.Series(rf_val_predictions, index=test_data['PassengerId'], name='Survived')\n",
        "\n",
        "output.to_csv('submission.csv', header=True, index=False)\n",
        "!head -n10 submission.csv\n",
        "#files.download('submission.csv')"
      ],
      "execution_count": 51,
      "outputs": [
        {
          "output_type": "stream",
          "name": "stdout",
          "text": [
            "PassengerId,Survived\n",
            "892,0\n",
            "893,0\n",
            "894,0\n",
            "895,0\n",
            "896,1\n",
            "897,0\n",
            "898,0\n",
            "899,0\n",
            "900,1\n"
          ]
        }
      ]
    }
  ]
}